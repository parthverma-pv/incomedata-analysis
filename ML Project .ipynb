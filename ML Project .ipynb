{
 "cells": [
  {
   "attachments": {},
   "cell_type": "markdown",
   "metadata": {},
   "source": [
    "# **Adult Income Census**"
   ]
  },
  {
   "attachments": {},
   "cell_type": "markdown",
   "metadata": {},
   "source": [
    "## <b>1. Dataset Description</b>\n",
    "This data was extracted from the 1994 Census bureau database by Ronny Kohavi and Barry Becker (Data Mining and Visualization, Silicon Graphics). A set of reasonably clean records was extracted using the following conditions: ((AAGE>16) && (AGI>100) && (AFNLWGT>1) && (HRSWK>0)). \n",
    "### Aim\n",
    "The prediction task is to determine whether a person makes over $50K a year.\n"
   ]
  },
  {
   "attachments": {},
   "cell_type": "markdown",
   "metadata": {},
   "source": [
    "### Input Variables\n",
    "\n",
    "1. Age: Describes the age of individuals. Continuous.\n",
    "2. Workclass: Private, Self-emp-not-inc, Self-emp-inc, Federal-gov, Local-gov, State-gov, Without-pay, Never-worked.\n",
    "3. fnlwgt: Continuous.\n",
    "4. education: Bachelors, Some-college, 11th, HS-grad, Prof-school, Assoc-acdm, Assoc-voc, 9th, 7th-8th, 12th, Masters, 1st-4th, 10th, Doctorate, 5th-6th, Preschool.\n",
    "5. education-num: Number of years spent in education. Continuous.\n",
    "6. marital-status: Married-civ-spouse, Divorced, Never-married, Separated, Widowed, Married-spouse-absent, Married-AF-spouse.\n",
    "7. occupation: Tech-support, Craft-repair, Other-service, Sales, Exec-managerial, Prof-specialty, Handlers-cleaners, Machine-op-inspct, Adm-clerical, Farming-fishing, Transport-moving, Priv-house-serv, Protective-serv, Armed-Forces.\n",
    "8. relationship: Wife, Own-child, Husband, Not-in-family, Other-relative, Unmarried.\n",
    "9. race: White, Asian-Pac-Islander, Amer-Indian-Eskimo, Other, Black.\n",
    "10. sex: Female, Male.\n",
    "11. capital-gain: Continuous.\n",
    "12. capital-loss: Continuous.\n",
    "13. hours-per-week: Continuous.\n",
    "14. native-country: United-States, Cambodia, England, Puerto-Rico, Canada, Germany, Outlying-US(Guam-USVI-etc), India, Japan, Greece, South, China, Cuba, Iran, Honduras, Philippines, Italy, Poland, Jamaica, Vietnam, Mexico, Portugal, Ireland, France, Dominican-Republic, Laos, Ecuador, Taiwan, Haiti, Columbia, Hungary, Guatemala, Nicaragua, Scotland, Thailand, Yugoslavia, El-Salvador, Trinadad&Tobago, Peru, Hong, Holand-Netherlands.\n",
    "15. income: >50K,<=50K\n",
    "\n"
   ]
  },
  {
   "attachments": {},
   "cell_type": "markdown",
   "metadata": {},
   "source": [
    "## <b>2. Exploratory Data Analysis</b>"
   ]
  },
  {
   "attachments": {},
   "cell_type": "markdown",
   "metadata": {},
   "source": [
    "### 2.1 Importing Libraries and Dataset"
   ]
  },
  {
   "attachments": {},
   "cell_type": "markdown",
   "metadata": {},
   "source": [
    "##### Importing Required Libraries"
   ]
  },
  {
   "cell_type": "code",
   "execution_count": 43,
   "metadata": {},
   "outputs": [],
   "source": [
    "# Generic Data handling Libraries\n",
    "import pandas as pd\n",
    "import numpy as np\n",
    "\n",
    "# Graph plotting Libraries\n",
    "import seaborn as sns\n",
    "import matplotlib.pyplot as plt\n",
    "import plotly.express as px\n",
    "\n",
    "# Sklearn Libraries for model building\n",
    "from sklearn.preprocessing import LabelEncoder\n",
    "from sklearn.preprocessing import StandardScaler\n",
    "from sklearn.model_selection import KFold\n",
    "from sklearn.neighbors import KNeighborsClassifier\n",
    "from sklearn.tree import DecisionTreeClassifier\n",
    "from sklearn.linear_model import LogisticRegression\n",
    "from sklearn.naive_bayes import GaussianNB\n",
    "from sklearn.metrics import confusion_matrix, ConfusionMatrixDisplay"
   ]
  },
  {
   "attachments": {},
   "cell_type": "markdown",
   "metadata": {},
   "source": [
    "##### Loading the Dataset"
   ]
  },
  {
   "cell_type": "code",
   "execution_count": 44,
   "metadata": {},
   "outputs": [],
   "source": [
    "df_original = pd.read_csv('adult.data',names=['age','workclass','fnlwgt','education','education_years','marital_status','occupation','relationship','race','sex','capital_gain','capital_loss','hours_per_week','native_country','income'])"
   ]
  },
  {
   "attachments": {},
   "cell_type": "markdown",
   "metadata": {},
   "source": [
    "### 2.2 Dataset Description"
   ]
  },
  {
   "cell_type": "code",
   "execution_count": 45,
   "metadata": {},
   "outputs": [
    {
     "data": {
      "text/html": [
       "<div>\n",
       "<style scoped>\n",
       "    .dataframe tbody tr th:only-of-type {\n",
       "        vertical-align: middle;\n",
       "    }\n",
       "\n",
       "    .dataframe tbody tr th {\n",
       "        vertical-align: top;\n",
       "    }\n",
       "\n",
       "    .dataframe thead th {\n",
       "        text-align: right;\n",
       "    }\n",
       "</style>\n",
       "<table border=\"1\" class=\"dataframe\">\n",
       "  <thead>\n",
       "    <tr style=\"text-align: right;\">\n",
       "      <th></th>\n",
       "      <th>age</th>\n",
       "      <th>workclass</th>\n",
       "      <th>fnlwgt</th>\n",
       "      <th>education</th>\n",
       "      <th>education_years</th>\n",
       "      <th>marital_status</th>\n",
       "      <th>occupation</th>\n",
       "      <th>relationship</th>\n",
       "      <th>race</th>\n",
       "      <th>sex</th>\n",
       "      <th>capital_gain</th>\n",
       "      <th>capital_loss</th>\n",
       "      <th>hours_per_week</th>\n",
       "      <th>native_country</th>\n",
       "      <th>income</th>\n",
       "    </tr>\n",
       "  </thead>\n",
       "  <tbody>\n",
       "    <tr>\n",
       "      <th>0</th>\n",
       "      <td>39</td>\n",
       "      <td>State-gov</td>\n",
       "      <td>77516</td>\n",
       "      <td>Bachelors</td>\n",
       "      <td>13</td>\n",
       "      <td>Never-married</td>\n",
       "      <td>Adm-clerical</td>\n",
       "      <td>Not-in-family</td>\n",
       "      <td>White</td>\n",
       "      <td>Male</td>\n",
       "      <td>2174</td>\n",
       "      <td>0</td>\n",
       "      <td>40</td>\n",
       "      <td>United-States</td>\n",
       "      <td>&lt;=50K</td>\n",
       "    </tr>\n",
       "    <tr>\n",
       "      <th>1</th>\n",
       "      <td>50</td>\n",
       "      <td>Self-emp-not-inc</td>\n",
       "      <td>83311</td>\n",
       "      <td>Bachelors</td>\n",
       "      <td>13</td>\n",
       "      <td>Married-civ-spouse</td>\n",
       "      <td>Exec-managerial</td>\n",
       "      <td>Husband</td>\n",
       "      <td>White</td>\n",
       "      <td>Male</td>\n",
       "      <td>0</td>\n",
       "      <td>0</td>\n",
       "      <td>13</td>\n",
       "      <td>United-States</td>\n",
       "      <td>&lt;=50K</td>\n",
       "    </tr>\n",
       "    <tr>\n",
       "      <th>2</th>\n",
       "      <td>38</td>\n",
       "      <td>Private</td>\n",
       "      <td>215646</td>\n",
       "      <td>HS-grad</td>\n",
       "      <td>9</td>\n",
       "      <td>Divorced</td>\n",
       "      <td>Handlers-cleaners</td>\n",
       "      <td>Not-in-family</td>\n",
       "      <td>White</td>\n",
       "      <td>Male</td>\n",
       "      <td>0</td>\n",
       "      <td>0</td>\n",
       "      <td>40</td>\n",
       "      <td>United-States</td>\n",
       "      <td>&lt;=50K</td>\n",
       "    </tr>\n",
       "    <tr>\n",
       "      <th>3</th>\n",
       "      <td>53</td>\n",
       "      <td>Private</td>\n",
       "      <td>234721</td>\n",
       "      <td>11th</td>\n",
       "      <td>7</td>\n",
       "      <td>Married-civ-spouse</td>\n",
       "      <td>Handlers-cleaners</td>\n",
       "      <td>Husband</td>\n",
       "      <td>Black</td>\n",
       "      <td>Male</td>\n",
       "      <td>0</td>\n",
       "      <td>0</td>\n",
       "      <td>40</td>\n",
       "      <td>United-States</td>\n",
       "      <td>&lt;=50K</td>\n",
       "    </tr>\n",
       "    <tr>\n",
       "      <th>4</th>\n",
       "      <td>28</td>\n",
       "      <td>Private</td>\n",
       "      <td>338409</td>\n",
       "      <td>Bachelors</td>\n",
       "      <td>13</td>\n",
       "      <td>Married-civ-spouse</td>\n",
       "      <td>Prof-specialty</td>\n",
       "      <td>Wife</td>\n",
       "      <td>Black</td>\n",
       "      <td>Female</td>\n",
       "      <td>0</td>\n",
       "      <td>0</td>\n",
       "      <td>40</td>\n",
       "      <td>Cuba</td>\n",
       "      <td>&lt;=50K</td>\n",
       "    </tr>\n",
       "    <tr>\n",
       "      <th>...</th>\n",
       "      <td>...</td>\n",
       "      <td>...</td>\n",
       "      <td>...</td>\n",
       "      <td>...</td>\n",
       "      <td>...</td>\n",
       "      <td>...</td>\n",
       "      <td>...</td>\n",
       "      <td>...</td>\n",
       "      <td>...</td>\n",
       "      <td>...</td>\n",
       "      <td>...</td>\n",
       "      <td>...</td>\n",
       "      <td>...</td>\n",
       "      <td>...</td>\n",
       "      <td>...</td>\n",
       "    </tr>\n",
       "    <tr>\n",
       "      <th>32556</th>\n",
       "      <td>27</td>\n",
       "      <td>Private</td>\n",
       "      <td>257302</td>\n",
       "      <td>Assoc-acdm</td>\n",
       "      <td>12</td>\n",
       "      <td>Married-civ-spouse</td>\n",
       "      <td>Tech-support</td>\n",
       "      <td>Wife</td>\n",
       "      <td>White</td>\n",
       "      <td>Female</td>\n",
       "      <td>0</td>\n",
       "      <td>0</td>\n",
       "      <td>38</td>\n",
       "      <td>United-States</td>\n",
       "      <td>&lt;=50K</td>\n",
       "    </tr>\n",
       "    <tr>\n",
       "      <th>32557</th>\n",
       "      <td>40</td>\n",
       "      <td>Private</td>\n",
       "      <td>154374</td>\n",
       "      <td>HS-grad</td>\n",
       "      <td>9</td>\n",
       "      <td>Married-civ-spouse</td>\n",
       "      <td>Machine-op-inspct</td>\n",
       "      <td>Husband</td>\n",
       "      <td>White</td>\n",
       "      <td>Male</td>\n",
       "      <td>0</td>\n",
       "      <td>0</td>\n",
       "      <td>40</td>\n",
       "      <td>United-States</td>\n",
       "      <td>&gt;50K</td>\n",
       "    </tr>\n",
       "    <tr>\n",
       "      <th>32558</th>\n",
       "      <td>58</td>\n",
       "      <td>Private</td>\n",
       "      <td>151910</td>\n",
       "      <td>HS-grad</td>\n",
       "      <td>9</td>\n",
       "      <td>Widowed</td>\n",
       "      <td>Adm-clerical</td>\n",
       "      <td>Unmarried</td>\n",
       "      <td>White</td>\n",
       "      <td>Female</td>\n",
       "      <td>0</td>\n",
       "      <td>0</td>\n",
       "      <td>40</td>\n",
       "      <td>United-States</td>\n",
       "      <td>&lt;=50K</td>\n",
       "    </tr>\n",
       "    <tr>\n",
       "      <th>32559</th>\n",
       "      <td>22</td>\n",
       "      <td>Private</td>\n",
       "      <td>201490</td>\n",
       "      <td>HS-grad</td>\n",
       "      <td>9</td>\n",
       "      <td>Never-married</td>\n",
       "      <td>Adm-clerical</td>\n",
       "      <td>Own-child</td>\n",
       "      <td>White</td>\n",
       "      <td>Male</td>\n",
       "      <td>0</td>\n",
       "      <td>0</td>\n",
       "      <td>20</td>\n",
       "      <td>United-States</td>\n",
       "      <td>&lt;=50K</td>\n",
       "    </tr>\n",
       "    <tr>\n",
       "      <th>32560</th>\n",
       "      <td>52</td>\n",
       "      <td>Self-emp-inc</td>\n",
       "      <td>287927</td>\n",
       "      <td>HS-grad</td>\n",
       "      <td>9</td>\n",
       "      <td>Married-civ-spouse</td>\n",
       "      <td>Exec-managerial</td>\n",
       "      <td>Wife</td>\n",
       "      <td>White</td>\n",
       "      <td>Female</td>\n",
       "      <td>15024</td>\n",
       "      <td>0</td>\n",
       "      <td>40</td>\n",
       "      <td>United-States</td>\n",
       "      <td>&gt;50K</td>\n",
       "    </tr>\n",
       "  </tbody>\n",
       "</table>\n",
       "<p>32561 rows × 15 columns</p>\n",
       "</div>"
      ],
      "text/plain": [
       "       age          workclass  fnlwgt    education  education_years  \\\n",
       "0       39          State-gov   77516    Bachelors               13   \n",
       "1       50   Self-emp-not-inc   83311    Bachelors               13   \n",
       "2       38            Private  215646      HS-grad                9   \n",
       "3       53            Private  234721         11th                7   \n",
       "4       28            Private  338409    Bachelors               13   \n",
       "...    ...                ...     ...          ...              ...   \n",
       "32556   27            Private  257302   Assoc-acdm               12   \n",
       "32557   40            Private  154374      HS-grad                9   \n",
       "32558   58            Private  151910      HS-grad                9   \n",
       "32559   22            Private  201490      HS-grad                9   \n",
       "32560   52       Self-emp-inc  287927      HS-grad                9   \n",
       "\n",
       "            marital_status          occupation    relationship    race  \\\n",
       "0            Never-married        Adm-clerical   Not-in-family   White   \n",
       "1       Married-civ-spouse     Exec-managerial         Husband   White   \n",
       "2                 Divorced   Handlers-cleaners   Not-in-family   White   \n",
       "3       Married-civ-spouse   Handlers-cleaners         Husband   Black   \n",
       "4       Married-civ-spouse      Prof-specialty            Wife   Black   \n",
       "...                    ...                 ...             ...     ...   \n",
       "32556   Married-civ-spouse        Tech-support            Wife   White   \n",
       "32557   Married-civ-spouse   Machine-op-inspct         Husband   White   \n",
       "32558              Widowed        Adm-clerical       Unmarried   White   \n",
       "32559        Never-married        Adm-clerical       Own-child   White   \n",
       "32560   Married-civ-spouse     Exec-managerial            Wife   White   \n",
       "\n",
       "           sex  capital_gain  capital_loss  hours_per_week  native_country  \\\n",
       "0         Male          2174             0              40   United-States   \n",
       "1         Male             0             0              13   United-States   \n",
       "2         Male             0             0              40   United-States   \n",
       "3         Male             0             0              40   United-States   \n",
       "4       Female             0             0              40            Cuba   \n",
       "...        ...           ...           ...             ...             ...   \n",
       "32556   Female             0             0              38   United-States   \n",
       "32557     Male             0             0              40   United-States   \n",
       "32558   Female             0             0              40   United-States   \n",
       "32559     Male             0             0              20   United-States   \n",
       "32560   Female         15024             0              40   United-States   \n",
       "\n",
       "       income  \n",
       "0       <=50K  \n",
       "1       <=50K  \n",
       "2       <=50K  \n",
       "3       <=50K  \n",
       "4       <=50K  \n",
       "...       ...  \n",
       "32556   <=50K  \n",
       "32557    >50K  \n",
       "32558   <=50K  \n",
       "32559   <=50K  \n",
       "32560    >50K  \n",
       "\n",
       "[32561 rows x 15 columns]"
      ]
     },
     "execution_count": 45,
     "metadata": {},
     "output_type": "execute_result"
    }
   ],
   "source": [
    "df_original"
   ]
  },
  {
   "cell_type": "code",
   "execution_count": 46,
   "metadata": {},
   "outputs": [
    {
     "data": {
      "text/html": [
       "<div>\n",
       "<style scoped>\n",
       "    .dataframe tbody tr th:only-of-type {\n",
       "        vertical-align: middle;\n",
       "    }\n",
       "\n",
       "    .dataframe tbody tr th {\n",
       "        vertical-align: top;\n",
       "    }\n",
       "\n",
       "    .dataframe thead th {\n",
       "        text-align: right;\n",
       "    }\n",
       "</style>\n",
       "<table border=\"1\" class=\"dataframe\">\n",
       "  <thead>\n",
       "    <tr style=\"text-align: right;\">\n",
       "      <th></th>\n",
       "      <th>age</th>\n",
       "      <th>workclass</th>\n",
       "      <th>fnlwgt</th>\n",
       "      <th>education</th>\n",
       "      <th>education_years</th>\n",
       "      <th>marital_status</th>\n",
       "      <th>occupation</th>\n",
       "      <th>relationship</th>\n",
       "      <th>race</th>\n",
       "      <th>sex</th>\n",
       "      <th>capital_gain</th>\n",
       "      <th>capital_loss</th>\n",
       "      <th>hours_per_week</th>\n",
       "      <th>native_country</th>\n",
       "      <th>income</th>\n",
       "    </tr>\n",
       "  </thead>\n",
       "  <tbody>\n",
       "    <tr>\n",
       "      <th>count</th>\n",
       "      <td>32561.000000</td>\n",
       "      <td>32561</td>\n",
       "      <td>3.256100e+04</td>\n",
       "      <td>32561</td>\n",
       "      <td>32561.000000</td>\n",
       "      <td>32561</td>\n",
       "      <td>32561</td>\n",
       "      <td>32561</td>\n",
       "      <td>32561</td>\n",
       "      <td>32561</td>\n",
       "      <td>32561.000000</td>\n",
       "      <td>32561.000000</td>\n",
       "      <td>32561.000000</td>\n",
       "      <td>32561</td>\n",
       "      <td>32561</td>\n",
       "    </tr>\n",
       "    <tr>\n",
       "      <th>unique</th>\n",
       "      <td>NaN</td>\n",
       "      <td>9</td>\n",
       "      <td>NaN</td>\n",
       "      <td>16</td>\n",
       "      <td>NaN</td>\n",
       "      <td>7</td>\n",
       "      <td>15</td>\n",
       "      <td>6</td>\n",
       "      <td>5</td>\n",
       "      <td>2</td>\n",
       "      <td>NaN</td>\n",
       "      <td>NaN</td>\n",
       "      <td>NaN</td>\n",
       "      <td>42</td>\n",
       "      <td>2</td>\n",
       "    </tr>\n",
       "    <tr>\n",
       "      <th>top</th>\n",
       "      <td>NaN</td>\n",
       "      <td>Private</td>\n",
       "      <td>NaN</td>\n",
       "      <td>HS-grad</td>\n",
       "      <td>NaN</td>\n",
       "      <td>Married-civ-spouse</td>\n",
       "      <td>Prof-specialty</td>\n",
       "      <td>Husband</td>\n",
       "      <td>White</td>\n",
       "      <td>Male</td>\n",
       "      <td>NaN</td>\n",
       "      <td>NaN</td>\n",
       "      <td>NaN</td>\n",
       "      <td>United-States</td>\n",
       "      <td>&lt;=50K</td>\n",
       "    </tr>\n",
       "    <tr>\n",
       "      <th>freq</th>\n",
       "      <td>NaN</td>\n",
       "      <td>22696</td>\n",
       "      <td>NaN</td>\n",
       "      <td>10501</td>\n",
       "      <td>NaN</td>\n",
       "      <td>14976</td>\n",
       "      <td>4140</td>\n",
       "      <td>13193</td>\n",
       "      <td>27816</td>\n",
       "      <td>21790</td>\n",
       "      <td>NaN</td>\n",
       "      <td>NaN</td>\n",
       "      <td>NaN</td>\n",
       "      <td>29170</td>\n",
       "      <td>24720</td>\n",
       "    </tr>\n",
       "    <tr>\n",
       "      <th>mean</th>\n",
       "      <td>38.581647</td>\n",
       "      <td>NaN</td>\n",
       "      <td>1.897784e+05</td>\n",
       "      <td>NaN</td>\n",
       "      <td>10.080679</td>\n",
       "      <td>NaN</td>\n",
       "      <td>NaN</td>\n",
       "      <td>NaN</td>\n",
       "      <td>NaN</td>\n",
       "      <td>NaN</td>\n",
       "      <td>1077.648844</td>\n",
       "      <td>87.303830</td>\n",
       "      <td>40.437456</td>\n",
       "      <td>NaN</td>\n",
       "      <td>NaN</td>\n",
       "    </tr>\n",
       "    <tr>\n",
       "      <th>std</th>\n",
       "      <td>13.640433</td>\n",
       "      <td>NaN</td>\n",
       "      <td>1.055500e+05</td>\n",
       "      <td>NaN</td>\n",
       "      <td>2.572720</td>\n",
       "      <td>NaN</td>\n",
       "      <td>NaN</td>\n",
       "      <td>NaN</td>\n",
       "      <td>NaN</td>\n",
       "      <td>NaN</td>\n",
       "      <td>7385.292085</td>\n",
       "      <td>402.960219</td>\n",
       "      <td>12.347429</td>\n",
       "      <td>NaN</td>\n",
       "      <td>NaN</td>\n",
       "    </tr>\n",
       "    <tr>\n",
       "      <th>min</th>\n",
       "      <td>17.000000</td>\n",
       "      <td>NaN</td>\n",
       "      <td>1.228500e+04</td>\n",
       "      <td>NaN</td>\n",
       "      <td>1.000000</td>\n",
       "      <td>NaN</td>\n",
       "      <td>NaN</td>\n",
       "      <td>NaN</td>\n",
       "      <td>NaN</td>\n",
       "      <td>NaN</td>\n",
       "      <td>0.000000</td>\n",
       "      <td>0.000000</td>\n",
       "      <td>1.000000</td>\n",
       "      <td>NaN</td>\n",
       "      <td>NaN</td>\n",
       "    </tr>\n",
       "    <tr>\n",
       "      <th>25%</th>\n",
       "      <td>28.000000</td>\n",
       "      <td>NaN</td>\n",
       "      <td>1.178270e+05</td>\n",
       "      <td>NaN</td>\n",
       "      <td>9.000000</td>\n",
       "      <td>NaN</td>\n",
       "      <td>NaN</td>\n",
       "      <td>NaN</td>\n",
       "      <td>NaN</td>\n",
       "      <td>NaN</td>\n",
       "      <td>0.000000</td>\n",
       "      <td>0.000000</td>\n",
       "      <td>40.000000</td>\n",
       "      <td>NaN</td>\n",
       "      <td>NaN</td>\n",
       "    </tr>\n",
       "    <tr>\n",
       "      <th>50%</th>\n",
       "      <td>37.000000</td>\n",
       "      <td>NaN</td>\n",
       "      <td>1.783560e+05</td>\n",
       "      <td>NaN</td>\n",
       "      <td>10.000000</td>\n",
       "      <td>NaN</td>\n",
       "      <td>NaN</td>\n",
       "      <td>NaN</td>\n",
       "      <td>NaN</td>\n",
       "      <td>NaN</td>\n",
       "      <td>0.000000</td>\n",
       "      <td>0.000000</td>\n",
       "      <td>40.000000</td>\n",
       "      <td>NaN</td>\n",
       "      <td>NaN</td>\n",
       "    </tr>\n",
       "    <tr>\n",
       "      <th>75%</th>\n",
       "      <td>48.000000</td>\n",
       "      <td>NaN</td>\n",
       "      <td>2.370510e+05</td>\n",
       "      <td>NaN</td>\n",
       "      <td>12.000000</td>\n",
       "      <td>NaN</td>\n",
       "      <td>NaN</td>\n",
       "      <td>NaN</td>\n",
       "      <td>NaN</td>\n",
       "      <td>NaN</td>\n",
       "      <td>0.000000</td>\n",
       "      <td>0.000000</td>\n",
       "      <td>45.000000</td>\n",
       "      <td>NaN</td>\n",
       "      <td>NaN</td>\n",
       "    </tr>\n",
       "    <tr>\n",
       "      <th>max</th>\n",
       "      <td>90.000000</td>\n",
       "      <td>NaN</td>\n",
       "      <td>1.484705e+06</td>\n",
       "      <td>NaN</td>\n",
       "      <td>16.000000</td>\n",
       "      <td>NaN</td>\n",
       "      <td>NaN</td>\n",
       "      <td>NaN</td>\n",
       "      <td>NaN</td>\n",
       "      <td>NaN</td>\n",
       "      <td>99999.000000</td>\n",
       "      <td>4356.000000</td>\n",
       "      <td>99.000000</td>\n",
       "      <td>NaN</td>\n",
       "      <td>NaN</td>\n",
       "    </tr>\n",
       "  </tbody>\n",
       "</table>\n",
       "</div>"
      ],
      "text/plain": [
       "                 age workclass        fnlwgt education  education_years  \\\n",
       "count   32561.000000     32561  3.256100e+04     32561     32561.000000   \n",
       "unique           NaN         9           NaN        16              NaN   \n",
       "top              NaN   Private           NaN   HS-grad              NaN   \n",
       "freq             NaN     22696           NaN     10501              NaN   \n",
       "mean       38.581647       NaN  1.897784e+05       NaN        10.080679   \n",
       "std        13.640433       NaN  1.055500e+05       NaN         2.572720   \n",
       "min        17.000000       NaN  1.228500e+04       NaN         1.000000   \n",
       "25%        28.000000       NaN  1.178270e+05       NaN         9.000000   \n",
       "50%        37.000000       NaN  1.783560e+05       NaN        10.000000   \n",
       "75%        48.000000       NaN  2.370510e+05       NaN        12.000000   \n",
       "max        90.000000       NaN  1.484705e+06       NaN        16.000000   \n",
       "\n",
       "             marital_status       occupation relationship    race    sex  \\\n",
       "count                 32561            32561        32561   32561  32561   \n",
       "unique                    7               15            6       5      2   \n",
       "top      Married-civ-spouse   Prof-specialty      Husband   White   Male   \n",
       "freq                  14976             4140        13193   27816  21790   \n",
       "mean                    NaN              NaN          NaN     NaN    NaN   \n",
       "std                     NaN              NaN          NaN     NaN    NaN   \n",
       "min                     NaN              NaN          NaN     NaN    NaN   \n",
       "25%                     NaN              NaN          NaN     NaN    NaN   \n",
       "50%                     NaN              NaN          NaN     NaN    NaN   \n",
       "75%                     NaN              NaN          NaN     NaN    NaN   \n",
       "max                     NaN              NaN          NaN     NaN    NaN   \n",
       "\n",
       "        capital_gain  capital_loss  hours_per_week  native_country  income  \n",
       "count   32561.000000  32561.000000    32561.000000           32561   32561  \n",
       "unique           NaN           NaN             NaN              42       2  \n",
       "top              NaN           NaN             NaN   United-States   <=50K  \n",
       "freq             NaN           NaN             NaN           29170   24720  \n",
       "mean     1077.648844     87.303830       40.437456             NaN     NaN  \n",
       "std      7385.292085    402.960219       12.347429             NaN     NaN  \n",
       "min         0.000000      0.000000        1.000000             NaN     NaN  \n",
       "25%         0.000000      0.000000       40.000000             NaN     NaN  \n",
       "50%         0.000000      0.000000       40.000000             NaN     NaN  \n",
       "75%         0.000000      0.000000       45.000000             NaN     NaN  \n",
       "max     99999.000000   4356.000000       99.000000             NaN     NaN  "
      ]
     },
     "execution_count": 46,
     "metadata": {},
     "output_type": "execute_result"
    }
   ],
   "source": [
    "df_original.describe(include='all')"
   ]
  },
  {
   "attachments": {},
   "cell_type": "markdown",
   "metadata": {},
   "source": [
    "##### Number of Records and attributes in Dataset"
   ]
  },
  {
   "cell_type": "code",
   "execution_count": 47,
   "metadata": {},
   "outputs": [
    {
     "name": "stdout",
     "output_type": "stream",
     "text": [
      "Total number of records: 32561\n",
      "Total number of attributes: 15\n"
     ]
    }
   ],
   "source": [
    "print(\"Total number of records:\",df_original.shape[0])\n",
    "print(\"Total number of attributes:\",df_original.shape[1])"
   ]
  },
  {
   "attachments": {},
   "cell_type": "markdown",
   "metadata": {},
   "source": [
    "##### Data Types"
   ]
  },
  {
   "cell_type": "code",
   "execution_count": 48,
   "metadata": {},
   "outputs": [
    {
     "name": "stdout",
     "output_type": "stream",
     "text": [
      "<class 'pandas.core.frame.DataFrame'>\n",
      "RangeIndex: 32561 entries, 0 to 32560\n",
      "Data columns (total 15 columns):\n",
      " #   Column           Non-Null Count  Dtype \n",
      "---  ------           --------------  ----- \n",
      " 0   age              32561 non-null  int64 \n",
      " 1   workclass        32561 non-null  object\n",
      " 2   fnlwgt           32561 non-null  int64 \n",
      " 3   education        32561 non-null  object\n",
      " 4   education_years  32561 non-null  int64 \n",
      " 5   marital_status   32561 non-null  object\n",
      " 6   occupation       32561 non-null  object\n",
      " 7   relationship     32561 non-null  object\n",
      " 8   race             32561 non-null  object\n",
      " 9   sex              32561 non-null  object\n",
      " 10  capital_gain     32561 non-null  int64 \n",
      " 11  capital_loss     32561 non-null  int64 \n",
      " 12  hours_per_week   32561 non-null  int64 \n",
      " 13  native_country   32561 non-null  object\n",
      " 14  income           32561 non-null  object\n",
      "dtypes: int64(6), object(9)\n",
      "memory usage: 3.7+ MB\n"
     ]
    }
   ],
   "source": [
    "df_original.info()"
   ]
  },
  {
   "attachments": {},
   "cell_type": "markdown",
   "metadata": {},
   "source": [
    "##### Attribute Names"
   ]
  },
  {
   "cell_type": "code",
   "execution_count": 49,
   "metadata": {},
   "outputs": [
    {
     "data": {
      "text/plain": [
       "Index(['age', 'workclass', 'fnlwgt', 'education', 'education_years',\n",
       "       'marital_status', 'occupation', 'relationship', 'race', 'sex',\n",
       "       'capital_gain', 'capital_loss', 'hours_per_week', 'native_country',\n",
       "       'income'],\n",
       "      dtype='object')"
      ]
     },
     "execution_count": 49,
     "metadata": {},
     "output_type": "execute_result"
    }
   ],
   "source": [
    "df_original.columns"
   ]
  },
  {
   "attachments": {},
   "cell_type": "markdown",
   "metadata": {},
   "source": [
    "##### Correlation Matrix of numerical attributes"
   ]
  },
  {
   "cell_type": "code",
   "execution_count": 50,
   "metadata": {},
   "outputs": [
    {
     "data": {
      "image/png": "[encoded data removed]",
      "text/plain": [
       "<Figure size 1500x1000 with 2 Axes>"
      ]
     },
     "metadata": {},
     "output_type": "display_data"
    }
   ],
   "source": [
    "plt.figure(figsize=(15,10))\n",
    "sns.heatmap(df_original.corr(numeric_only=True),annot=True,center = 0)\n",
    "plt.show()"
   ]
  },
  {
   "attachments": {},
   "cell_type": "markdown",
   "metadata": {},
   "source": [
    "##### Number of Records (Age wise)"
   ]
  },
  {
   "cell_type": "code",
   "execution_count": 51,
   "metadata": {},
   "outputs": [
    {
     "data": {
      "application/vnd.plotly.v1+json": {
       "config": {
        "plotlyServerURL": "https://plot.ly"
       },
       "data": [
        {
         "alignmentgroup": "True",
         "hovertemplate": "Age=%{marker.color}<br>Number of Records=%{y}<extra></extra>",
         "legendgroup": "",
         "marker": {
          "color": [
           17,
           18,
           19,
           20,
           21,
           22,
           23,
           24,
           25,
           26,
           27,
           28,
           29,
           30,
           31,
           32,
           33,
           34,
           35,
           36,
           37,
           38,
           39,
           40,
           41,
           42,
           43,
           44,
           45,
           46,
           47,
           48,
           49,
           50,
           51,
           52,
           53,
           54,
           55,
           56,
           57,
           58,
           59,
           60,
           61,
           62,
           63,
           64,
           65,
           66,
           67,
           68,
           69,
           70,
           71,
           72,
           73,
           74,
           75,
           76,
           77,
           78,
           79,
           80,
           81,
           82,
           83,
           84,
           85,
           86,
           87,
           88,
           90
          ],
          "coloraxis": "coloraxis",
          "pattern": {
           "shape": ""
          }
         },
         "name": "",
         "offsetgroup": "",
         "orientation": "v",
         "showlegend": false,
         "textposition": "auto",
         "type": "bar",
         "x": [
          17,
          18,
          19,
          20,
          21,
          22,
          23,
          24,
          25,
          26,
          27,
          28,
          29,
          30,
          31,
          32,
          33,
          34,
          35,
          36,
          37,
          38,
          39,
          40,
          41,
          42,
          43,
          44,
          45,
          46,
          47,
          48,
          49,
          50,
          51,
          52,
          53,
          54,
          55,
          56,
          57,
          58,
          59,
          60,
          61,
          62,
          63,
          64,
          65,
          66,
          67,
          68,
          69,
          70,
          71,
          72,
          73,
          74,
          75,
          76,
          77,
          78,
          79,
          80,
          81,
          82,
          83,
          84,
          85,
          86,
          87,
          88,
          90
         ],
         "xaxis": "x",
         "y": [
          395,
          550,
          712,
          753,
          720,
          765,
          877,
          798,
          841,
          785,
          835,
          867,
          813,
          861,
          888,
          828,
          875,
          886,
          876,
          898,
          858,
          827,
          816,
          794,
          808,
          780,
          770,
          724,
          734,
          737,
          708,
          543,
          577,
          602,
          595,
          478,
          464,
          415,
          419,
          366,
          358,
          366,
          355,
          312,
          300,
          258,
          230,
          208,
          178,
          150,
          151,
          120,
          108,
          89,
          72,
          67,
          64,
          51,
          45,
          46,
          29,
          23,
          22,
          22,
          20,
          12,
          6,
          10,
          3,
          1,
          1,
          3,
          43
         ],
         "yaxis": "y"
        }
       ],
       "layout": {
        "barmode": "relative",
        "coloraxis": {
         "colorbar": {
          "title": {
           "text": "Age"
          }
         },
         "colorscale": [
          [
           0,
           "#440154"
          ],
          [
           0.1111111111111111,
           "#482878"
          ],
          [
           0.2222222222222222,
           "#3e4989"
          ],
          [
           0.3333333333333333,
           "#31688e"
          ],
          [
           0.4444444444444444,
           "#26828e"
          ],
          [
           0.5555555555555556,
           "#1f9e89"
          ],
          [
           0.6666666666666666,
           "#35b779"
          ],
          [
           0.7777777777777778,
           "#6ece58"
          ],
          [
           0.8888888888888888,
           "#b5de2b"
          ],
          [
           1,
           "#fde725"
          ]
         ]
        },
        "legend": {
         "tracegroupgap": 0
        },
        "template": {
         "data": {
          "bar": [
           {
            "error_x": {
             "color": "#2a3f5f"
            },
            "error_y": {
             "color": "#2a3f5f"
            },
            "marker": {
             "line": {
              "color": "#E5ECF6",
              "width": 0.5
             },
             "pattern": {
              "fillmode": "overlay",
              "size": 10,
              "solidity": 0.2
             }
            },
            "type": "bar"
           }
          ],
          "barpolar": [
           {
            "marker": {
             "line": {
              "color": "#E5ECF6",
              "width": 0.5
             },
             "pattern": {
              "fillmode": "overlay",
              "size": 10,
              "solidity": 0.2
             }
            },
            "type": "barpolar"
           }
          ],
          "carpet": [
           {
            "aaxis": {
             "endlinecolor": "#2a3f5f",
             "gridcolor": "white",
             "linecolor": "white",
             "minorgridcolor": "white",
             "startlinecolor": "#2a3f5f"
            },
            "baxis": {
             "endlinecolor": "#2a3f5f",
             "gridcolor": "white",
             "linecolor": "white",
             "minorgridcolor": "white",
             "startlinecolor": "#2a3f5f"
            },
            "type": "carpet"
           }
          ],
          "choropleth": [
           {
            "colorbar": {
             "outlinewidth": 0,
             "ticks": ""
            },
            "type": "choropleth"
           }
          ],
          "contour": [
           {
            "colorbar": {
             "outlinewidth": 0,
             "ticks": ""
            },
            "colorscale": [
             [
              0,
              "#0d0887"
             ],
             [
              0.1111111111111111,
              "#46039f"
             ],
             [
              0.2222222222222222,
              "#7201a8"
             ],
             [
              0.3333333333333333,
              "#9c179e"
             ],
             [
              0.4444444444444444,
              "#bd3786"
             ],
             [
              0.5555555555555556,
              "#d8576b"
             ],
             [
              0.6666666666666666,
              "#ed7953"
             ],
             [
              0.7777777777777778,
              "#fb9f3a"
             ],
             [
              0.8888888888888888,
              "#fdca26"
             ],
             [
              1,
              "#f0f921"
             ]
            ],
            "type": "contour"
           }
          ],
          "contourcarpet": [
           {
            "colorbar": {
             "outlinewidth": 0,
             "ticks": ""
            },
            "type": "contourcarpet"
           }
          ],
          "heatmap": [
           {
            "colorbar": {
             "outlinewidth": 0,
             "ticks": ""
            },
            "colorscale": [
             [
              0,
              "#0d0887"
             ],
             [
              0.1111111111111111,
              "#46039f"
             ],
             [
              0.2222222222222222,
              "#7201a8"
             ],
             [
              0.3333333333333333,
              "#9c179e"
             ],
             [
              0.4444444444444444,
              "#bd3786"
             ],
             [
              0.5555555555555556,
              "#d8576b"
             ],
             [
              0.6666666666666666,
              "#ed7953"
             ],
             [
              0.7777777777777778,
              "#fb9f3a"
             ],
             [
              0.8888888888888888,
              "#fdca26"
             ],
             [
              1,
              "#f0f921"
             ]
            ],
            "type": "heatmap"
           }
          ],
          "heatmapgl": [
           {
            "colorbar": {
             "outlinewidth": 0,
             "ticks": ""
            },
            "colorscale": [
             [
              0,
              "#0d0887"
             ],
             [
              0.1111111111111111,
              "#46039f"
             ],
             [
              0.2222222222222222,
              "#7201a8"
             ],
             [
              0.3333333333333333,
              "#9c179e"
             ],
             [
              0.4444444444444444,
              "#bd3786"
             ],
             [
              0.5555555555555556,
              "#d8576b"
             ],
             [
              0.6666666666666666,
              "#ed7953"
             ],
             [
              0.7777777777777778,
              "#fb9f3a"
             ],
             [
              0.8888888888888888,
              "#fdca26"
             ],
             [
              1,
              "#f0f921"
             ]
            ],
            "type": "heatmapgl"
           }
          ],
          "histogram": [
           {
            "marker": {
             "pattern": {
              "fillmode": "overlay",
              "size": 10,
              "solidity": 0.2
             }
            },
            "type": "histogram"
           }
          ],
          "histogram2d": [
           {
            "colorbar": {
             "outlinewidth": 0,
             "ticks": ""
            },
            "colorscale": [
             [
              0,
              "#0d0887"
             ],
             [
              0.1111111111111111,
              "#46039f"
             ],
             [
              0.2222222222222222,
              "#7201a8"
             ],
             [
              0.3333333333333333,
              "#9c179e"
             ],
             [
              0.4444444444444444,
              "#bd3786"
             ],
             [
              0.5555555555555556,
              "#d8576b"
             ],
             [
              0.6666666666666666,
              "#ed7953"
             ],
             [
              0.7777777777777778,
              "#fb9f3a"
             ],
             [
              0.8888888888888888,
              "#fdca26"
             ],
             [
              1,
              "#f0f921"
             ]
            ],
            "type": "histogram2d"
           }
          ],
          "histogram2dcontour": [
           {
            "colorbar": {
             "outlinewidth": 0,
             "ticks": ""
            },
            "colorscale": [
             [
              0,
              "#0d0887"
             ],
             [
              0.1111111111111111,
              "#46039f"
             ],
             [
              0.2222222222222222,
              "#7201a8"
             ],
             [
              0.3333333333333333,
              "#9c179e"
             ],
             [
              0.4444444444444444,
              "#bd3786"
             ],
             [
              0.5555555555555556,
              "#d8576b"
             ],
             [
              0.6666666666666666,
              "#ed7953"
             ],
             [
              0.7777777777777778,
              "#fb9f3a"
             ],
             [
              0.8888888888888888,
              "#fdca26"
             ],
             [
              1,
              "#f0f921"
             ]
            ],
            "type": "histogram2dcontour"
           }
          ],
          "mesh3d": [
           {
            "colorbar": {
             "outlinewidth": 0,
             "ticks": ""
            },
            "type": "mesh3d"
           }
          ],
          "parcoords": [
           {
            "line": {
             "colorbar": {
              "outlinewidth": 0,
              "ticks": ""
             }
            },
            "type": "parcoords"
           }
          ],
          "pie": [
           {
            "automargin": true,
            "type": "pie"
           }
          ],
          "scatter": [
           {
            "fillpattern": {
             "fillmode": "overlay",
             "size": 10,
             "solidity": 0.2
            },
            "type": "scatter"
           }
          ],
          "scatter3d": [
           {
            "line": {
             "colorbar": {
              "outlinewidth": 0,
              "ticks": ""
             }
            },
            "marker": {
             "colorbar": {
              "outlinewidth": 0,
              "ticks": ""
             }
            },
            "type": "scatter3d"
           }
          ],
          "scattercarpet": [
           {
            "marker": {
             "colorbar": {
              "outlinewidth": 0,
              "ticks": ""
             }
            },
            "type": "scattercarpet"
           }
          ],
          "scattergeo": [
           {
            "marker": {
             "colorbar": {
              "outlinewidth": 0,
              "ticks": ""
             }
            },
            "type": "scattergeo"
           }
          ],
          "scattergl": [
           {
            "marker": {
             "colorbar": {
              "outlinewidth": 0,
              "ticks": ""
             }
            },
            "type": "scattergl"
           }
          ],
          "scattermapbox": [
           {
            "marker": {
             "colorbar": {
              "outlinewidth": 0,
              "ticks": ""
             }
            },
            "type": "scattermapbox"
           }
          ],
          "scatterpolar": [
           {
            "marker": {
             "colorbar": {
              "outlinewidth": 0,
              "ticks": ""
             }
            },
            "type": "scatterpolar"
           }
          ],
          "scatterpolargl": [
           {
            "marker": {
             "colorbar": {
              "outlinewidth": 0,
              "ticks": ""
             }
            },
            "type": "scatterpolargl"
           }
          ],
          "scatterternary": [
           {
            "marker": {
             "colorbar": {
              "outlinewidth": 0,
              "ticks": ""
             }
            },
            "type": "scatterternary"
           }
          ],
          "surface": [
           {
            "colorbar": {
             "outlinewidth": 0,
             "ticks": ""
            },
            "colorscale": [
             [
              0,
              "#0d0887"
             ],
             [
              0.1111111111111111,
              "#46039f"
             ],
             [
              0.2222222222222222,
              "#7201a8"
             ],
             [
              0.3333333333333333,
              "#9c179e"
             ],
             [
              0.4444444444444444,
              "#bd3786"
             ],
             [
              0.5555555555555556,
              "#d8576b"
             ],
             [
              0.6666666666666666,
              "#ed7953"
             ],
             [
              0.7777777777777778,
              "#fb9f3a"
             ],
             [
              0.8888888888888888,
              "#fdca26"
             ],
             [
              1,
              "#f0f921"
             ]
            ],
            "type": "surface"
           }
          ],
          "table": [
           {
            "cells": {
             "fill": {
              "color": "#EBF0F8"
             },
             "line": {
              "color": "white"
             }
            },
            "header": {
             "fill": {
              "color": "#C8D4E3"
             },
             "line": {
              "color": "white"
             }
            },
            "type": "table"
           }
          ]
         },
         "layout": {
          "annotationdefaults": {
           "arrowcolor": "#2a3f5f",
           "arrowhead": 0,
           "arrowwidth": 1
          },
          "autotypenumbers": "strict",
          "coloraxis": {
           "colorbar": {
            "outlinewidth": 0,
            "ticks": ""
           }
          },
          "colorscale": {
           "diverging": [
            [
             0,
             "#8e0152"
            ],
            [
             0.1,
             "#c51b7d"
            ],
            [
             0.2,
             "#de77ae"
            ],
            [
             0.3,
             "#f1b6da"
            ],
            [
             0.4,
             "#fde0ef"
            ],
            [
             0.5,
             "#f7f7f7"
            ],
            [
             0.6,
             "#e6f5d0"
            ],
            [
             0.7,
             "#b8e186"
            ],
            [
             0.8,
             "#7fbc41"
            ],
            [
             0.9,
             "#4d9221"
            ],
            [
             1,
             "#276419"
            ]
           ],
           "sequential": [
            [
             0,
             "#0d0887"
            ],
            [
             0.1111111111111111,
             "#46039f"
            ],
            [
             0.2222222222222222,
             "#7201a8"
            ],
            [
             0.3333333333333333,
             "#9c179e"
            ],
            [
             0.4444444444444444,
             "#bd3786"
            ],
            [
             0.5555555555555556,
             "#d8576b"
            ],
            [
             0.6666666666666666,
             "#ed7953"
            ],
            [
             0.7777777777777778,
             "#fb9f3a"
            ],
            [
             0.8888888888888888,
             "#fdca26"
            ],
            [
             1,
             "#f0f921"
            ]
           ],
           "sequentialminus": [
            [
             0,
             "#0d0887"
            ],
            [
             0.1111111111111111,
             "#46039f"
            ],
            [
             0.2222222222222222,
             "#7201a8"
            ],
            [
             0.3333333333333333,
             "#9c179e"
            ],
            [
             0.4444444444444444,
             "#bd3786"
            ],
            [
             0.5555555555555556,
             "#d8576b"
            ],
            [
             0.6666666666666666,
             "#ed7953"
            ],
            [
             0.7777777777777778,
             "#fb9f3a"
            ],
            [
             0.8888888888888888,
             "#fdca26"
            ],
            [
             1,
             "#f0f921"
            ]
           ]
          },
          "colorway": [
           "#636efa",
           "#EF553B",
           "#00cc96",
           "#ab63fa",
           "#FFA15A",
           "#19d3f3",
           "#FF6692",
           "#B6E880",
           "#FF97FF",
           "#FECB52"
          ],
          "font": {
           "color": "#2a3f5f"
          },
          "geo": {
           "bgcolor": "white",
           "lakecolor": "white",
           "landcolor": "#E5ECF6",
           "showlakes": true,
           "showland": true,
           "subunitcolor": "white"
          },
          "hoverlabel": {
           "align": "left"
          },
          "hovermode": "closest",
          "mapbox": {
           "style": "light"
          },
          "paper_bgcolor": "white",
          "plot_bgcolor": "#E5ECF6",
          "polar": {
           "angularaxis": {
            "gridcolor": "white",
            "linecolor": "white",
            "ticks": ""
           },
           "bgcolor": "#E5ECF6",
           "radialaxis": {
            "gridcolor": "white",
            "linecolor": "white",
            "ticks": ""
           }
          },
          "scene": {
           "xaxis": {
            "backgroundcolor": "#E5ECF6",
            "gridcolor": "white",
            "gridwidth": 2,
            "linecolor": "white",
            "showbackground": true,
            "ticks": "",
            "zerolinecolor": "white"
           },
           "yaxis": {
            "backgroundcolor": "#E5ECF6",
            "gridcolor": "white",
            "gridwidth": 2,
            "linecolor": "white",
            "showbackground": true,
            "ticks": "",
            "zerolinecolor": "white"
           },
           "zaxis": {
            "backgroundcolor": "#E5ECF6",
            "gridcolor": "white",
            "gridwidth": 2,
            "linecolor": "white",
            "showbackground": true,
            "ticks": "",
            "zerolinecolor": "white"
           }
          },
          "shapedefaults": {
           "line": {
            "color": "#2a3f5f"
           }
          },
          "ternary": {
           "aaxis": {
            "gridcolor": "white",
            "linecolor": "white",
            "ticks": ""
           },
           "baxis": {
            "gridcolor": "white",
            "linecolor": "white",
            "ticks": ""
           },
           "bgcolor": "#E5ECF6",
           "caxis": {
            "gridcolor": "white",
            "linecolor": "white",
            "ticks": ""
           }
          },
          "title": {
           "x": 0.05
          },
          "xaxis": {
           "automargin": true,
           "gridcolor": "white",
           "linecolor": "white",
           "ticks": "",
           "title": {
            "standoff": 15
           },
           "zerolinecolor": "white",
           "zerolinewidth": 2
          },
          "yaxis": {
           "automargin": true,
           "gridcolor": "white",
           "linecolor": "white",
           "ticks": "",
           "title": {
            "standoff": 15
           },
           "zerolinecolor": "white",
           "zerolinewidth": 2
          }
         }
        },
        "title": {
         "text": "Number of Records (Age Wise)"
        },
        "xaxis": {
         "anchor": "y",
         "domain": [
          0,
          1
         ],
         "title": {
          "text": "Age"
         }
        },
        "yaxis": {
         "anchor": "x",
         "domain": [
          0,
          1
         ],
         "title": {
          "text": "Number of Records"
         }
        }
       }
      }
     },
     "metadata": {},
     "output_type": "display_data"
    }
   ],
   "source": [
    "fig = px.bar(df_original.groupby('age')['age'].count().reset_index(name='count'), \n",
    "             x='age', \n",
    "             y='count', \n",
    "             title='Number of Records (Age Wise)', \n",
    "             labels={'age': 'Age', 'count': 'Number of Records'},\n",
    "             color='age',\n",
    "             color_continuous_scale=\"Viridis\")\n",
    "fig.show()"
   ]
  },
  {
   "attachments": {},
   "cell_type": "markdown",
   "metadata": {},
   "source": [
    "Conclusion:\n",
    "<ul> Most of the records of individuals in dataset have age between 20 and 50.</ul>"
   ]
  },
  {
   "attachments": {},
   "cell_type": "markdown",
   "metadata": {},
   "source": [
    "##### Number of Records (Native Country Wise)"
   ]
  },
  {
   "cell_type": "code",
   "execution_count": 52,
   "metadata": {},
   "outputs": [
    {
     "data": {
      "application/vnd.plotly.v1+json": {
       "config": {
        "plotlyServerURL": "https://plot.ly"
       },
       "data": [
        {
         "alignmentgroup": "True",
         "hovertemplate": "Number of Records=%{x}<br>Country=%{y}<extra></extra>",
         "legendgroup": "",
         "marker": {
          "color": "#636efa",
          "pattern": {
           "shape": ""
          }
         },
         "name": "",
         "offsetgroup": "",
         "orientation": "h",
         "showlegend": false,
         "textposition": "auto",
         "type": "bar",
         "x": [
          1,
          12,
          13,
          13,
          14,
          16,
          18,
          18,
          19,
          19,
          20,
          24,
          28,
          29,
          29,
          31,
          34,
          37,
          43,
          44,
          51,
          59,
          60,
          62,
          64,
          67,
          70,
          73,
          75,
          80,
          81,
          90,
          95,
          100,
          106,
          114,
          121,
          137,
          198,
          583,
          643,
          29170
         ],
         "xaxis": "x",
         "y": [
          " Holand-Netherlands",
          " Scotland",
          " Hungary",
          " Honduras",
          " Outlying-US(Guam-USVI-etc)",
          " Yugoslavia",
          " Thailand",
          " Laos",
          " Trinadad&Tobago",
          " Cambodia",
          " Hong",
          " Ireland",
          " Ecuador",
          " France",
          " Greece",
          " Peru",
          " Nicaragua",
          " Portugal",
          " Iran",
          " Haiti",
          " Taiwan",
          " Columbia",
          " Poland",
          " Japan",
          " Guatemala",
          " Vietnam",
          " Dominican-Republic",
          " Italy",
          " China",
          " South",
          " Jamaica",
          " England",
          " Cuba",
          " India",
          " El-Salvador",
          " Puerto-Rico",
          " Canada",
          " Germany",
          " Philippines",
          " ?",
          " Mexico",
          " United-States"
         ],
         "yaxis": "y"
        }
       ],
       "layout": {
        "barmode": "relative",
        "height": 900,
        "legend": {
         "tracegroupgap": 0
        },
        "template": {
         "data": {
          "bar": [
           {
            "error_x": {
             "color": "#2a3f5f"
            },
            "error_y": {
             "color": "#2a3f5f"
            },
            "marker": {
             "line": {
              "color": "#E5ECF6",
              "width": 0.5
             },
             "pattern": {
              "fillmode": "overlay",
              "size": 10,
              "solidity": 0.2
             }
            },
            "type": "bar"
           }
          ],
          "barpolar": [
           {
            "marker": {
             "line": {
              "color": "#E5ECF6",
              "width": 0.5
             },
             "pattern": {
              "fillmode": "overlay",
              "size": 10,
              "solidity": 0.2
             }
            },
            "type": "barpolar"
           }
          ],
          "carpet": [
           {
            "aaxis": {
             "endlinecolor": "#2a3f5f",
             "gridcolor": "white",
             "linecolor": "white",
             "minorgridcolor": "white",
             "startlinecolor": "#2a3f5f"
            },
            "baxis": {
             "endlinecolor": "#2a3f5f",
             "gridcolor": "white",
             "linecolor": "white",
             "minorgridcolor": "white",
             "startlinecolor": "#2a3f5f"
            },
            "type": "carpet"
           }
          ],
          "choropleth": [
           {
            "colorbar": {
             "outlinewidth": 0,
             "ticks": ""
            },
            "type": "choropleth"
           }
          ],
          "contour": [
           {
            "colorbar": {
             "outlinewidth": 0,
             "ticks": ""
            },
            "colorscale": [
             [
              0,
              "#0d0887"
             ],
             [
              0.1111111111111111,
              "#46039f"
             ],
             [
              0.2222222222222222,
              "#7201a8"
             ],
             [
              0.3333333333333333,
              "#9c179e"
             ],
             [
              0.4444444444444444,
              "#bd3786"
             ],
             [
              0.5555555555555556,
              "#d8576b"
             ],
             [
              0.6666666666666666,
              "#ed7953"
             ],
             [
              0.7777777777777778,
              "#fb9f3a"
             ],
             [
              0.8888888888888888,
              "#fdca26"
             ],
             [
              1,
              "#f0f921"
             ]
            ],
            "type": "contour"
           }
          ],
          "contourcarpet": [
           {
            "colorbar": {
             "outlinewidth": 0,
             "ticks": ""
            },
            "type": "contourcarpet"
           }
          ],
          "heatmap": [
           {
            "colorbar": {
             "outlinewidth": 0,
             "ticks": ""
            },
            "colorscale": [
             [
              0,
              "#0d0887"
             ],
             [
              0.1111111111111111,
              "#46039f"
             ],
             [
              0.2222222222222222,
              "#7201a8"
             ],
             [
              0.3333333333333333,
              "#9c179e"
             ],
             [
              0.4444444444444444,
              "#bd3786"
             ],
             [
              0.5555555555555556,
              "#d8576b"
             ],
             [
              0.6666666666666666,
              "#ed7953"
             ],
             [
              0.7777777777777778,
              "#fb9f3a"
             ],
             [
              0.8888888888888888,
              "#fdca26"
             ],
             [
              1,
              "#f0f921"
             ]
            ],
            "type": "heatmap"
           }
          ],
          "heatmapgl": [
           {
            "colorbar": {
             "outlinewidth": 0,
             "ticks": ""
            },
            "colorscale": [
             [
              0,
              "#0d0887"
             ],
             [
              0.1111111111111111,
              "#46039f"
             ],
             [
              0.2222222222222222,
              "#7201a8"
             ],
             [
              0.3333333333333333,
              "#9c179e"
             ],
             [
              0.4444444444444444,
              "#bd3786"
             ],
             [
              0.5555555555555556,
              "#d8576b"
             ],
             [
              0.6666666666666666,
              "#ed7953"
             ],
             [
              0.7777777777777778,
              "#fb9f3a"
             ],
             [
              0.8888888888888888,
              "#fdca26"
             ],
             [
              1,
              "#f0f921"
             ]
            ],
            "type": "heatmapgl"
           }
          ],
          "histogram": [
           {
            "marker": {
             "pattern": {
              "fillmode": "overlay",
              "size": 10,
              "solidity": 0.2
             }
            },
            "type": "histogram"
           }
          ],
          "histogram2d": [
           {
            "colorbar": {
             "outlinewidth": 0,
             "ticks": ""
            },
            "colorscale": [
             [
              0,
              "#0d0887"
             ],
             [
              0.1111111111111111,
              "#46039f"
             ],
             [
              0.2222222222222222,
              "#7201a8"
             ],
             [
              0.3333333333333333,
              "#9c179e"
             ],
             [
              0.4444444444444444,
              "#bd3786"
             ],
             [
              0.5555555555555556,
              "#d8576b"
             ],
             [
              0.6666666666666666,
              "#ed7953"
             ],
             [
              0.7777777777777778,
              "#fb9f3a"
             ],
             [
              0.8888888888888888,
              "#fdca26"
             ],
             [
              1,
              "#f0f921"
             ]
            ],
            "type": "histogram2d"
           }
          ],
          "histogram2dcontour": [
           {
            "colorbar": {
             "outlinewidth": 0,
             "ticks": ""
            },
            "colorscale": [
             [
              0,
              "#0d0887"
             ],
             [
              0.1111111111111111,
              "#46039f"
             ],
             [
              0.2222222222222222,
              "#7201a8"
             ],
             [
              0.3333333333333333,
              "#9c179e"
             ],
             [
              0.4444444444444444,
              "#bd3786"
             ],
             [
              0.5555555555555556,
              "#d8576b"
             ],
             [
              0.6666666666666666,
              "#ed7953"
             ],
             [
              0.7777777777777778,
              "#fb9f3a"
             ],
             [
              0.8888888888888888,
              "#fdca26"
             ],
             [
              1,
              "#f0f921"
             ]
            ],
            "type": "histogram2dcontour"
           }
          ],
          "mesh3d": [
           {
            "colorbar": {
             "outlinewidth": 0,
             "ticks": ""
            },
            "type": "mesh3d"
           }
          ],
          "parcoords": [
           {
            "line": {
             "colorbar": {
              "outlinewidth": 0,
              "ticks": ""
             }
            },
            "type": "parcoords"
           }
          ],
          "pie": [
           {
            "automargin": true,
            "type": "pie"
           }
          ],
          "scatter": [
           {
            "fillpattern": {
             "fillmode": "overlay",
             "size": 10,
             "solidity": 0.2
            },
            "type": "scatter"
           }
          ],
          "scatter3d": [
           {
            "line": {
             "colorbar": {
              "outlinewidth": 0,
              "ticks": ""
             }
            },
            "marker": {
             "colorbar": {
              "outlinewidth": 0,
              "ticks": ""
             }
            },
            "type": "scatter3d"
           }
          ],
          "scattercarpet": [
           {
            "marker": {
             "colorbar": {
              "outlinewidth": 0,
              "ticks": ""
             }
            },
            "type": "scattercarpet"
           }
          ],
          "scattergeo": [
           {
            "marker": {
             "colorbar": {
              "outlinewidth": 0,
              "ticks": ""
             }
            },
            "type": "scattergeo"
           }
          ],
          "scattergl": [
           {
            "marker": {
             "colorbar": {
              "outlinewidth": 0,
              "ticks": ""
             }
            },
            "type": "scattergl"
           }
          ],
          "scattermapbox": [
           {
            "marker": {
             "colorbar": {
              "outlinewidth": 0,
              "ticks": ""
             }
            },
            "type": "scattermapbox"
           }
          ],
          "scatterpolar": [
           {
            "marker": {
             "colorbar": {
              "outlinewidth": 0,
              "ticks": ""
             }
            },
            "type": "scatterpolar"
           }
          ],
          "scatterpolargl": [
           {
            "marker": {
             "colorbar": {
              "outlinewidth": 0,
              "ticks": ""
             }
            },
            "type": "scatterpolargl"
           }
          ],
          "scatterternary": [
           {
            "marker": {
             "colorbar": {
              "outlinewidth": 0,
              "ticks": ""
             }
            },
            "type": "scatterternary"
           }
          ],
          "surface": [
           {
            "colorbar": {
             "outlinewidth": 0,
             "ticks": ""
            },
            "colorscale": [
             [
              0,
              "#0d0887"
             ],
             [
              0.1111111111111111,
              "#46039f"
             ],
             [
              0.2222222222222222,
              "#7201a8"
             ],
             [
              0.3333333333333333,
              "#9c179e"
             ],
             [
              0.4444444444444444,
              "#bd3786"
             ],
             [
              0.5555555555555556,
              "#d8576b"
             ],
             [
              0.6666666666666666,
              "#ed7953"
             ],
             [
              0.7777777777777778,
              "#fb9f3a"
             ],
             [
              0.8888888888888888,
              "#fdca26"
             ],
             [
              1,
              "#f0f921"
             ]
            ],
            "type": "surface"
           }
          ],
          "table": [
           {
            "cells": {
             "fill": {
              "color": "#EBF0F8"
             },
             "line": {
              "color": "white"
             }
            },
            "header": {
             "fill": {
              "color": "#C8D4E3"
             },
             "line": {
              "color": "white"
             }
            },
            "type": "table"
           }
          ]
         },
         "layout": {
          "annotationdefaults": {
           "arrowcolor": "#2a3f5f",
           "arrowhead": 0,
           "arrowwidth": 1
          },
          "autotypenumbers": "strict",
          "coloraxis": {
           "colorbar": {
            "outlinewidth": 0,
            "ticks": ""
           }
          },
          "colorscale": {
           "diverging": [
            [
             0,
             "#8e0152"
            ],
            [
             0.1,
             "#c51b7d"
            ],
            [
             0.2,
             "#de77ae"
            ],
            [
             0.3,
             "#f1b6da"
            ],
            [
             0.4,
             "#fde0ef"
            ],
            [
             0.5,
             "#f7f7f7"
            ],
            [
             0.6,
             "#e6f5d0"
            ],
            [
             0.7,
             "#b8e186"
            ],
            [
             0.8,
             "#7fbc41"
            ],
            [
             0.9,
             "#4d9221"
            ],
            [
             1,
             "#276419"
            ]
           ],
           "sequential": [
            [
             0,
             "#0d0887"
            ],
            [
             0.1111111111111111,
             "#46039f"
            ],
            [
             0.2222222222222222,
             "#7201a8"
            ],
            [
             0.3333333333333333,
             "#9c179e"
            ],
            [
             0.4444444444444444,
             "#bd3786"
            ],
            [
             0.5555555555555556,
             "#d8576b"
            ],
            [
             0.6666666666666666,
             "#ed7953"
            ],
            [
             0.7777777777777778,
             "#fb9f3a"
            ],
            [
             0.8888888888888888,
             "#fdca26"
            ],
            [
             1,
             "#f0f921"
            ]
           ],
           "sequentialminus": [
            [
             0,
             "#0d0887"
            ],
            [
             0.1111111111111111,
             "#46039f"
            ],
            [
             0.2222222222222222,
             "#7201a8"
            ],
            [
             0.3333333333333333,
             "#9c179e"
            ],
            [
             0.4444444444444444,
             "#bd3786"
            ],
            [
             0.5555555555555556,
             "#d8576b"
            ],
            [
             0.6666666666666666,
             "#ed7953"
            ],
            [
             0.7777777777777778,
             "#fb9f3a"
            ],
            [
             0.8888888888888888,
             "#fdca26"
            ],
            [
             1,
             "#f0f921"
            ]
           ]
          },
          "colorway": [
           "#636efa",
           "#EF553B",
           "#00cc96",
           "#ab63fa",
           "#FFA15A",
           "#19d3f3",
           "#FF6692",
           "#B6E880",
           "#FF97FF",
           "#FECB52"
          ],
          "font": {
           "color": "#2a3f5f"
          },
          "geo": {
           "bgcolor": "white",
           "lakecolor": "white",
           "landcolor": "#E5ECF6",
           "showlakes": true,
           "showland": true,
           "subunitcolor": "white"
          },
          "hoverlabel": {
           "align": "left"
          },
          "hovermode": "closest",
          "mapbox": {
           "style": "light"
          },
          "paper_bgcolor": "white",
          "plot_bgcolor": "#E5ECF6",
          "polar": {
           "angularaxis": {
            "gridcolor": "white",
            "linecolor": "white",
            "ticks": ""
           },
           "bgcolor": "#E5ECF6",
           "radialaxis": {
            "gridcolor": "white",
            "linecolor": "white",
            "ticks": ""
           }
          },
          "scene": {
           "xaxis": {
            "backgroundcolor": "#E5ECF6",
            "gridcolor": "white",
            "gridwidth": 2,
            "linecolor": "white",
            "showbackground": true,
            "ticks": "",
            "zerolinecolor": "white"
           },
           "yaxis": {
            "backgroundcolor": "#E5ECF6",
            "gridcolor": "white",
            "gridwidth": 2,
            "linecolor": "white",
            "showbackground": true,
            "ticks": "",
            "zerolinecolor": "white"
           },
           "zaxis": {
            "backgroundcolor": "#E5ECF6",
            "gridcolor": "white",
            "gridwidth": 2,
            "linecolor": "white",
            "showbackground": true,
            "ticks": "",
            "zerolinecolor": "white"
           }
          },
          "shapedefaults": {
           "line": {
            "color": "#2a3f5f"
           }
          },
          "ternary": {
           "aaxis": {
            "gridcolor": "white",
            "linecolor": "white",
            "ticks": ""
           },
           "baxis": {
            "gridcolor": "white",
            "linecolor": "white",
            "ticks": ""
           },
           "bgcolor": "#E5ECF6",
           "caxis": {
            "gridcolor": "white",
            "linecolor": "white",
            "ticks": ""
           }
          },
          "title": {
           "x": 0.05
          },
          "xaxis": {
           "automargin": true,
           "gridcolor": "white",
           "linecolor": "white",
           "ticks": "",
           "title": {
            "standoff": 15
           },
           "zerolinecolor": "white",
           "zerolinewidth": 2
          },
          "yaxis": {
           "automargin": true,
           "gridcolor": "white",
           "linecolor": "white",
           "ticks": "",
           "title": {
            "standoff": 15
           },
           "zerolinecolor": "white",
           "zerolinewidth": 2
          }
         }
        },
        "title": {
         "text": "Number of Records (Native Country Wise)"
        },
        "xaxis": {
         "anchor": "y",
         "domain": [
          0,
          1
         ],
         "title": {
          "text": "Number of Records"
         }
        },
        "yaxis": {
         "anchor": "x",
         "domain": [
          0,
          1
         ],
         "title": {
          "text": "Country"
         }
        }
       }
      }
     },
     "metadata": {},
     "output_type": "display_data"
    },
    {
     "data": {
      "application/vnd.plotly.v1+json": {
       "config": {
        "plotlyServerURL": "https://plot.ly"
       },
       "data": [
        {
         "domain": {
          "x": [
           0,
           1
          ],
          "y": [
           0,
           1
          ]
         },
         "hovertemplate": "Country=%{label}<br>Number of Records=%{value}<extra></extra>",
         "labels": [
          "NON-US",
          "US"
         ],
         "legendgroup": "",
         "name": "",
         "showlegend": true,
         "type": "pie",
         "values": [
          3391,
          29170
         ]
        }
       ],
       "layout": {
        "legend": {
         "tracegroupgap": 0
        },
        "template": {
         "data": {
          "bar": [
           {
            "error_x": {
             "color": "#2a3f5f"
            },
            "error_y": {
             "color": "#2a3f5f"
            },
            "marker": {
             "line": {
              "color": "#E5ECF6",
              "width": 0.5
             },
             "pattern": {
              "fillmode": "overlay",
              "size": 10,
              "solidity": 0.2
             }
            },
            "type": "bar"
           }
          ],
          "barpolar": [
           {
            "marker": {
             "line": {
              "color": "#E5ECF6",
              "width": 0.5
             },
             "pattern": {
              "fillmode": "overlay",
              "size": 10,
              "solidity": 0.2
             }
            },
            "type": "barpolar"
           }
          ],
          "carpet": [
           {
            "aaxis": {
             "endlinecolor": "#2a3f5f",
             "gridcolor": "white",
             "linecolor": "white",
             "minorgridcolor": "white",
             "startlinecolor": "#2a3f5f"
            },
            "baxis": {
             "endlinecolor": "#2a3f5f",
             "gridcolor": "white",
             "linecolor": "white",
             "minorgridcolor": "white",
             "startlinecolor": "#2a3f5f"
            },
            "type": "carpet"
           }
          ],
          "choropleth": [
           {
            "colorbar": {
             "outlinewidth": 0,
             "ticks": ""
            },
            "type": "choropleth"
           }
          ],
          "contour": [
           {
            "colorbar": {
             "outlinewidth": 0,
             "ticks": ""
            },
            "colorscale": [
             [
              0,
              "#0d0887"
             ],
             [
              0.1111111111111111,
              "#46039f"
             ],
             [
              0.2222222222222222,
              "#7201a8"
             ],
             [
              0.3333333333333333,
              "#9c179e"
             ],
             [
              0.4444444444444444,
              "#bd3786"
             ],
             [
              0.5555555555555556,
              "#d8576b"
             ],
             [
              0.6666666666666666,
              "#ed7953"
             ],
             [
              0.7777777777777778,
              "#fb9f3a"
             ],
             [
              0.8888888888888888,
              "#fdca26"
             ],
             [
              1,
              "#f0f921"
             ]
            ],
            "type": "contour"
           }
          ],
          "contourcarpet": [
           {
            "colorbar": {
             "outlinewidth": 0,
             "ticks": ""
            },
            "type": "contourcarpet"
           }
          ],
          "heatmap": [
           {
            "colorbar": {
             "outlinewidth": 0,
             "ticks": ""
            },
            "colorscale": [
             [
              0,
              "#0d0887"
             ],
             [
              0.1111111111111111,
              "#46039f"
             ],
             [
              0.2222222222222222,
              "#7201a8"
             ],
             [
              0.3333333333333333,
              "#9c179e"
             ],
             [
              0.4444444444444444,
              "#bd3786"
             ],
             [
              0.5555555555555556,
              "#d8576b"
             ],
             [
              0.6666666666666666,
              "#ed7953"
             ],
             [
              0.7777777777777778,
              "#fb9f3a"
             ],
             [
              0.8888888888888888,
              "#fdca26"
             ],
             [
              1,
              "#f0f921"
             ]
            ],
            "type": "heatmap"
           }
          ],
          "heatmapgl": [
           {
            "colorbar": {
             "outlinewidth": 0,
             "ticks": ""
            },
            "colorscale": [
             [
              0,
              "#0d0887"
             ],
             [
              0.1111111111111111,
              "#46039f"
             ],
             [
              0.2222222222222222,
              "#7201a8"
             ],
             [
              0.3333333333333333,
              "#9c179e"
             ],
             [
              0.4444444444444444,
              "#bd3786"
             ],
             [
              0.5555555555555556,
              "#d8576b"
             ],
             [
              0.6666666666666666,
              "#ed7953"
             ],
             [
              0.7777777777777778,
              "#fb9f3a"
             ],
             [
              0.8888888888888888,
              "#fdca26"
             ],
             [
              1,
              "#f0f921"
             ]
            ],
            "type": "heatmapgl"
           }
          ],
          "histogram": [
           {
            "marker": {
             "pattern": {
              "fillmode": "overlay",
              "size": 10,
              "solidity": 0.2
             }
            },
            "type": "histogram"
           }
          ],
          "histogram2d": [
           {
            "colorbar": {
             "outlinewidth": 0,
             "ticks": ""
            },
            "colorscale": [
             [
              0,
              "#0d0887"
             ],
             [
              0.1111111111111111,
              "#46039f"
             ],
             [
              0.2222222222222222,
              "#7201a8"
             ],
             [
              0.3333333333333333,
              "#9c179e"
             ],
             [
              0.4444444444444444,
              "#bd3786"
             ],
             [
              0.5555555555555556,
              "#d8576b"
             ],
             [
              0.6666666666666666,
              "#ed7953"
             ],
             [
              0.7777777777777778,
              "#fb9f3a"
             ],
             [
              0.8888888888888888,
              "#fdca26"
             ],
             [
              1,
              "#f0f921"
             ]
            ],
            "type": "histogram2d"
           }
          ],
          "histogram2dcontour": [
           {
            "colorbar": {
             "outlinewidth": 0,
             "ticks": ""
            },
            "colorscale": [
             [
              0,
              "#0d0887"
             ],
             [
              0.1111111111111111,
              "#46039f"
             ],
             [
              0.2222222222222222,
              "#7201a8"
             ],
             [
              0.3333333333333333,
              "#9c179e"
             ],
             [
              0.4444444444444444,
              "#bd3786"
             ],
             [
              0.5555555555555556,
              "#d8576b"
             ],
             [
              0.6666666666666666,
              "#ed7953"
             ],
             [
              0.7777777777777778,
              "#fb9f3a"
             ],
             [
              0.8888888888888888,
              "#fdca26"
             ],
             [
              1,
              "#f0f921"
             ]
            ],
            "type": "histogram2dcontour"
           }
          ],
          "mesh3d": [
           {
            "colorbar": {
             "outlinewidth": 0,
             "ticks": ""
            },
            "type": "mesh3d"
           }
          ],
          "parcoords": [
           {
            "line": {
             "colorbar": {
              "outlinewidth": 0,
              "ticks": ""
             }
            },
            "type": "parcoords"
           }
          ],
          "pie": [
           {
            "automargin": true,
            "type": "pie"
           }
          ],
          "scatter": [
           {
            "fillpattern": {
             "fillmode": "overlay",
             "size": 10,
             "solidity": 0.2
            },
            "type": "scatter"
           }
          ],
          "scatter3d": [
           {
            "line": {
             "colorbar": {
              "outlinewidth": 0,
              "ticks": ""
             }
            },
            "marker": {
             "colorbar": {
              "outlinewidth": 0,
              "ticks": ""
             }
            },
            "type": "scatter3d"
           }
          ],
          "scattercarpet": [
           {
            "marker": {
             "colorbar": {
              "outlinewidth": 0,
              "ticks": ""
             }
            },
            "type": "scattercarpet"
           }
          ],
          "scattergeo": [
           {
            "marker": {
             "colorbar": {
              "outlinewidth": 0,
              "ticks": ""
             }
            },
            "type": "scattergeo"
           }
          ],
          "scattergl": [
           {
            "marker": {
             "colorbar": {
              "outlinewidth": 0,
              "ticks": ""
             }
            },
            "type": "scattergl"
           }
          ],
          "scattermapbox": [
           {
            "marker": {
             "colorbar": {
              "outlinewidth": 0,
              "ticks": ""
             }
            },
            "type": "scattermapbox"
           }
          ],
          "scatterpolar": [
           {
            "marker": {
             "colorbar": {
              "outlinewidth": 0,
              "ticks": ""
             }
            },
            "type": "scatterpolar"
           }
          ],
          "scatterpolargl": [
           {
            "marker": {
             "colorbar": {
              "outlinewidth": 0,
              "ticks": ""
             }
            },
            "type": "scatterpolargl"
           }
          ],
          "scatterternary": [
           {
            "marker": {
             "colorbar": {
              "outlinewidth": 0,
              "ticks": ""
             }
            },
            "type": "scatterternary"
           }
          ],
          "surface": [
           {
            "colorbar": {
             "outlinewidth": 0,
             "ticks": ""
            },
            "colorscale": [
             [
              0,
              "#0d0887"
             ],
             [
              0.1111111111111111,
              "#46039f"
             ],
             [
              0.2222222222222222,
              "#7201a8"
             ],
             [
              0.3333333333333333,
              "#9c179e"
             ],
             [
              0.4444444444444444,
              "#bd3786"
             ],
             [
              0.5555555555555556,
              "#d8576b"
             ],
             [
              0.6666666666666666,
              "#ed7953"
             ],
             [
              0.7777777777777778,
              "#fb9f3a"
             ],
             [
              0.8888888888888888,
              "#fdca26"
             ],
             [
              1,
              "#f0f921"
             ]
            ],
            "type": "surface"
           }
          ],
          "table": [
           {
            "cells": {
             "fill": {
              "color": "#EBF0F8"
             },
             "line": {
              "color": "white"
             }
            },
            "header": {
             "fill": {
              "color": "#C8D4E3"
             },
             "line": {
              "color": "white"
             }
            },
            "type": "table"
           }
          ]
         },
         "layout": {
          "annotationdefaults": {
           "arrowcolor": "#2a3f5f",
           "arrowhead": 0,
           "arrowwidth": 1
          },
          "autotypenumbers": "strict",
          "coloraxis": {
           "colorbar": {
            "outlinewidth": 0,
            "ticks": ""
           }
          },
          "colorscale": {
           "diverging": [
            [
             0,
             "#8e0152"
            ],
            [
             0.1,
             "#c51b7d"
            ],
            [
             0.2,
             "#de77ae"
            ],
            [
             0.3,
             "#f1b6da"
            ],
            [
             0.4,
             "#fde0ef"
            ],
            [
             0.5,
             "#f7f7f7"
            ],
            [
             0.6,
             "#e6f5d0"
            ],
            [
             0.7,
             "#b8e186"
            ],
            [
             0.8,
             "#7fbc41"
            ],
            [
             0.9,
             "#4d9221"
            ],
            [
             1,
             "#276419"
            ]
           ],
           "sequential": [
            [
             0,
             "#0d0887"
            ],
            [
             0.1111111111111111,
             "#46039f"
            ],
            [
             0.2222222222222222,
             "#7201a8"
            ],
            [
             0.3333333333333333,
             "#9c179e"
            ],
            [
             0.4444444444444444,
             "#bd3786"
            ],
            [
             0.5555555555555556,
             "#d8576b"
            ],
            [
             0.6666666666666666,
             "#ed7953"
            ],
            [
             0.7777777777777778,
             "#fb9f3a"
            ],
            [
             0.8888888888888888,
             "#fdca26"
            ],
            [
             1,
             "#f0f921"
            ]
           ],
           "sequentialminus": [
            [
             0,
             "#0d0887"
            ],
            [
             0.1111111111111111,
             "#46039f"
            ],
            [
             0.2222222222222222,
             "#7201a8"
            ],
            [
             0.3333333333333333,
             "#9c179e"
            ],
            [
             0.4444444444444444,
             "#bd3786"
            ],
            [
             0.5555555555555556,
             "#d8576b"
            ],
            [
             0.6666666666666666,
             "#ed7953"
            ],
            [
             0.7777777777777778,
             "#fb9f3a"
            ],
            [
             0.8888888888888888,
             "#fdca26"
            ],
            [
             1,
             "#f0f921"
            ]
           ]
          },
          "colorway": [
           "#636efa",
           "#EF553B",
           "#00cc96",
           "#ab63fa",
           "#FFA15A",
           "#19d3f3",
           "#FF6692",
           "#B6E880",
           "#FF97FF",
           "#FECB52"
          ],
          "font": {
           "color": "#2a3f5f"
          },
          "geo": {
           "bgcolor": "white",
           "lakecolor": "white",
           "landcolor": "#E5ECF6",
           "showlakes": true,
           "showland": true,
           "subunitcolor": "white"
          },
          "hoverlabel": {
           "align": "left"
          },
          "hovermode": "closest",
          "mapbox": {
           "style": "light"
          },
          "paper_bgcolor": "white",
          "plot_bgcolor": "#E5ECF6",
          "polar": {
           "angularaxis": {
            "gridcolor": "white",
            "linecolor": "white",
            "ticks": ""
           },
           "bgcolor": "#E5ECF6",
           "radialaxis": {
            "gridcolor": "white",
            "linecolor": "white",
            "ticks": ""
           }
          },
          "scene": {
           "xaxis": {
            "backgroundcolor": "#E5ECF6",
            "gridcolor": "white",
            "gridwidth": 2,
            "linecolor": "white",
            "showbackground": true,
            "ticks": "",
            "zerolinecolor": "white"
           },
           "yaxis": {
            "backgroundcolor": "#E5ECF6",
            "gridcolor": "white",
            "gridwidth": 2,
            "linecolor": "white",
            "showbackground": true,
            "ticks": "",
            "zerolinecolor": "white"
           },
           "zaxis": {
            "backgroundcolor": "#E5ECF6",
            "gridcolor": "white",
            "gridwidth": 2,
            "linecolor": "white",
            "showbackground": true,
            "ticks": "",
            "zerolinecolor": "white"
           }
          },
          "shapedefaults": {
           "line": {
            "color": "#2a3f5f"
           }
          },
          "ternary": {
           "aaxis": {
            "gridcolor": "white",
            "linecolor": "white",
            "ticks": ""
           },
           "baxis": {
            "gridcolor": "white",
            "linecolor": "white",
            "ticks": ""
           },
           "bgcolor": "#E5ECF6",
           "caxis": {
            "gridcolor": "white",
            "linecolor": "white",
            "ticks": ""
           }
          },
          "title": {
           "x": 0.05
          },
          "xaxis": {
           "automargin": true,
           "gridcolor": "white",
           "linecolor": "white",
           "ticks": "",
           "title": {
            "standoff": 15
           },
           "zerolinecolor": "white",
           "zerolinewidth": 2
          },
          "yaxis": {
           "automargin": true,
           "gridcolor": "white",
           "linecolor": "white",
           "ticks": "",
           "title": {
            "standoff": 15
           },
           "zerolinecolor": "white",
           "zerolinewidth": 2
          }
         }
        },
        "title": {
         "text": "Number of Records (Native Country Wise)"
        }
       }
      }
     },
     "metadata": {},
     "output_type": "display_data"
    }
   ],
   "source": [
    "#Plotting Graph of Number of Records grouped by Native Country\n",
    "temp = df_original['native_country'].groupby(df_original['native_country']).count().reset_index(name='count')\n",
    "temp = temp.sort_values('count')\n",
    "fig = px.bar(temp, \n",
    "             y='native_country', \n",
    "             x='count', \n",
    "             title='Number of Records (Native Country Wise)', \n",
    "             labels={'native_country': 'Country', 'count': 'Number of Records'})\n",
    "fig.update_layout(height=900)\n",
    "fig.show()\n",
    "\n",
    "#Plotting Graph of Native Country US vs NON-US\n",
    "temp=pd.DataFrame()\n",
    "temp['native_country'] = df_original['native_country'].copy()\n",
    "temp['native_country'] = np.where(temp['native_country']==\" United-States\",\"US\",\"NON-US\")\n",
    "temp = temp.groupby('native_country').size().reset_index(name = 'count')\n",
    "fig = px.pie(temp, \n",
    "             names='native_country', \n",
    "             values='count',\n",
    "             title='Number of Records (Native Country Wise)',\n",
    "             labels={'native_country': 'Country', \n",
    "                     'count': 'Number of Records'})\n",
    "fig.show()\n"
   ]
  },
  {
   "attachments": {},
   "cell_type": "markdown",
   "metadata": {},
   "source": [
    "Conclusion:\n",
    "<ul> Majority of indiduals in dataset have \"United States\" as their native country .</ul>"
   ]
  },
  {
   "attachments": {},
   "cell_type": "markdown",
   "metadata": {},
   "source": [
    "##### Explore Education Years vs Income"
   ]
  },
  {
   "cell_type": "code",
   "execution_count": 53,
   "metadata": {},
   "outputs": [
    {
     "data": {
      "application/vnd.plotly.v1+json": {
       "config": {
        "plotlyServerURL": "https://plot.ly"
       },
       "data": [
        {
         "alignmentgroup": "True",
         "hovertemplate": "Years of Education=%{marker.color}<br>Ratio of records with income >50K=%{y}<extra></extra>",
         "legendgroup": "",
         "marker": {
          "color": [
           1,
           2,
           3,
           4,
           5,
           6,
           7,
           8,
           9,
           10,
           11,
           12,
           13,
           14,
           15,
           16
          ],
          "coloraxis": "coloraxis",
          "pattern": {
           "shape": ""
          }
         },
         "name": "",
         "offsetgroup": "",
         "orientation": "v",
         "showlegend": false,
         "textposition": "auto",
         "type": "bar",
         "x": [
          1,
          2,
          3,
          4,
          5,
          6,
          7,
          8,
          9,
          10,
          11,
          12,
          13,
          14,
          15,
          16
         ],
         "xaxis": "x",
         "y": [
          0,
          0.04,
          0.05,
          0.06,
          0.05,
          0.07,
          0.05,
          0.08,
          0.16,
          0.19,
          0.26,
          0.25,
          0.41,
          0.56,
          0.73,
          0.74
         ],
         "yaxis": "y"
        }
       ],
       "layout": {
        "barmode": "relative",
        "coloraxis": {
         "colorbar": {
          "title": {
           "text": "Years of Education"
          }
         },
         "colorscale": [
          [
           0,
           "rgb(255,255,217)"
          ],
          [
           0.125,
           "rgb(237,248,177)"
          ],
          [
           0.25,
           "rgb(199,233,180)"
          ],
          [
           0.375,
           "rgb(127,205,187)"
          ],
          [
           0.5,
           "rgb(65,182,196)"
          ],
          [
           0.625,
           "rgb(29,145,192)"
          ],
          [
           0.75,
           "rgb(34,94,168)"
          ],
          [
           0.875,
           "rgb(37,52,148)"
          ],
          [
           1,
           "rgb(8,29,88)"
          ]
         ]
        },
        "legend": {
         "tracegroupgap": 0
        },
        "template": {
         "data": {
          "bar": [
           {
            "error_x": {
             "color": "#2a3f5f"
            },
            "error_y": {
             "color": "#2a3f5f"
            },
            "marker": {
             "line": {
              "color": "#E5ECF6",
              "width": 0.5
             },
             "pattern": {
              "fillmode": "overlay",
              "size": 10,
              "solidity": 0.2
             }
            },
            "type": "bar"
           }
          ],
          "barpolar": [
           {
            "marker": {
             "line": {
              "color": "#E5ECF6",
              "width": 0.5
             },
             "pattern": {
              "fillmode": "overlay",
              "size": 10,
              "solidity": 0.2
             }
            },
            "type": "barpolar"
           }
          ],
          "carpet": [
           {
            "aaxis": {
             "endlinecolor": "#2a3f5f",
             "gridcolor": "white",
             "linecolor": "white",
             "minorgridcolor": "white",
             "startlinecolor": "#2a3f5f"
            },
            "baxis": {
             "endlinecolor": "#2a3f5f",
             "gridcolor": "white",
             "linecolor": "white",
             "minorgridcolor": "white",
             "startlinecolor": "#2a3f5f"
            },
            "type": "carpet"
           }
          ],
          "choropleth": [
           {
            "colorbar": {
             "outlinewidth": 0,
             "ticks": ""
            },
            "type": "choropleth"
           }
          ],
          "contour": [
           {
            "colorbar": {
             "outlinewidth": 0,
             "ticks": ""
            },
            "colorscale": [
             [
              0,
              "#0d0887"
             ],
             [
              0.1111111111111111,
              "#46039f"
             ],
             [
              0.2222222222222222,
              "#7201a8"
             ],
             [
              0.3333333333333333,
              "#9c179e"
             ],
             [
              0.4444444444444444,
              "#bd3786"
             ],
             [
              0.5555555555555556,
              "#d8576b"
             ],
             [
              0.6666666666666666,
              "#ed7953"
             ],
             [
              0.7777777777777778,
              "#fb9f3a"
             ],
             [
              0.8888888888888888,
              "#fdca26"
             ],
             [
              1,
              "#f0f921"
             ]
            ],
            "type": "contour"
           }
          ],
          "contourcarpet": [
           {
            "colorbar": {
             "outlinewidth": 0,
             "ticks": ""
            },
            "type": "contourcarpet"
           }
          ],
          "heatmap": [
           {
            "colorbar": {
             "outlinewidth": 0,
             "ticks": ""
            },
            "colorscale": [
             [
              0,
              "#0d0887"
             ],
             [
              0.1111111111111111,
              "#46039f"
             ],
             [
              0.2222222222222222,
              "#7201a8"
             ],
             [
              0.3333333333333333,
              "#9c179e"
             ],
             [
              0.4444444444444444,
              "#bd3786"
             ],
             [
              0.5555555555555556,
              "#d8576b"
             ],
             [
              0.6666666666666666,
              "#ed7953"
             ],
             [
              0.7777777777777778,
              "#fb9f3a"
             ],
             [
              0.8888888888888888,
              "#fdca26"
             ],
             [
              1,
              "#f0f921"
             ]
            ],
            "type": "heatmap"
           }
          ],
          "heatmapgl": [
           {
            "colorbar": {
             "outlinewidth": 0,
             "ticks": ""
            },
            "colorscale": [
             [
              0,
              "#0d0887"
             ],
             [
              0.1111111111111111,
              "#46039f"
             ],
             [
              0.2222222222222222,
              "#7201a8"
             ],
             [
              0.3333333333333333,
              "#9c179e"
             ],
             [
              0.4444444444444444,
              "#bd3786"
             ],
             [
              0.5555555555555556,
              "#d8576b"
             ],
             [
              0.6666666666666666,
              "#ed7953"
             ],
             [
              0.7777777777777778,
              "#fb9f3a"
             ],
             [
              0.8888888888888888,
              "#fdca26"
             ],
             [
              1,
              "#f0f921"
             ]
            ],
            "type": "heatmapgl"
           }
          ],
          "histogram": [
           {
            "marker": {
             "pattern": {
              "fillmode": "overlay",
              "size": 10,
              "solidity": 0.2
             }
            },
            "type": "histogram"
           }
          ],
          "histogram2d": [
           {
            "colorbar": {
             "outlinewidth": 0,
             "ticks": ""
            },
            "colorscale": [
             [
              0,
              "#0d0887"
             ],
             [
              0.1111111111111111,
              "#46039f"
             ],
             [
              0.2222222222222222,
              "#7201a8"
             ],
             [
              0.3333333333333333,
              "#9c179e"
             ],
             [
              0.4444444444444444,
              "#bd3786"
             ],
             [
              0.5555555555555556,
              "#d8576b"
             ],
             [
              0.6666666666666666,
              "#ed7953"
             ],
             [
              0.7777777777777778,
              "#fb9f3a"
             ],
             [
              0.8888888888888888,
              "#fdca26"
             ],
             [
              1,
              "#f0f921"
             ]
            ],
            "type": "histogram2d"
           }
          ],
          "histogram2dcontour": [
           {
            "colorbar": {
             "outlinewidth": 0,
             "ticks": ""
            },
            "colorscale": [
             [
              0,
              "#0d0887"
             ],
             [
              0.1111111111111111,
              "#46039f"
             ],
             [
              0.2222222222222222,
              "#7201a8"
             ],
             [
              0.3333333333333333,
              "#9c179e"
             ],
             [
              0.4444444444444444,
              "#bd3786"
             ],
             [
              0.5555555555555556,
              "#d8576b"
             ],
             [
              0.6666666666666666,
              "#ed7953"
             ],
             [
              0.7777777777777778,
              "#fb9f3a"
             ],
             [
              0.8888888888888888,
              "#fdca26"
             ],
             [
              1,
              "#f0f921"
             ]
            ],
            "type": "histogram2dcontour"
           }
          ],
          "mesh3d": [
           {
            "colorbar": {
             "outlinewidth": 0,
             "ticks": ""
            },
            "type": "mesh3d"
           }
          ],
          "parcoords": [
           {
            "line": {
             "colorbar": {
              "outlinewidth": 0,
              "ticks": ""
             }
            },
            "type": "parcoords"
           }
          ],
          "pie": [
           {
            "automargin": true,
            "type": "pie"
           }
          ],
          "scatter": [
           {
            "fillpattern": {
             "fillmode": "overlay",
             "size": 10,
             "solidity": 0.2
            },
            "type": "scatter"
           }
          ],
          "scatter3d": [
           {
            "line": {
             "colorbar": {
              "outlinewidth": 0,
              "ticks": ""
             }
            },
            "marker": {
             "colorbar": {
              "outlinewidth": 0,
              "ticks": ""
             }
            },
            "type": "scatter3d"
           }
          ],
          "scattercarpet": [
           {
            "marker": {
             "colorbar": {
              "outlinewidth": 0,
              "ticks": ""
             }
            },
            "type": "scattercarpet"
           }
          ],
          "scattergeo": [
           {
            "marker": {
             "colorbar": {
              "outlinewidth": 0,
              "ticks": ""
             }
            },
            "type": "scattergeo"
           }
          ],
          "scattergl": [
           {
            "marker": {
             "colorbar": {
              "outlinewidth": 0,
              "ticks": ""
             }
            },
            "type": "scattergl"
           }
          ],
          "scattermapbox": [
           {
            "marker": {
             "colorbar": {
              "outlinewidth": 0,
              "ticks": ""
             }
            },
            "type": "scattermapbox"
           }
          ],
          "scatterpolar": [
           {
            "marker": {
             "colorbar": {
              "outlinewidth": 0,
              "ticks": ""
             }
            },
            "type": "scatterpolar"
           }
          ],
          "scatterpolargl": [
           {
            "marker": {
             "colorbar": {
              "outlinewidth": 0,
              "ticks": ""
             }
            },
            "type": "scatterpolargl"
           }
          ],
          "scatterternary": [
           {
            "marker": {
             "colorbar": {
              "outlinewidth": 0,
              "ticks": ""
             }
            },
            "type": "scatterternary"
           }
          ],
          "surface": [
           {
            "colorbar": {
             "outlinewidth": 0,
             "ticks": ""
            },
            "colorscale": [
             [
              0,
              "#0d0887"
             ],
             [
              0.1111111111111111,
              "#46039f"
             ],
             [
              0.2222222222222222,
              "#7201a8"
             ],
             [
              0.3333333333333333,
              "#9c179e"
             ],
             [
              0.4444444444444444,
              "#bd3786"
             ],
             [
              0.5555555555555556,
              "#d8576b"
             ],
             [
              0.6666666666666666,
              "#ed7953"
             ],
             [
              0.7777777777777778,
              "#fb9f3a"
             ],
             [
              0.8888888888888888,
              "#fdca26"
             ],
             [
              1,
              "#f0f921"
             ]
            ],
            "type": "surface"
           }
          ],
          "table": [
           {
            "cells": {
             "fill": {
              "color": "#EBF0F8"
             },
             "line": {
              "color": "white"
             }
            },
            "header": {
             "fill": {
              "color": "#C8D4E3"
             },
             "line": {
              "color": "white"
             }
            },
            "type": "table"
           }
          ]
         },
         "layout": {
          "annotationdefaults": {
           "arrowcolor": "#2a3f5f",
           "arrowhead": 0,
           "arrowwidth": 1
          },
          "autotypenumbers": "strict",
          "coloraxis": {
           "colorbar": {
            "outlinewidth": 0,
            "ticks": ""
           }
          },
          "colorscale": {
           "diverging": [
            [
             0,
             "#8e0152"
            ],
            [
             0.1,
             "#c51b7d"
            ],
            [
             0.2,
             "#de77ae"
            ],
            [
             0.3,
             "#f1b6da"
            ],
            [
             0.4,
             "#fde0ef"
            ],
            [
             0.5,
             "#f7f7f7"
            ],
            [
             0.6,
             "#e6f5d0"
            ],
            [
             0.7,
             "#b8e186"
            ],
            [
             0.8,
             "#7fbc41"
            ],
            [
             0.9,
             "#4d9221"
            ],
            [
             1,
             "#276419"
            ]
           ],
           "sequential": [
            [
             0,
             "#0d0887"
            ],
            [
             0.1111111111111111,
             "#46039f"
            ],
            [
             0.2222222222222222,
             "#7201a8"
            ],
            [
             0.3333333333333333,
             "#9c179e"
            ],
            [
             0.4444444444444444,
             "#bd3786"
            ],
            [
             0.5555555555555556,
             "#d8576b"
            ],
            [
             0.6666666666666666,
             "#ed7953"
            ],
            [
             0.7777777777777778,
             "#fb9f3a"
            ],
            [
             0.8888888888888888,
             "#fdca26"
            ],
            [
             1,
             "#f0f921"
            ]
           ],
           "sequentialminus": [
            [
             0,
             "#0d0887"
            ],
            [
             0.1111111111111111,
             "#46039f"
            ],
            [
             0.2222222222222222,
             "#7201a8"
            ],
            [
             0.3333333333333333,
             "#9c179e"
            ],
            [
             0.4444444444444444,
             "#bd3786"
            ],
            [
             0.5555555555555556,
             "#d8576b"
            ],
            [
             0.6666666666666666,
             "#ed7953"
            ],
            [
             0.7777777777777778,
             "#fb9f3a"
            ],
            [
             0.8888888888888888,
             "#fdca26"
            ],
            [
             1,
             "#f0f921"
            ]
           ]
          },
          "colorway": [
           "#636efa",
           "#EF553B",
           "#00cc96",
           "#ab63fa",
           "#FFA15A",
           "#19d3f3",
           "#FF6692",
           "#B6E880",
           "#FF97FF",
           "#FECB52"
          ],
          "font": {
           "color": "#2a3f5f"
          },
          "geo": {
           "bgcolor": "white",
           "lakecolor": "white",
           "landcolor": "#E5ECF6",
           "showlakes": true,
           "showland": true,
           "subunitcolor": "white"
          },
          "hoverlabel": {
           "align": "left"
          },
          "hovermode": "closest",
          "mapbox": {
           "style": "light"
          },
          "paper_bgcolor": "white",
          "plot_bgcolor": "#E5ECF6",
          "polar": {
           "angularaxis": {
            "gridcolor": "white",
            "linecolor": "white",
            "ticks": ""
           },
           "bgcolor": "#E5ECF6",
           "radialaxis": {
            "gridcolor": "white",
            "linecolor": "white",
            "ticks": ""
           }
          },
          "scene": {
           "xaxis": {
            "backgroundcolor": "#E5ECF6",
            "gridcolor": "white",
            "gridwidth": 2,
            "linecolor": "white",
            "showbackground": true,
            "ticks": "",
            "zerolinecolor": "white"
           },
           "yaxis": {
            "backgroundcolor": "#E5ECF6",
            "gridcolor": "white",
            "gridwidth": 2,
            "linecolor": "white",
            "showbackground": true,
            "ticks": "",
            "zerolinecolor": "white"
           },
           "zaxis": {
            "backgroundcolor": "#E5ECF6",
            "gridcolor": "white",
            "gridwidth": 2,
            "linecolor": "white",
            "showbackground": true,
            "ticks": "",
            "zerolinecolor": "white"
           }
          },
          "shapedefaults": {
           "line": {
            "color": "#2a3f5f"
           }
          },
          "ternary": {
           "aaxis": {
            "gridcolor": "white",
            "linecolor": "white",
            "ticks": ""
           },
           "baxis": {
            "gridcolor": "white",
            "linecolor": "white",
            "ticks": ""
           },
           "bgcolor": "#E5ECF6",
           "caxis": {
            "gridcolor": "white",
            "linecolor": "white",
            "ticks": ""
           }
          },
          "title": {
           "x": 0.05
          },
          "xaxis": {
           "automargin": true,
           "gridcolor": "white",
           "linecolor": "white",
           "ticks": "",
           "title": {
            "standoff": 15
           },
           "zerolinecolor": "white",
           "zerolinewidth": 2
          },
          "yaxis": {
           "automargin": true,
           "gridcolor": "white",
           "linecolor": "white",
           "ticks": "",
           "title": {
            "standoff": 15
           },
           "zerolinecolor": "white",
           "zerolinewidth": 2
          }
         }
        },
        "title": {
         "text": "Education Years vs Income"
        },
        "xaxis": {
         "anchor": "y",
         "domain": [
          0,
          1
         ],
         "title": {
          "text": "Years of Education"
         }
        },
        "yaxis": {
         "anchor": "x",
         "domain": [
          0,
          1
         ],
         "title": {
          "text": "Ratio of records with income >50K"
         }
        }
       }
      }
     },
     "metadata": {},
     "output_type": "display_data"
    }
   ],
   "source": [
    "# Calculating Probability of income >50K while grouped by Years of Education \n",
    "temp = df_original.groupby('education_years')['income'].value_counts().sort_index()\n",
    "l = [0]\n",
    "for i in range(2,17):\n",
    "        l.append(round((temp[i][1])/(temp[i][1]+temp[i][0]),2))\n",
    "\n",
    "# Plotting Graph \n",
    "temp = {}\n",
    "temp['years'] = np.arange(np.min(df_original.education_years),np.max(df_original.education_years)+1)\n",
    "temp['probability']= l\n",
    "fig = px.bar(pd.DataFrame(temp),\n",
    "             x='years',\n",
    "             y='probability',\n",
    "             color='years',\n",
    "             color_continuous_scale=\"ylgnbu\",\n",
    "             title='Education Years vs Income',\n",
    "             labels={'years':'Years of Education','probability':'Ratio of records with income >50K'})\n",
    "fig.show()"
   ]
  },
  {
   "attachments": {},
   "cell_type": "markdown",
   "metadata": {},
   "source": [
    "Conclusion:\n",
    "<ul> There is a direct relationship between \"Individuals earning >50K\" and \"Number of years of education\".</ul>"
   ]
  },
  {
   "attachments": {},
   "cell_type": "markdown",
   "metadata": {},
   "source": [
    "##### Workclasses vs Income"
   ]
  },
  {
   "cell_type": "code",
   "execution_count": 54,
   "metadata": {},
   "outputs": [
    {
     "data": {
      "application/vnd.plotly.v1+json": {
       "config": {
        "plotlyServerURL": "https://plot.ly"
       },
       "data": [
        {
         "alignmentgroup": "True",
         "hovertemplate": "Workclass=%{x}<br>Ratio=%{marker.color}<extra></extra>",
         "legendgroup": "",
         "marker": {
          "color": [
           0,
           0,
           0.22,
           0.27,
           0.28,
           0.29,
           0.39,
           0.56
          ],
          "coloraxis": "coloraxis",
          "pattern": {
           "shape": ""
          }
         },
         "name": "",
         "offsetgroup": "",
         "orientation": "v",
         "showlegend": false,
         "textposition": "auto",
         "type": "bar",
         "x": [
          " Never-worked",
          " Without-pay",
          " Private",
          " State-gov",
          " Self-emp-not-inc",
          " Local-gov",
          " Federal-gov",
          " Self-emp-inc"
         ],
         "xaxis": "x",
         "y": [
          0,
          0,
          0.22,
          0.27,
          0.28,
          0.29,
          0.39,
          0.56
         ],
         "yaxis": "y"
        }
       ],
       "layout": {
        "barmode": "relative",
        "coloraxis": {
         "colorbar": {
          "title": {
           "text": "Ratio"
          }
         },
         "colorscale": [
          [
           0,
           "rgb(247,252,245)"
          ],
          [
           0.125,
           "rgb(229,245,224)"
          ],
          [
           0.25,
           "rgb(199,233,192)"
          ],
          [
           0.375,
           "rgb(161,217,155)"
          ],
          [
           0.5,
           "rgb(116,196,118)"
          ],
          [
           0.625,
           "rgb(65,171,93)"
          ],
          [
           0.75,
           "rgb(35,139,69)"
          ],
          [
           0.875,
           "rgb(0,109,44)"
          ],
          [
           1,
           "rgb(0,68,27)"
          ]
         ]
        },
        "legend": {
         "tracegroupgap": 0
        },
        "template": {
         "data": {
          "bar": [
           {
            "error_x": {
             "color": "#2a3f5f"
            },
            "error_y": {
             "color": "#2a3f5f"
            },
            "marker": {
             "line": {
              "color": "#E5ECF6",
              "width": 0.5
             },
             "pattern": {
              "fillmode": "overlay",
              "size": 10,
              "solidity": 0.2
             }
            },
            "type": "bar"
           }
          ],
          "barpolar": [
           {
            "marker": {
             "line": {
              "color": "#E5ECF6",
              "width": 0.5
             },
             "pattern": {
              "fillmode": "overlay",
              "size": 10,
              "solidity": 0.2
             }
            },
            "type": "barpolar"
           }
          ],
          "carpet": [
           {
            "aaxis": {
             "endlinecolor": "#2a3f5f",
             "gridcolor": "white",
             "linecolor": "white",
             "minorgridcolor": "white",
             "startlinecolor": "#2a3f5f"
            },
            "baxis": {
             "endlinecolor": "#2a3f5f",
             "gridcolor": "white",
             "linecolor": "white",
             "minorgridcolor": "white",
             "startlinecolor": "#2a3f5f"
            },
            "type": "carpet"
           }
          ],
          "choropleth": [
           {
            "colorbar": {
             "outlinewidth": 0,
             "ticks": ""
            },
            "type": "choropleth"
           }
          ],
          "contour": [
           {
            "colorbar": {
             "outlinewidth": 0,
             "ticks": ""
            },
            "colorscale": [
             [
              0,
              "#0d0887"
             ],
             [
              0.1111111111111111,
              "#46039f"
             ],
             [
              0.2222222222222222,
              "#7201a8"
             ],
             [
              0.3333333333333333,
              "#9c179e"
             ],
             [
              0.4444444444444444,
              "#bd3786"
             ],
             [
              0.5555555555555556,
              "#d8576b"
             ],
             [
              0.6666666666666666,
              "#ed7953"
             ],
             [
              0.7777777777777778,
              "#fb9f3a"
             ],
             [
              0.8888888888888888,
              "#fdca26"
             ],
             [
              1,
              "#f0f921"
             ]
            ],
            "type": "contour"
           }
          ],
          "contourcarpet": [
           {
            "colorbar": {
             "outlinewidth": 0,
             "ticks": ""
            },
            "type": "contourcarpet"
           }
          ],
          "heatmap": [
           {
            "colorbar": {
             "outlinewidth": 0,
             "ticks": ""
            },
            "colorscale": [
             [
              0,
              "#0d0887"
             ],
             [
              0.1111111111111111,
              "#46039f"
             ],
             [
              0.2222222222222222,
              "#7201a8"
             ],
             [
              0.3333333333333333,
              "#9c179e"
             ],
             [
              0.4444444444444444,
              "#bd3786"
             ],
             [
              0.5555555555555556,
              "#d8576b"
             ],
             [
              0.6666666666666666,
              "#ed7953"
             ],
             [
              0.7777777777777778,
              "#fb9f3a"
             ],
             [
              0.8888888888888888,
              "#fdca26"
             ],
             [
              1,
              "#f0f921"
             ]
            ],
            "type": "heatmap"
           }
          ],
          "heatmapgl": [
           {
            "colorbar": {
             "outlinewidth": 0,
             "ticks": ""
            },
            "colorscale": [
             [
              0,
              "#0d0887"
             ],
             [
              0.1111111111111111,
              "#46039f"
             ],
             [
              0.2222222222222222,
              "#7201a8"
             ],
             [
              0.3333333333333333,
              "#9c179e"
             ],
             [
              0.4444444444444444,
              "#bd3786"
             ],
             [
              0.5555555555555556,
              "#d8576b"
             ],
             [
              0.6666666666666666,
              "#ed7953"
             ],
             [
              0.7777777777777778,
              "#fb9f3a"
             ],
             [
              0.8888888888888888,
              "#fdca26"
             ],
             [
              1,
              "#f0f921"
             ]
            ],
            "type": "heatmapgl"
           }
          ],
          "histogram": [
           {
            "marker": {
             "pattern": {
              "fillmode": "overlay",
              "size": 10,
              "solidity": 0.2
             }
            },
            "type": "histogram"
           }
          ],
          "histogram2d": [
           {
            "colorbar": {
             "outlinewidth": 0,
             "ticks": ""
            },
            "colorscale": [
             [
              0,
              "#0d0887"
             ],
             [
              0.1111111111111111,
              "#46039f"
             ],
             [
              0.2222222222222222,
              "#7201a8"
             ],
             [
              0.3333333333333333,
              "#9c179e"
             ],
             [
              0.4444444444444444,
              "#bd3786"
             ],
             [
              0.5555555555555556,
              "#d8576b"
             ],
             [
              0.6666666666666666,
              "#ed7953"
             ],
             [
              0.7777777777777778,
              "#fb9f3a"
             ],
             [
              0.8888888888888888,
              "#fdca26"
             ],
             [
              1,
              "#f0f921"
             ]
            ],
            "type": "histogram2d"
           }
          ],
          "histogram2dcontour": [
           {
            "colorbar": {
             "outlinewidth": 0,
             "ticks": ""
            },
            "colorscale": [
             [
              0,
              "#0d0887"
             ],
             [
              0.1111111111111111,
              "#46039f"
             ],
             [
              0.2222222222222222,
              "#7201a8"
             ],
             [
              0.3333333333333333,
              "#9c179e"
             ],
             [
              0.4444444444444444,
              "#bd3786"
             ],
             [
              0.5555555555555556,
              "#d8576b"
             ],
             [
              0.6666666666666666,
              "#ed7953"
             ],
             [
              0.7777777777777778,
              "#fb9f3a"
             ],
             [
              0.8888888888888888,
              "#fdca26"
             ],
             [
              1,
              "#f0f921"
             ]
            ],
            "type": "histogram2dcontour"
           }
          ],
          "mesh3d": [
           {
            "colorbar": {
             "outlinewidth": 0,
             "ticks": ""
            },
            "type": "mesh3d"
           }
          ],
          "parcoords": [
           {
            "line": {
             "colorbar": {
              "outlinewidth": 0,
              "ticks": ""
             }
            },
            "type": "parcoords"
           }
          ],
          "pie": [
           {
            "automargin": true,
            "type": "pie"
           }
          ],
          "scatter": [
           {
            "fillpattern": {
             "fillmode": "overlay",
             "size": 10,
             "solidity": 0.2
            },
            "type": "scatter"
           }
          ],
          "scatter3d": [
           {
            "line": {
             "colorbar": {
              "outlinewidth": 0,
              "ticks": ""
             }
            },
            "marker": {
             "colorbar": {
              "outlinewidth": 0,
              "ticks": ""
             }
            },
            "type": "scatter3d"
           }
          ],
          "scattercarpet": [
           {
            "marker": {
             "colorbar": {
              "outlinewidth": 0,
              "ticks": ""
             }
            },
            "type": "scattercarpet"
           }
          ],
          "scattergeo": [
           {
            "marker": {
             "colorbar": {
              "outlinewidth": 0,
              "ticks": ""
             }
            },
            "type": "scattergeo"
           }
          ],
          "scattergl": [
           {
            "marker": {
             "colorbar": {
              "outlinewidth": 0,
              "ticks": ""
             }
            },
            "type": "scattergl"
           }
          ],
          "scattermapbox": [
           {
            "marker": {
             "colorbar": {
              "outlinewidth": 0,
              "ticks": ""
             }
            },
            "type": "scattermapbox"
           }
          ],
          "scatterpolar": [
           {
            "marker": {
             "colorbar": {
              "outlinewidth": 0,
              "ticks": ""
             }
            },
            "type": "scatterpolar"
           }
          ],
          "scatterpolargl": [
           {
            "marker": {
             "colorbar": {
              "outlinewidth": 0,
              "ticks": ""
             }
            },
            "type": "scatterpolargl"
           }
          ],
          "scatterternary": [
           {
            "marker": {
             "colorbar": {
              "outlinewidth": 0,
              "ticks": ""
             }
            },
            "type": "scatterternary"
           }
          ],
          "surface": [
           {
            "colorbar": {
             "outlinewidth": 0,
             "ticks": ""
            },
            "colorscale": [
             [
              0,
              "#0d0887"
             ],
             [
              0.1111111111111111,
              "#46039f"
             ],
             [
              0.2222222222222222,
              "#7201a8"
             ],
             [
              0.3333333333333333,
              "#9c179e"
             ],
             [
              0.4444444444444444,
              "#bd3786"
             ],
             [
              0.5555555555555556,
              "#d8576b"
             ],
             [
              0.6666666666666666,
              "#ed7953"
             ],
             [
              0.7777777777777778,
              "#fb9f3a"
             ],
             [
              0.8888888888888888,
              "#fdca26"
             ],
             [
              1,
              "#f0f921"
             ]
            ],
            "type": "surface"
           }
          ],
          "table": [
           {
            "cells": {
             "fill": {
              "color": "#EBF0F8"
             },
             "line": {
              "color": "white"
             }
            },
            "header": {
             "fill": {
              "color": "#C8D4E3"
             },
             "line": {
              "color": "white"
             }
            },
            "type": "table"
           }
          ]
         },
         "layout": {
          "annotationdefaults": {
           "arrowcolor": "#2a3f5f",
           "arrowhead": 0,
           "arrowwidth": 1
          },
          "autotypenumbers": "strict",
          "coloraxis": {
           "colorbar": {
            "outlinewidth": 0,
            "ticks": ""
           }
          },
          "colorscale": {
           "diverging": [
            [
             0,
             "#8e0152"
            ],
            [
             0.1,
             "#c51b7d"
            ],
            [
             0.2,
             "#de77ae"
            ],
            [
             0.3,
             "#f1b6da"
            ],
            [
             0.4,
             "#fde0ef"
            ],
            [
             0.5,
             "#f7f7f7"
            ],
            [
             0.6,
             "#e6f5d0"
            ],
            [
             0.7,
             "#b8e186"
            ],
            [
             0.8,
             "#7fbc41"
            ],
            [
             0.9,
             "#4d9221"
            ],
            [
             1,
             "#276419"
            ]
           ],
           "sequential": [
            [
             0,
             "#0d0887"
            ],
            [
             0.1111111111111111,
             "#46039f"
            ],
            [
             0.2222222222222222,
             "#7201a8"
            ],
            [
             0.3333333333333333,
             "#9c179e"
            ],
            [
             0.4444444444444444,
             "#bd3786"
            ],
            [
             0.5555555555555556,
             "#d8576b"
            ],
            [
             0.6666666666666666,
             "#ed7953"
            ],
            [
             0.7777777777777778,
             "#fb9f3a"
            ],
            [
             0.8888888888888888,
             "#fdca26"
            ],
            [
             1,
             "#f0f921"
            ]
           ],
           "sequentialminus": [
            [
             0,
             "#0d0887"
            ],
            [
             0.1111111111111111,
             "#46039f"
            ],
            [
             0.2222222222222222,
             "#7201a8"
            ],
            [
             0.3333333333333333,
             "#9c179e"
            ],
            [
             0.4444444444444444,
             "#bd3786"
            ],
            [
             0.5555555555555556,
             "#d8576b"
            ],
            [
             0.6666666666666666,
             "#ed7953"
            ],
            [
             0.7777777777777778,
             "#fb9f3a"
            ],
            [
             0.8888888888888888,
             "#fdca26"
            ],
            [
             1,
             "#f0f921"
            ]
           ]
          },
          "colorway": [
           "#636efa",
           "#EF553B",
           "#00cc96",
           "#ab63fa",
           "#FFA15A",
           "#19d3f3",
           "#FF6692",
           "#B6E880",
           "#FF97FF",
           "#FECB52"
          ],
          "font": {
           "color": "#2a3f5f"
          },
          "geo": {
           "bgcolor": "white",
           "lakecolor": "white",
           "landcolor": "#E5ECF6",
           "showlakes": true,
           "showland": true,
           "subunitcolor": "white"
          },
          "hoverlabel": {
           "align": "left"
          },
          "hovermode": "closest",
          "mapbox": {
           "style": "light"
          },
          "paper_bgcolor": "white",
          "plot_bgcolor": "#E5ECF6",
          "polar": {
           "angularaxis": {
            "gridcolor": "white",
            "linecolor": "white",
            "ticks": ""
           },
           "bgcolor": "#E5ECF6",
           "radialaxis": {
            "gridcolor": "white",
            "linecolor": "white",
            "ticks": ""
           }
          },
          "scene": {
           "xaxis": {
            "backgroundcolor": "#E5ECF6",
            "gridcolor": "white",
            "gridwidth": 2,
            "linecolor": "white",
            "showbackground": true,
            "ticks": "",
            "zerolinecolor": "white"
           },
           "yaxis": {
            "backgroundcolor": "#E5ECF6",
            "gridcolor": "white",
            "gridwidth": 2,
            "linecolor": "white",
            "showbackground": true,
            "ticks": "",
            "zerolinecolor": "white"
           },
           "zaxis": {
            "backgroundcolor": "#E5ECF6",
            "gridcolor": "white",
            "gridwidth": 2,
            "linecolor": "white",
            "showbackground": true,
            "ticks": "",
            "zerolinecolor": "white"
           }
          },
          "shapedefaults": {
           "line": {
            "color": "#2a3f5f"
           }
          },
          "ternary": {
           "aaxis": {
            "gridcolor": "white",
            "linecolor": "white",
            "ticks": ""
           },
           "baxis": {
            "gridcolor": "white",
            "linecolor": "white",
            "ticks": ""
           },
           "bgcolor": "#E5ECF6",
           "caxis": {
            "gridcolor": "white",
            "linecolor": "white",
            "ticks": ""
           }
          },
          "title": {
           "x": 0.05
          },
          "xaxis": {
           "automargin": true,
           "gridcolor": "white",
           "linecolor": "white",
           "ticks": "",
           "title": {
            "standoff": 15
           },
           "zerolinecolor": "white",
           "zerolinewidth": 2
          },
          "yaxis": {
           "automargin": true,
           "gridcolor": "white",
           "linecolor": "white",
           "ticks": "",
           "title": {
            "standoff": 15
           },
           "zerolinecolor": "white",
           "zerolinewidth": 2
          }
         }
        },
        "title": {
         "text": "Workclass vs Income"
        },
        "xaxis": {
         "anchor": "y",
         "domain": [
          0,
          1
         ],
         "title": {
          "text": "Workclass"
         }
        },
        "yaxis": {
         "anchor": "x",
         "domain": [
          0,
          1
         ],
         "title": {
          "text": "Ratio"
         }
        }
       }
      }
     },
     "metadata": {},
     "output_type": "display_data"
    }
   ],
   "source": [
    "incomeWorkclass = pd.DataFrame(df_original.groupby('workclass').income.value_counts())\n",
    "incomeWorkclass = incomeWorkclass.unstack()\n",
    "incomeWorkclass = incomeWorkclass.drop([' ?'])\n",
    "incomeWorkclass = incomeWorkclass.fillna(0)\n",
    "incomeWorkclass['Ratio'] = round(incomeWorkclass['count',' >50K'] / (incomeWorkclass['count',' >50K']+incomeWorkclass['count',' <=50K']),2)\n",
    "incomeWorkclass['Workclass'] = incomeWorkclass.index\n",
    "incomeWorkclass = incomeWorkclass.droplevel('income',axis=1)\n",
    "incomeWorkclass = incomeWorkclass.sort_values('Ratio')\n",
    "\n",
    "fig = px.bar(pd.DataFrame(incomeWorkclass),\n",
    "             x='Workclass',\n",
    "             y='Ratio',\n",
    "             color='Ratio',\n",
    "             color_continuous_scale=\"greens\",\n",
    "             title='Workclass vs Income')\n",
    "fig.show()\n",
    "\n"
   ]
  },
  {
   "attachments": {},
   "cell_type": "markdown",
   "metadata": {},
   "source": [
    "Conclusion:\n",
    "<ul> Individuals who are self-employed with incorporated businesses have the highest proportion of people earning >$50K.</ul>"
   ]
  },
  {
   "attachments": {},
   "cell_type": "markdown",
   "metadata": {},
   "source": [
    "##### Race vs Income"
   ]
  },
  {
   "cell_type": "code",
   "execution_count": 55,
   "metadata": {},
   "outputs": [
    {
     "data": {
      "application/vnd.plotly.v1+json": {
       "config": {
        "plotlyServerURL": "https://plot.ly"
       },
       "data": [
        {
         "alignmentgroup": "True",
         "hovertemplate": "Race=%{x}<br>Ratio=%{marker.color}<extra></extra>",
         "legendgroup": "",
         "marker": {
          "color": [
           0.09,
           0.12,
           0.12,
           0.26,
           0.27
          ],
          "coloraxis": "coloraxis",
          "pattern": {
           "shape": ""
          }
         },
         "name": "",
         "offsetgroup": "",
         "orientation": "v",
         "showlegend": false,
         "textposition": "auto",
         "type": "bar",
         "x": [
          " Other",
          " Amer-Indian-Eskimo",
          " Black",
          " White",
          " Asian-Pac-Islander"
         ],
         "xaxis": "x",
         "y": [
          0.09,
          0.12,
          0.12,
          0.26,
          0.27
         ],
         "yaxis": "y"
        }
       ],
       "layout": {
        "barmode": "relative",
        "coloraxis": {
         "colorbar": {
          "title": {
           "text": "Ratio"
          }
         },
         "colorscale": [
          [
           0,
           "#00224e"
          ],
          [
           0.1111111111111111,
           "#123570"
          ],
          [
           0.2222222222222222,
           "#3b496c"
          ],
          [
           0.3333333333333333,
           "#575d6d"
          ],
          [
           0.4444444444444444,
           "#707173"
          ],
          [
           0.5555555555555556,
           "#8a8678"
          ],
          [
           0.6666666666666666,
           "#a59c74"
          ],
          [
           0.7777777777777778,
           "#c3b369"
          ],
          [
           0.8888888888888888,
           "#e1cc55"
          ],
          [
           1,
           "#fee838"
          ]
         ]
        },
        "legend": {
         "tracegroupgap": 0
        },
        "template": {
         "data": {
          "bar": [
           {
            "error_x": {
             "color": "#2a3f5f"
            },
            "error_y": {
             "color": "#2a3f5f"
            },
            "marker": {
             "line": {
              "color": "#E5ECF6",
              "width": 0.5
             },
             "pattern": {
              "fillmode": "overlay",
              "size": 10,
              "solidity": 0.2
             }
            },
            "type": "bar"
           }
          ],
          "barpolar": [
           {
            "marker": {
             "line": {
              "color": "#E5ECF6",
              "width": 0.5
             },
             "pattern": {
              "fillmode": "overlay",
              "size": 10,
              "solidity": 0.2
             }
            },
            "type": "barpolar"
           }
          ],
          "carpet": [
           {
            "aaxis": {
             "endlinecolor": "#2a3f5f",
             "gridcolor": "white",
             "linecolor": "white",
             "minorgridcolor": "white",
             "startlinecolor": "#2a3f5f"
            },
            "baxis": {
             "endlinecolor": "#2a3f5f",
             "gridcolor": "white",
             "linecolor": "white",
             "minorgridcolor": "white",
             "startlinecolor": "#2a3f5f"
            },
            "type": "carpet"
           }
          ],
          "choropleth": [
           {
            "colorbar": {
             "outlinewidth": 0,
             "ticks": ""
            },
            "type": "choropleth"
           }
          ],
          "contour": [
           {
            "colorbar": {
             "outlinewidth": 0,
             "ticks": ""
            },
            "colorscale": [
             [
              0,
              "#0d0887"
             ],
             [
              0.1111111111111111,
              "#46039f"
             ],
             [
              0.2222222222222222,
              "#7201a8"
             ],
             [
              0.3333333333333333,
              "#9c179e"
             ],
             [
              0.4444444444444444,
              "#bd3786"
             ],
             [
              0.5555555555555556,
              "#d8576b"
             ],
             [
              0.6666666666666666,
              "#ed7953"
             ],
             [
              0.7777777777777778,
              "#fb9f3a"
             ],
             [
              0.8888888888888888,
              "#fdca26"
             ],
             [
              1,
              "#f0f921"
             ]
            ],
            "type": "contour"
           }
          ],
          "contourcarpet": [
           {
            "colorbar": {
             "outlinewidth": 0,
             "ticks": ""
            },
            "type": "contourcarpet"
           }
          ],
          "heatmap": [
           {
            "colorbar": {
             "outlinewidth": 0,
             "ticks": ""
            },
            "colorscale": [
             [
              0,
              "#0d0887"
             ],
             [
              0.1111111111111111,
              "#46039f"
             ],
             [
              0.2222222222222222,
              "#7201a8"
             ],
             [
              0.3333333333333333,
              "#9c179e"
             ],
             [
              0.4444444444444444,
              "#bd3786"
             ],
             [
              0.5555555555555556,
              "#d8576b"
             ],
             [
              0.6666666666666666,
              "#ed7953"
             ],
             [
              0.7777777777777778,
              "#fb9f3a"
             ],
             [
              0.8888888888888888,
              "#fdca26"
             ],
             [
              1,
              "#f0f921"
             ]
            ],
            "type": "heatmap"
           }
          ],
          "heatmapgl": [
           {
            "colorbar": {
             "outlinewidth": 0,
             "ticks": ""
            },
            "colorscale": [
             [
              0,
              "#0d0887"
             ],
             [
              0.1111111111111111,
              "#46039f"
             ],
             [
              0.2222222222222222,
              "#7201a8"
             ],
             [
              0.3333333333333333,
              "#9c179e"
             ],
             [
              0.4444444444444444,
              "#bd3786"
             ],
             [
              0.5555555555555556,
              "#d8576b"
             ],
             [
              0.6666666666666666,
              "#ed7953"
             ],
             [
              0.7777777777777778,
              "#fb9f3a"
             ],
             [
              0.8888888888888888,
              "#fdca26"
             ],
             [
              1,
              "#f0f921"
             ]
            ],
            "type": "heatmapgl"
           }
          ],
          "histogram": [
           {
            "marker": {
             "pattern": {
              "fillmode": "overlay",
              "size": 10,
              "solidity": 0.2
             }
            },
            "type": "histogram"
           }
          ],
          "histogram2d": [
           {
            "colorbar": {
             "outlinewidth": 0,
             "ticks": ""
            },
            "colorscale": [
             [
              0,
              "#0d0887"
             ],
             [
              0.1111111111111111,
              "#46039f"
             ],
             [
              0.2222222222222222,
              "#7201a8"
             ],
             [
              0.3333333333333333,
              "#9c179e"
             ],
             [
              0.4444444444444444,
              "#bd3786"
             ],
             [
              0.5555555555555556,
              "#d8576b"
             ],
             [
              0.6666666666666666,
              "#ed7953"
             ],
             [
              0.7777777777777778,
              "#fb9f3a"
             ],
             [
              0.8888888888888888,
              "#fdca26"
             ],
             [
              1,
              "#f0f921"
             ]
            ],
            "type": "histogram2d"
           }
          ],
          "histogram2dcontour": [
           {
            "colorbar": {
             "outlinewidth": 0,
             "ticks": ""
            },
            "colorscale": [
             [
              0,
              "#0d0887"
             ],
             [
              0.1111111111111111,
              "#46039f"
             ],
             [
              0.2222222222222222,
              "#7201a8"
             ],
             [
              0.3333333333333333,
              "#9c179e"
             ],
             [
              0.4444444444444444,
              "#bd3786"
             ],
             [
              0.5555555555555556,
              "#d8576b"
             ],
             [
              0.6666666666666666,
              "#ed7953"
             ],
             [
              0.7777777777777778,
              "#fb9f3a"
             ],
             [
              0.8888888888888888,
              "#fdca26"
             ],
             [
              1,
              "#f0f921"
             ]
            ],
            "type": "histogram2dcontour"
           }
          ],
          "mesh3d": [
           {
            "colorbar": {
             "outlinewidth": 0,
             "ticks": ""
            },
            "type": "mesh3d"
           }
          ],
          "parcoords": [
           {
            "line": {
             "colorbar": {
              "outlinewidth": 0,
              "ticks": ""
             }
            },
            "type": "parcoords"
           }
          ],
          "pie": [
           {
            "automargin": true,
            "type": "pie"
           }
          ],
          "scatter": [
           {
            "fillpattern": {
             "fillmode": "overlay",
             "size": 10,
             "solidity": 0.2
            },
            "type": "scatter"
           }
          ],
          "scatter3d": [
           {
            "line": {
             "colorbar": {
              "outlinewidth": 0,
              "ticks": ""
             }
            },
            "marker": {
             "colorbar": {
              "outlinewidth": 0,
              "ticks": ""
             }
            },
            "type": "scatter3d"
           }
          ],
          "scattercarpet": [
           {
            "marker": {
             "colorbar": {
              "outlinewidth": 0,
              "ticks": ""
             }
            },
            "type": "scattercarpet"
           }
          ],
          "scattergeo": [
           {
            "marker": {
             "colorbar": {
              "outlinewidth": 0,
              "ticks": ""
             }
            },
            "type": "scattergeo"
           }
          ],
          "scattergl": [
           {
            "marker": {
             "colorbar": {
              "outlinewidth": 0,
              "ticks": ""
             }
            },
            "type": "scattergl"
           }
          ],
          "scattermapbox": [
           {
            "marker": {
             "colorbar": {
              "outlinewidth": 0,
              "ticks": ""
             }
            },
            "type": "scattermapbox"
           }
          ],
          "scatterpolar": [
           {
            "marker": {
             "colorbar": {
              "outlinewidth": 0,
              "ticks": ""
             }
            },
            "type": "scatterpolar"
           }
          ],
          "scatterpolargl": [
           {
            "marker": {
             "colorbar": {
              "outlinewidth": 0,
              "ticks": ""
             }
            },
            "type": "scatterpolargl"
           }
          ],
          "scatterternary": [
           {
            "marker": {
             "colorbar": {
              "outlinewidth": 0,
              "ticks": ""
             }
            },
            "type": "scatterternary"
           }
          ],
          "surface": [
           {
            "colorbar": {
             "outlinewidth": 0,
             "ticks": ""
            },
            "colorscale": [
             [
              0,
              "#0d0887"
             ],
             [
              0.1111111111111111,
              "#46039f"
             ],
             [
              0.2222222222222222,
              "#7201a8"
             ],
             [
              0.3333333333333333,
              "#9c179e"
             ],
             [
              0.4444444444444444,
              "#bd3786"
             ],
             [
              0.5555555555555556,
              "#d8576b"
             ],
             [
              0.6666666666666666,
              "#ed7953"
             ],
             [
              0.7777777777777778,
              "#fb9f3a"
             ],
             [
              0.8888888888888888,
              "#fdca26"
             ],
             [
              1,
              "#f0f921"
             ]
            ],
            "type": "surface"
           }
          ],
          "table": [
           {
            "cells": {
             "fill": {
              "color": "#EBF0F8"
             },
             "line": {
              "color": "white"
             }
            },
            "header": {
             "fill": {
              "color": "#C8D4E3"
             },
             "line": {
              "color": "white"
             }
            },
            "type": "table"
           }
          ]
         },
         "layout": {
          "annotationdefaults": {
           "arrowcolor": "#2a3f5f",
           "arrowhead": 0,
           "arrowwidth": 1
          },
          "autotypenumbers": "strict",
          "coloraxis": {
           "colorbar": {
            "outlinewidth": 0,
            "ticks": ""
           }
          },
          "colorscale": {
           "diverging": [
            [
             0,
             "#8e0152"
            ],
            [
             0.1,
             "#c51b7d"
            ],
            [
             0.2,
             "#de77ae"
            ],
            [
             0.3,
             "#f1b6da"
            ],
            [
             0.4,
             "#fde0ef"
            ],
            [
             0.5,
             "#f7f7f7"
            ],
            [
             0.6,
             "#e6f5d0"
            ],
            [
             0.7,
             "#b8e186"
            ],
            [
             0.8,
             "#7fbc41"
            ],
            [
             0.9,
             "#4d9221"
            ],
            [
             1,
             "#276419"
            ]
           ],
           "sequential": [
            [
             0,
             "#0d0887"
            ],
            [
             0.1111111111111111,
             "#46039f"
            ],
            [
             0.2222222222222222,
             "#7201a8"
            ],
            [
             0.3333333333333333,
             "#9c179e"
            ],
            [
             0.4444444444444444,
             "#bd3786"
            ],
            [
             0.5555555555555556,
             "#d8576b"
            ],
            [
             0.6666666666666666,
             "#ed7953"
            ],
            [
             0.7777777777777778,
             "#fb9f3a"
            ],
            [
             0.8888888888888888,
             "#fdca26"
            ],
            [
             1,
             "#f0f921"
            ]
           ],
           "sequentialminus": [
            [
             0,
             "#0d0887"
            ],
            [
             0.1111111111111111,
             "#46039f"
            ],
            [
             0.2222222222222222,
             "#7201a8"
            ],
            [
             0.3333333333333333,
             "#9c179e"
            ],
            [
             0.4444444444444444,
             "#bd3786"
            ],
            [
             0.5555555555555556,
             "#d8576b"
            ],
            [
             0.6666666666666666,
             "#ed7953"
            ],
            [
             0.7777777777777778,
             "#fb9f3a"
            ],
            [
             0.8888888888888888,
             "#fdca26"
            ],
            [
             1,
             "#f0f921"
            ]
           ]
          },
          "colorway": [
           "#636efa",
           "#EF553B",
           "#00cc96",
           "#ab63fa",
           "#FFA15A",
           "#19d3f3",
           "#FF6692",
           "#B6E880",
           "#FF97FF",
           "#FECB52"
          ],
          "font": {
           "color": "#2a3f5f"
          },
          "geo": {
           "bgcolor": "white",
           "lakecolor": "white",
           "landcolor": "#E5ECF6",
           "showlakes": true,
           "showland": true,
           "subunitcolor": "white"
          },
          "hoverlabel": {
           "align": "left"
          },
          "hovermode": "closest",
          "mapbox": {
           "style": "light"
          },
          "paper_bgcolor": "white",
          "plot_bgcolor": "#E5ECF6",
          "polar": {
           "angularaxis": {
            "gridcolor": "white",
            "linecolor": "white",
            "ticks": ""
           },
           "bgcolor": "#E5ECF6",
           "radialaxis": {
            "gridcolor": "white",
            "linecolor": "white",
            "ticks": ""
           }
          },
          "scene": {
           "xaxis": {
            "backgroundcolor": "#E5ECF6",
            "gridcolor": "white",
            "gridwidth": 2,
            "linecolor": "white",
            "showbackground": true,
            "ticks": "",
            "zerolinecolor": "white"
           },
           "yaxis": {
            "backgroundcolor": "#E5ECF6",
            "gridcolor": "white",
            "gridwidth": 2,
            "linecolor": "white",
            "showbackground": true,
            "ticks": "",
            "zerolinecolor": "white"
           },
           "zaxis": {
            "backgroundcolor": "#E5ECF6",
            "gridcolor": "white",
            "gridwidth": 2,
            "linecolor": "white",
            "showbackground": true,
            "ticks": "",
            "zerolinecolor": "white"
           }
          },
          "shapedefaults": {
           "line": {
            "color": "#2a3f5f"
           }
          },
          "ternary": {
           "aaxis": {
            "gridcolor": "white",
            "linecolor": "white",
            "ticks": ""
           },
           "baxis": {
            "gridcolor": "white",
            "linecolor": "white",
            "ticks": ""
           },
           "bgcolor": "#E5ECF6",
           "caxis": {
            "gridcolor": "white",
            "linecolor": "white",
            "ticks": ""
           }
          },
          "title": {
           "x": 0.05
          },
          "xaxis": {
           "automargin": true,
           "gridcolor": "white",
           "linecolor": "white",
           "ticks": "",
           "title": {
            "standoff": 15
           },
           "zerolinecolor": "white",
           "zerolinewidth": 2
          },
          "yaxis": {
           "automargin": true,
           "gridcolor": "white",
           "linecolor": "white",
           "ticks": "",
           "title": {
            "standoff": 15
           },
           "zerolinecolor": "white",
           "zerolinewidth": 2
          }
         }
        },
        "title": {
         "text": "Race vs Income"
        },
        "xaxis": {
         "anchor": "y",
         "domain": [
          0,
          1
         ],
         "title": {
          "text": "Race"
         }
        },
        "yaxis": {
         "anchor": "x",
         "domain": [
          0,
          1
         ],
         "title": {
          "text": "Ratio"
         }
        }
       }
      }
     },
     "metadata": {},
     "output_type": "display_data"
    }
   ],
   "source": [
    "\n",
    "incomeRace = pd.DataFrame(df_original.groupby('race').income.value_counts())\n",
    "incomeRace = incomeRace.unstack()\n",
    "incomeRace['Ratio'] = round(incomeRace['count',' >50K'] / (incomeRace['count',' >50K']+incomeRace['count',' <=50K']),2)\n",
    "incomeRace['Race'] = incomeRace.index\n",
    "incomeRace = incomeRace.droplevel('income',axis=1)\n",
    "incomeRace = incomeRace.sort_values('Ratio')\n",
    "\n",
    "fig = px.bar(pd.DataFrame(incomeRace),\n",
    "             x='Race',\n",
    "             y='Ratio',\n",
    "             color='Ratio',\n",
    "             color_continuous_scale=\"cividis\",\n",
    "             title='Race vs Income')\n",
    "fig.show()"
   ]
  },
  {
   "attachments": {},
   "cell_type": "markdown",
   "metadata": {},
   "source": [
    "Conclusion:\n",
    "<ul> \"Whites\" and \"Asian-Pacific Islanders\" in the dataset have almost double the likelihood of earning >$50K than any other race.</ul>"
   ]
  },
  {
   "attachments": {},
   "cell_type": "markdown",
   "metadata": {},
   "source": [
    "##### Number of working hours vs Income"
   ]
  },
  {
   "cell_type": "code",
   "execution_count": 56,
   "metadata": {},
   "outputs": [
    {
     "data": {
      "application/vnd.plotly.v1+json": {
       "config": {
        "plotlyServerURL": "https://plot.ly"
       },
       "data": [
        {
         "hovertemplate": "Working hours per week=%{x}<br>Ratio=%{marker.color}<extra></extra>",
         "legendgroup": "",
         "marker": {
          "color": [
           0.1,
           0.25,
           0.03,
           0.06,
           0.12,
           0.12,
           0.15,
           0.08,
           0.06,
           0.07,
           null,
           0.07,
           0.09,
           0.06,
           0.04,
           0.06,
           0.03,
           0.09,
           null,
           0.06,
           0.08,
           0.09,
           null,
           0.09,
           0.05,
           0.13,
           0.03,
           0.06,
           0.14,
           0.07,
           null,
           0.11,
           0.1,
           0.07,
           0.15,
           0.2,
           0.13,
           0.18,
           0.18,
           0.21,
           0.19,
           0.32,
           0.26,
           0.35,
           0.38,
           0.34,
           0.31,
           0.29,
           0.21,
           0.45,
           0.23,
           0.35,
           0.24,
           0.34,
           0.47,
           0.41,
           0.41,
           0.32,
           0.4,
           0.44,
           null,
           0.22,
           0.3,
           0.36,
           0.43,
           0.12,
           0.75,
           0.42,
           0.36,
           0.35,
           0.5,
           null,
           0.3,
           0.67,
           null,
           0.25,
           0.43,
           null,
           null,
           0.38,
           0.31,
           null,
           null,
           null,
           0.5,
           0.34,
           null,
           null,
           null,
           0.5,
           0.2,
           0.5,
           0.27,
           0.29
          ],
          "coloraxis": "coloraxis",
          "symbol": "circle"
         },
         "mode": "markers",
         "name": "",
         "orientation": "v",
         "showlegend": false,
         "type": "scatter",
         "x": [
          1,
          2,
          3,
          4,
          5,
          6,
          7,
          8,
          9,
          10,
          11,
          12,
          13,
          14,
          15,
          16,
          17,
          18,
          19,
          20,
          21,
          22,
          23,
          24,
          25,
          26,
          27,
          28,
          29,
          30,
          31,
          32,
          33,
          34,
          35,
          36,
          37,
          38,
          39,
          40,
          41,
          42,
          43,
          44,
          45,
          46,
          47,
          48,
          49,
          50,
          51,
          52,
          53,
          54,
          55,
          56,
          57,
          58,
          59,
          60,
          61,
          62,
          63,
          64,
          65,
          66,
          67,
          68,
          70,
          72,
          73,
          74,
          75,
          76,
          77,
          78,
          80,
          81,
          82,
          84,
          85,
          86,
          87,
          88,
          89,
          90,
          91,
          92,
          94,
          95,
          96,
          97,
          98,
          99
         ],
         "xaxis": "x",
         "y": [
          0.1,
          0.25,
          0.03,
          0.06,
          0.12,
          0.12,
          0.15,
          0.08,
          0.06,
          0.07,
          null,
          0.07,
          0.09,
          0.06,
          0.04,
          0.06,
          0.03,
          0.09,
          null,
          0.06,
          0.08,
          0.09,
          null,
          0.09,
          0.05,
          0.13,
          0.03,
          0.06,
          0.14,
          0.07,
          null,
          0.11,
          0.1,
          0.07,
          0.15,
          0.2,
          0.13,
          0.18,
          0.18,
          0.21,
          0.19,
          0.32,
          0.26,
          0.35,
          0.38,
          0.34,
          0.31,
          0.29,
          0.21,
          0.45,
          0.23,
          0.35,
          0.24,
          0.34,
          0.47,
          0.41,
          0.41,
          0.32,
          0.4,
          0.44,
          null,
          0.22,
          0.3,
          0.36,
          0.43,
          0.12,
          0.75,
          0.42,
          0.36,
          0.35,
          0.5,
          null,
          0.3,
          0.67,
          null,
          0.25,
          0.43,
          null,
          null,
          0.38,
          0.31,
          null,
          null,
          null,
          0.5,
          0.34,
          null,
          null,
          null,
          0.5,
          0.2,
          0.5,
          0.27,
          0.29
         ],
         "yaxis": "y"
        },
        {
         "hovertemplate": "<b>LOWESS trendline</b><br><br>Working hours per week=%{x}<br>Ratio=%{y} <b>(trend)</b><extra></extra>",
         "legendgroup": "",
         "marker": {
          "symbol": "circle"
         },
         "mode": "lines",
         "name": "",
         "showlegend": false,
         "type": "scatter",
         "x": [
          1,
          2,
          3,
          4,
          5,
          6,
          7,
          8,
          9,
          10,
          12,
          13,
          14,
          15,
          16,
          17,
          18,
          20,
          21,
          22,
          24,
          25,
          26,
          27,
          28,
          29,
          30,
          32,
          33,
          34,
          35,
          36,
          37,
          38,
          39,
          40,
          41,
          42,
          43,
          44,
          45,
          46,
          47,
          48,
          49,
          50,
          51,
          52,
          53,
          54,
          55,
          56,
          57,
          58,
          59,
          60,
          62,
          63,
          64,
          65,
          66,
          67,
          68,
          70,
          72,
          73,
          75,
          76,
          78,
          80,
          84,
          85,
          89,
          90,
          95,
          96,
          97,
          98,
          99
         ],
         "xaxis": "x",
         "y": [
          0.06013354222336934,
          0.06167414184565451,
          0.06328519612951027,
          0.0649686027919028,
          0.06672655652870267,
          0.06856138389712554,
          0.0704745692967081,
          0.07246642704509981,
          0.07453593020638412,
          0.07668149822568059,
          0.08119383337874733,
          0.08355644881466313,
          0.0859867023236374,
          0.08848148932349229,
          0.09103748180102397,
          0.09365137038763768,
          0.09631972448423765,
          0.10180481156792912,
          0.10461097098427584,
          0.10745006244520036,
          0.11319113746296225,
          0.11607894399616299,
          0.118991416489601,
          0.12199723500664215,
          0.12526424454401458,
          0.13110805470015197,
          0.13729723503219418,
          0.1507368466810065,
          0.1579683711783995,
          0.16550463829885512,
          0.1733076003175244,
          0.1813258045815456,
          0.1895066918991549,
          0.19780510972314744,
          0.2061915927066133,
          0.21464379977545384,
          0.2231318344424009,
          0.2316253483704487,
          0.239576490582816,
          0.24783378941931555,
          0.256017212314147,
          0.2640932607449039,
          0.27203059585421185,
          0.27854815083969114,
          0.2872854185740945,
          0.29310463092754174,
          0.2999306375095028,
          0.304880100205508,
          0.31094594046941,
          0.31665305362024937,
          0.3219729843000864,
          0.3254178315899726,
          0.32990673739773285,
          0.3339922595930701,
          0.3364139651129717,
          0.3386414880801802,
          0.344763675313252,
          0.34742998577078055,
          0.34985393810237386,
          0.35205702852334664,
          0.35404260677425925,
          0.35523720791622093,
          0.3561461441328168,
          0.3574515019300177,
          0.3585398606432051,
          0.3590786411459311,
          0.36017627776347766,
          0.36073229171689514,
          0.36184833062873745,
          0.362959102189698,
          0.3651450702530186,
          0.36567961521419634,
          0.36775781277172154,
          0.3682627043452186,
          0.3706636159464819,
          0.3711130684803538,
          0.3715492761922126,
          0.37197110713806736,
          0.3723768308949769
         ],
         "yaxis": "y"
        }
       ],
       "layout": {
        "coloraxis": {
         "colorbar": {
          "title": {
           "text": "Ratio"
          }
         },
         "colorscale": [
          [
           0,
           "#000004"
          ],
          [
           0.1111111111111111,
           "#180f3d"
          ],
          [
           0.2222222222222222,
           "#440f76"
          ],
          [
           0.3333333333333333,
           "#721f81"
          ],
          [
           0.4444444444444444,
           "#9e2f7f"
          ],
          [
           0.5555555555555556,
           "#cd4071"
          ],
          [
           0.6666666666666666,
           "#f1605d"
          ],
          [
           0.7777777777777778,
           "#fd9668"
          ],
          [
           0.8888888888888888,
           "#feca8d"
          ],
          [
           1,
           "#fcfdbf"
          ]
         ]
        },
        "legend": {
         "tracegroupgap": 0
        },
        "template": {
         "data": {
          "bar": [
           {
            "error_x": {
             "color": "#2a3f5f"
            },
            "error_y": {
             "color": "#2a3f5f"
            },
            "marker": {
             "line": {
              "color": "#E5ECF6",
              "width": 0.5
             },
             "pattern": {
              "fillmode": "overlay",
              "size": 10,
              "solidity": 0.2
             }
            },
            "type": "bar"
           }
          ],
          "barpolar": [
           {
            "marker": {
             "line": {
              "color": "#E5ECF6",
              "width": 0.5
             },
             "pattern": {
              "fillmode": "overlay",
              "size": 10,
              "solidity": 0.2
             }
            },
            "type": "barpolar"
           }
          ],
          "carpet": [
           {
            "aaxis": {
             "endlinecolor": "#2a3f5f",
             "gridcolor": "white",
             "linecolor": "white",
             "minorgridcolor": "white",
             "startlinecolor": "#2a3f5f"
            },
            "baxis": {
             "endlinecolor": "#2a3f5f",
             "gridcolor": "white",
             "linecolor": "white",
             "minorgridcolor": "white",
             "startlinecolor": "#2a3f5f"
            },
            "type": "carpet"
           }
          ],
          "choropleth": [
           {
            "colorbar": {
             "outlinewidth": 0,
             "ticks": ""
            },
            "type": "choropleth"
           }
          ],
          "contour": [
           {
            "colorbar": {
             "outlinewidth": 0,
             "ticks": ""
            },
            "colorscale": [
             [
              0,
              "#0d0887"
             ],
             [
              0.1111111111111111,
              "#46039f"
             ],
             [
              0.2222222222222222,
              "#7201a8"
             ],
             [
              0.3333333333333333,
              "#9c179e"
             ],
             [
              0.4444444444444444,
              "#bd3786"
             ],
             [
              0.5555555555555556,
              "#d8576b"
             ],
             [
              0.6666666666666666,
              "#ed7953"
             ],
             [
              0.7777777777777778,
              "#fb9f3a"
             ],
             [
              0.8888888888888888,
              "#fdca26"
             ],
             [
              1,
              "#f0f921"
             ]
            ],
            "type": "contour"
           }
          ],
          "contourcarpet": [
           {
            "colorbar": {
             "outlinewidth": 0,
             "ticks": ""
            },
            "type": "contourcarpet"
           }
          ],
          "heatmap": [
           {
            "colorbar": {
             "outlinewidth": 0,
             "ticks": ""
            },
            "colorscale": [
             [
              0,
              "#0d0887"
             ],
             [
              0.1111111111111111,
              "#46039f"
             ],
             [
              0.2222222222222222,
              "#7201a8"
             ],
             [
              0.3333333333333333,
              "#9c179e"
             ],
             [
              0.4444444444444444,
              "#bd3786"
             ],
             [
              0.5555555555555556,
              "#d8576b"
             ],
             [
              0.6666666666666666,
              "#ed7953"
             ],
             [
              0.7777777777777778,
              "#fb9f3a"
             ],
             [
              0.8888888888888888,
              "#fdca26"
             ],
             [
              1,
              "#f0f921"
             ]
            ],
            "type": "heatmap"
           }
          ],
          "heatmapgl": [
           {
            "colorbar": {
             "outlinewidth": 0,
             "ticks": ""
            },
            "colorscale": [
             [
              0,
              "#0d0887"
             ],
             [
              0.1111111111111111,
              "#46039f"
             ],
             [
              0.2222222222222222,
              "#7201a8"
             ],
             [
              0.3333333333333333,
              "#9c179e"
             ],
             [
              0.4444444444444444,
              "#bd3786"
             ],
             [
              0.5555555555555556,
              "#d8576b"
             ],
             [
              0.6666666666666666,
              "#ed7953"
             ],
             [
              0.7777777777777778,
              "#fb9f3a"
             ],
             [
              0.8888888888888888,
              "#fdca26"
             ],
             [
              1,
              "#f0f921"
             ]
            ],
            "type": "heatmapgl"
           }
          ],
          "histogram": [
           {
            "marker": {
             "pattern": {
              "fillmode": "overlay",
              "size": 10,
              "solidity": 0.2
             }
            },
            "type": "histogram"
           }
          ],
          "histogram2d": [
           {
            "colorbar": {
             "outlinewidth": 0,
             "ticks": ""
            },
            "colorscale": [
             [
              0,
              "#0d0887"
             ],
             [
              0.1111111111111111,
              "#46039f"
             ],
             [
              0.2222222222222222,
              "#7201a8"
             ],
             [
              0.3333333333333333,
              "#9c179e"
             ],
             [
              0.4444444444444444,
              "#bd3786"
             ],
             [
              0.5555555555555556,
              "#d8576b"
             ],
             [
              0.6666666666666666,
              "#ed7953"
             ],
             [
              0.7777777777777778,
              "#fb9f3a"
             ],
             [
              0.8888888888888888,
              "#fdca26"
             ],
             [
              1,
              "#f0f921"
             ]
            ],
            "type": "histogram2d"
           }
          ],
          "histogram2dcontour": [
           {
            "colorbar": {
             "outlinewidth": 0,
             "ticks": ""
            },
            "colorscale": [
             [
              0,
              "#0d0887"
             ],
             [
              0.1111111111111111,
              "#46039f"
             ],
             [
              0.2222222222222222,
              "#7201a8"
             ],
             [
              0.3333333333333333,
              "#9c179e"
             ],
             [
              0.4444444444444444,
              "#bd3786"
             ],
             [
              0.5555555555555556,
              "#d8576b"
             ],
             [
              0.6666666666666666,
              "#ed7953"
             ],
             [
              0.7777777777777778,
              "#fb9f3a"
             ],
             [
              0.8888888888888888,
              "#fdca26"
             ],
             [
              1,
              "#f0f921"
             ]
            ],
            "type": "histogram2dcontour"
           }
          ],
          "mesh3d": [
           {
            "colorbar": {
             "outlinewidth": 0,
             "ticks": ""
            },
            "type": "mesh3d"
           }
          ],
          "parcoords": [
           {
            "line": {
             "colorbar": {
              "outlinewidth": 0,
              "ticks": ""
             }
            },
            "type": "parcoords"
           }
          ],
          "pie": [
           {
            "automargin": true,
            "type": "pie"
           }
          ],
          "scatter": [
           {
            "fillpattern": {
             "fillmode": "overlay",
             "size": 10,
             "solidity": 0.2
            },
            "type": "scatter"
           }
          ],
          "scatter3d": [
           {
            "line": {
             "colorbar": {
              "outlinewidth": 0,
              "ticks": ""
             }
            },
            "marker": {
             "colorbar": {
              "outlinewidth": 0,
              "ticks": ""
             }
            },
            "type": "scatter3d"
           }
          ],
          "scattercarpet": [
           {
            "marker": {
             "colorbar": {
              "outlinewidth": 0,
              "ticks": ""
             }
            },
            "type": "scattercarpet"
           }
          ],
          "scattergeo": [
           {
            "marker": {
             "colorbar": {
              "outlinewidth": 0,
              "ticks": ""
             }
            },
            "type": "scattergeo"
           }
          ],
          "scattergl": [
           {
            "marker": {
             "colorbar": {
              "outlinewidth": 0,
              "ticks": ""
             }
            },
            "type": "scattergl"
           }
          ],
          "scattermapbox": [
           {
            "marker": {
             "colorbar": {
              "outlinewidth": 0,
              "ticks": ""
             }
            },
            "type": "scattermapbox"
           }
          ],
          "scatterpolar": [
           {
            "marker": {
             "colorbar": {
              "outlinewidth": 0,
              "ticks": ""
             }
            },
            "type": "scatterpolar"
           }
          ],
          "scatterpolargl": [
           {
            "marker": {
             "colorbar": {
              "outlinewidth": 0,
              "ticks": ""
             }
            },
            "type": "scatterpolargl"
           }
          ],
          "scatterternary": [
           {
            "marker": {
             "colorbar": {
              "outlinewidth": 0,
              "ticks": ""
             }
            },
            "type": "scatterternary"
           }
          ],
          "surface": [
           {
            "colorbar": {
             "outlinewidth": 0,
             "ticks": ""
            },
            "colorscale": [
             [
              0,
              "#0d0887"
             ],
             [
              0.1111111111111111,
              "#46039f"
             ],
             [
              0.2222222222222222,
              "#7201a8"
             ],
             [
              0.3333333333333333,
              "#9c179e"
             ],
             [
              0.4444444444444444,
              "#bd3786"
             ],
             [
              0.5555555555555556,
              "#d8576b"
             ],
             [
              0.6666666666666666,
              "#ed7953"
             ],
             [
              0.7777777777777778,
              "#fb9f3a"
             ],
             [
              0.8888888888888888,
              "#fdca26"
             ],
             [
              1,
              "#f0f921"
             ]
            ],
            "type": "surface"
           }
          ],
          "table": [
           {
            "cells": {
             "fill": {
              "color": "#EBF0F8"
             },
             "line": {
              "color": "white"
             }
            },
            "header": {
             "fill": {
              "color": "#C8D4E3"
             },
             "line": {
              "color": "white"
             }
            },
            "type": "table"
           }
          ]
         },
         "layout": {
          "annotationdefaults": {
           "arrowcolor": "#2a3f5f",
           "arrowhead": 0,
           "arrowwidth": 1
          },
          "autotypenumbers": "strict",
          "coloraxis": {
           "colorbar": {
            "outlinewidth": 0,
            "ticks": ""
           }
          },
          "colorscale": {
           "diverging": [
            [
             0,
             "#8e0152"
            ],
            [
             0.1,
             "#c51b7d"
            ],
            [
             0.2,
             "#de77ae"
            ],
            [
             0.3,
             "#f1b6da"
            ],
            [
             0.4,
             "#fde0ef"
            ],
            [
             0.5,
             "#f7f7f7"
            ],
            [
             0.6,
             "#e6f5d0"
            ],
            [
             0.7,
             "#b8e186"
            ],
            [
             0.8,
             "#7fbc41"
            ],
            [
             0.9,
             "#4d9221"
            ],
            [
             1,
             "#276419"
            ]
           ],
           "sequential": [
            [
             0,
             "#0d0887"
            ],
            [
             0.1111111111111111,
             "#46039f"
            ],
            [
             0.2222222222222222,
             "#7201a8"
            ],
            [
             0.3333333333333333,
             "#9c179e"
            ],
            [
             0.4444444444444444,
             "#bd3786"
            ],
            [
             0.5555555555555556,
             "#d8576b"
            ],
            [
             0.6666666666666666,
             "#ed7953"
            ],
            [
             0.7777777777777778,
             "#fb9f3a"
            ],
            [
             0.8888888888888888,
             "#fdca26"
            ],
            [
             1,
             "#f0f921"
            ]
           ],
           "sequentialminus": [
            [
             0,
             "#0d0887"
            ],
            [
             0.1111111111111111,
             "#46039f"
            ],
            [
             0.2222222222222222,
             "#7201a8"
            ],
            [
             0.3333333333333333,
             "#9c179e"
            ],
            [
             0.4444444444444444,
             "#bd3786"
            ],
            [
             0.5555555555555556,
             "#d8576b"
            ],
            [
             0.6666666666666666,
             "#ed7953"
            ],
            [
             0.7777777777777778,
             "#fb9f3a"
            ],
            [
             0.8888888888888888,
             "#fdca26"
            ],
            [
             1,
             "#f0f921"
            ]
           ]
          },
          "colorway": [
           "#636efa",
           "#EF553B",
           "#00cc96",
           "#ab63fa",
           "#FFA15A",
           "#19d3f3",
           "#FF6692",
           "#B6E880",
           "#FF97FF",
           "#FECB52"
          ],
          "font": {
           "color": "#2a3f5f"
          },
          "geo": {
           "bgcolor": "white",
           "lakecolor": "white",
           "landcolor": "#E5ECF6",
           "showlakes": true,
           "showland": true,
           "subunitcolor": "white"
          },
          "hoverlabel": {
           "align": "left"
          },
          "hovermode": "closest",
          "mapbox": {
           "style": "light"
          },
          "paper_bgcolor": "white",
          "plot_bgcolor": "#E5ECF6",
          "polar": {
           "angularaxis": {
            "gridcolor": "white",
            "linecolor": "white",
            "ticks": ""
           },
           "bgcolor": "#E5ECF6",
           "radialaxis": {
            "gridcolor": "white",
            "linecolor": "white",
            "ticks": ""
           }
          },
          "scene": {
           "xaxis": {
            "backgroundcolor": "#E5ECF6",
            "gridcolor": "white",
            "gridwidth": 2,
            "linecolor": "white",
            "showbackground": true,
            "ticks": "",
            "zerolinecolor": "white"
           },
           "yaxis": {
            "backgroundcolor": "#E5ECF6",
            "gridcolor": "white",
            "gridwidth": 2,
            "linecolor": "white",
            "showbackground": true,
            "ticks": "",
            "zerolinecolor": "white"
           },
           "zaxis": {
            "backgroundcolor": "#E5ECF6",
            "gridcolor": "white",
            "gridwidth": 2,
            "linecolor": "white",
            "showbackground": true,
            "ticks": "",
            "zerolinecolor": "white"
           }
          },
          "shapedefaults": {
           "line": {
            "color": "#2a3f5f"
           }
          },
          "ternary": {
           "aaxis": {
            "gridcolor": "white",
            "linecolor": "white",
            "ticks": ""
           },
           "baxis": {
            "gridcolor": "white",
            "linecolor": "white",
            "ticks": ""
           },
           "bgcolor": "#E5ECF6",
           "caxis": {
            "gridcolor": "white",
            "linecolor": "white",
            "ticks": ""
           }
          },
          "title": {
           "x": 0.05
          },
          "xaxis": {
           "automargin": true,
           "gridcolor": "white",
           "linecolor": "white",
           "ticks": "",
           "title": {
            "standoff": 15
           },
           "zerolinecolor": "white",
           "zerolinewidth": 2
          },
          "yaxis": {
           "automargin": true,
           "gridcolor": "white",
           "linecolor": "white",
           "ticks": "",
           "title": {
            "standoff": 15
           },
           "zerolinecolor": "white",
           "zerolinewidth": 2
          }
         }
        },
        "title": {
         "text": "Working Hours vs Income"
        },
        "xaxis": {
         "anchor": "y",
         "domain": [
          0,
          1
         ],
         "title": {
          "text": "Working hours per week"
         }
        },
        "yaxis": {
         "anchor": "x",
         "domain": [
          0,
          1
         ],
         "title": {
          "text": "Ratio"
         }
        }
       }
      }
     },
     "metadata": {},
     "output_type": "display_data"
    }
   ],
   "source": [
    "\n",
    "incomeHours = pd.DataFrame(df_original.groupby('hours_per_week').income.value_counts())\n",
    "incomeHours = incomeHours.unstack()\n",
    "incomeHours['Ratio'] = round(incomeHours['count',' >50K'] / (incomeHours['count',' >50K']+incomeHours['count',' <=50K']),2)\n",
    "incomeHours['Working hours per week'] = incomeHours.index\n",
    "incomeHours = incomeHours.droplevel('income',axis=1)\n",
    "fig = px.scatter(pd.DataFrame(incomeHours),\n",
    "             x='Working hours per week',\n",
    "             y='Ratio',\n",
    "             color='Ratio',\n",
    "             trendline='lowess',\n",
    "             color_continuous_scale=\"magma\",\n",
    "             title='Working Hours vs Income')\n",
    "fig.show()\n"
   ]
  },
  {
   "attachments": {},
   "cell_type": "markdown",
   "metadata": {},
   "source": [
    "Conclusion:\n",
    "<ul> As \"working hours per week\" increase, \"income\" rises gradually and plateaus at around 65 hours.</ul>"
   ]
  },
  {
   "attachments": {},
   "cell_type": "markdown",
   "metadata": {},
   "source": [
    "##### Sex vs Income"
   ]
  },
  {
   "cell_type": "code",
   "execution_count": 57,
   "metadata": {},
   "outputs": [
    {
     "data": {
      "application/vnd.plotly.v1+json": {
       "config": {
        "plotlyServerURL": "https://plot.ly"
       },
       "data": [
        {
         "alignmentgroup": "True",
         "hovertemplate": "Sex=%{x}<br>Ratio of records with income >50K=%{y}<extra></extra>",
         "legendgroup": "Male",
         "marker": {
          "color": "#636efa",
          "pattern": {
           "shape": ""
          }
         },
         "name": "Male",
         "offsetgroup": "Male",
         "orientation": "v",
         "showlegend": true,
         "textposition": "auto",
         "type": "bar",
         "x": [
          "Male"
         ],
         "xaxis": "x",
         "y": [
          0.44037546271813854
         ],
         "yaxis": "y"
        },
        {
         "alignmentgroup": "True",
         "hovertemplate": "Sex=%{x}<br>Ratio of records with income >50K=%{y}<extra></extra>",
         "legendgroup": "Female",
         "marker": {
          "color": "#EF553B",
          "pattern": {
           "shape": ""
          }
         },
         "name": "Female",
         "offsetgroup": "Female",
         "orientation": "v",
         "showlegend": true,
         "textposition": "auto",
         "type": "bar",
         "x": [
          "Female"
         ],
         "xaxis": "x",
         "y": [
          0.12291492910758965
         ],
         "yaxis": "y"
        }
       ],
       "layout": {
        "barmode": "relative",
        "legend": {
         "title": {
          "text": "Sex"
         },
         "tracegroupgap": 0
        },
        "margin": {
         "t": 60
        },
        "template": {
         "data": {
          "bar": [
           {
            "error_x": {
             "color": "#2a3f5f"
            },
            "error_y": {
             "color": "#2a3f5f"
            },
            "marker": {
             "line": {
              "color": "#E5ECF6",
              "width": 0.5
             },
             "pattern": {
              "fillmode": "overlay",
              "size": 10,
              "solidity": 0.2
             }
            },
            "type": "bar"
           }
          ],
          "barpolar": [
           {
            "marker": {
             "line": {
              "color": "#E5ECF6",
              "width": 0.5
             },
             "pattern": {
              "fillmode": "overlay",
              "size": 10,
              "solidity": 0.2
             }
            },
            "type": "barpolar"
           }
          ],
          "carpet": [
           {
            "aaxis": {
             "endlinecolor": "#2a3f5f",
             "gridcolor": "white",
             "linecolor": "white",
             "minorgridcolor": "white",
             "startlinecolor": "#2a3f5f"
            },
            "baxis": {
             "endlinecolor": "#2a3f5f",
             "gridcolor": "white",
             "linecolor": "white",
             "minorgridcolor": "white",
             "startlinecolor": "#2a3f5f"
            },
            "type": "carpet"
           }
          ],
          "choropleth": [
           {
            "colorbar": {
             "outlinewidth": 0,
             "ticks": ""
            },
            "type": "choropleth"
           }
          ],
          "contour": [
           {
            "colorbar": {
             "outlinewidth": 0,
             "ticks": ""
            },
            "colorscale": [
             [
              0,
              "#0d0887"
             ],
             [
              0.1111111111111111,
              "#46039f"
             ],
             [
              0.2222222222222222,
              "#7201a8"
             ],
             [
              0.3333333333333333,
              "#9c179e"
             ],
             [
              0.4444444444444444,
              "#bd3786"
             ],
             [
              0.5555555555555556,
              "#d8576b"
             ],
             [
              0.6666666666666666,
              "#ed7953"
             ],
             [
              0.7777777777777778,
              "#fb9f3a"
             ],
             [
              0.8888888888888888,
              "#fdca26"
             ],
             [
              1,
              "#f0f921"
             ]
            ],
            "type": "contour"
           }
          ],
          "contourcarpet": [
           {
            "colorbar": {
             "outlinewidth": 0,
             "ticks": ""
            },
            "type": "contourcarpet"
           }
          ],
          "heatmap": [
           {
            "colorbar": {
             "outlinewidth": 0,
             "ticks": ""
            },
            "colorscale": [
             [
              0,
              "#0d0887"
             ],
             [
              0.1111111111111111,
              "#46039f"
             ],
             [
              0.2222222222222222,
              "#7201a8"
             ],
             [
              0.3333333333333333,
              "#9c179e"
             ],
             [
              0.4444444444444444,
              "#bd3786"
             ],
             [
              0.5555555555555556,
              "#d8576b"
             ],
             [
              0.6666666666666666,
              "#ed7953"
             ],
             [
              0.7777777777777778,
              "#fb9f3a"
             ],
             [
              0.8888888888888888,
              "#fdca26"
             ],
             [
              1,
              "#f0f921"
             ]
            ],
            "type": "heatmap"
           }
          ],
          "heatmapgl": [
           {
            "colorbar": {
             "outlinewidth": 0,
             "ticks": ""
            },
            "colorscale": [
             [
              0,
              "#0d0887"
             ],
             [
              0.1111111111111111,
              "#46039f"
             ],
             [
              0.2222222222222222,
              "#7201a8"
             ],
             [
              0.3333333333333333,
              "#9c179e"
             ],
             [
              0.4444444444444444,
              "#bd3786"
             ],
             [
              0.5555555555555556,
              "#d8576b"
             ],
             [
              0.6666666666666666,
              "#ed7953"
             ],
             [
              0.7777777777777778,
              "#fb9f3a"
             ],
             [
              0.8888888888888888,
              "#fdca26"
             ],
             [
              1,
              "#f0f921"
             ]
            ],
            "type": "heatmapgl"
           }
          ],
          "histogram": [
           {
            "marker": {
             "pattern": {
              "fillmode": "overlay",
              "size": 10,
              "solidity": 0.2
             }
            },
            "type": "histogram"
           }
          ],
          "histogram2d": [
           {
            "colorbar": {
             "outlinewidth": 0,
             "ticks": ""
            },
            "colorscale": [
             [
              0,
              "#0d0887"
             ],
             [
              0.1111111111111111,
              "#46039f"
             ],
             [
              0.2222222222222222,
              "#7201a8"
             ],
             [
              0.3333333333333333,
              "#9c179e"
             ],
             [
              0.4444444444444444,
              "#bd3786"
             ],
             [
              0.5555555555555556,
              "#d8576b"
             ],
             [
              0.6666666666666666,
              "#ed7953"
             ],
             [
              0.7777777777777778,
              "#fb9f3a"
             ],
             [
              0.8888888888888888,
              "#fdca26"
             ],
             [
              1,
              "#f0f921"
             ]
            ],
            "type": "histogram2d"
           }
          ],
          "histogram2dcontour": [
           {
            "colorbar": {
             "outlinewidth": 0,
             "ticks": ""
            },
            "colorscale": [
             [
              0,
              "#0d0887"
             ],
             [
              0.1111111111111111,
              "#46039f"
             ],
             [
              0.2222222222222222,
              "#7201a8"
             ],
             [
              0.3333333333333333,
              "#9c179e"
             ],
             [
              0.4444444444444444,
              "#bd3786"
             ],
             [
              0.5555555555555556,
              "#d8576b"
             ],
             [
              0.6666666666666666,
              "#ed7953"
             ],
             [
              0.7777777777777778,
              "#fb9f3a"
             ],
             [
              0.8888888888888888,
              "#fdca26"
             ],
             [
              1,
              "#f0f921"
             ]
            ],
            "type": "histogram2dcontour"
           }
          ],
          "mesh3d": [
           {
            "colorbar": {
             "outlinewidth": 0,
             "ticks": ""
            },
            "type": "mesh3d"
           }
          ],
          "parcoords": [
           {
            "line": {
             "colorbar": {
              "outlinewidth": 0,
              "ticks": ""
             }
            },
            "type": "parcoords"
           }
          ],
          "pie": [
           {
            "automargin": true,
            "type": "pie"
           }
          ],
          "scatter": [
           {
            "fillpattern": {
             "fillmode": "overlay",
             "size": 10,
             "solidity": 0.2
            },
            "type": "scatter"
           }
          ],
          "scatter3d": [
           {
            "line": {
             "colorbar": {
              "outlinewidth": 0,
              "ticks": ""
             }
            },
            "marker": {
             "colorbar": {
              "outlinewidth": 0,
              "ticks": ""
             }
            },
            "type": "scatter3d"
           }
          ],
          "scattercarpet": [
           {
            "marker": {
             "colorbar": {
              "outlinewidth": 0,
              "ticks": ""
             }
            },
            "type": "scattercarpet"
           }
          ],
          "scattergeo": [
           {
            "marker": {
             "colorbar": {
              "outlinewidth": 0,
              "ticks": ""
             }
            },
            "type": "scattergeo"
           }
          ],
          "scattergl": [
           {
            "marker": {
             "colorbar": {
              "outlinewidth": 0,
              "ticks": ""
             }
            },
            "type": "scattergl"
           }
          ],
          "scattermapbox": [
           {
            "marker": {
             "colorbar": {
              "outlinewidth": 0,
              "ticks": ""
             }
            },
            "type": "scattermapbox"
           }
          ],
          "scatterpolar": [
           {
            "marker": {
             "colorbar": {
              "outlinewidth": 0,
              "ticks": ""
             }
            },
            "type": "scatterpolar"
           }
          ],
          "scatterpolargl": [
           {
            "marker": {
             "colorbar": {
              "outlinewidth": 0,
              "ticks": ""
             }
            },
            "type": "scatterpolargl"
           }
          ],
          "scatterternary": [
           {
            "marker": {
             "colorbar": {
              "outlinewidth": 0,
              "ticks": ""
             }
            },
            "type": "scatterternary"
           }
          ],
          "surface": [
           {
            "colorbar": {
             "outlinewidth": 0,
             "ticks": ""
            },
            "colorscale": [
             [
              0,
              "#0d0887"
             ],
             [
              0.1111111111111111,
              "#46039f"
             ],
             [
              0.2222222222222222,
              "#7201a8"
             ],
             [
              0.3333333333333333,
              "#9c179e"
             ],
             [
              0.4444444444444444,
              "#bd3786"
             ],
             [
              0.5555555555555556,
              "#d8576b"
             ],
             [
              0.6666666666666666,
              "#ed7953"
             ],
             [
              0.7777777777777778,
              "#fb9f3a"
             ],
             [
              0.8888888888888888,
              "#fdca26"
             ],
             [
              1,
              "#f0f921"
             ]
            ],
            "type": "surface"
           }
          ],
          "table": [
           {
            "cells": {
             "fill": {
              "color": "#EBF0F8"
             },
             "line": {
              "color": "white"
             }
            },
            "header": {
             "fill": {
              "color": "#C8D4E3"
             },
             "line": {
              "color": "white"
             }
            },
            "type": "table"
           }
          ]
         },
         "layout": {
          "annotationdefaults": {
           "arrowcolor": "#2a3f5f",
           "arrowhead": 0,
           "arrowwidth": 1
          },
          "autotypenumbers": "strict",
          "coloraxis": {
           "colorbar": {
            "outlinewidth": 0,
            "ticks": ""
           }
          },
          "colorscale": {
           "diverging": [
            [
             0,
             "#8e0152"
            ],
            [
             0.1,
             "#c51b7d"
            ],
            [
             0.2,
             "#de77ae"
            ],
            [
             0.3,
             "#f1b6da"
            ],
            [
             0.4,
             "#fde0ef"
            ],
            [
             0.5,
             "#f7f7f7"
            ],
            [
             0.6,
             "#e6f5d0"
            ],
            [
             0.7,
             "#b8e186"
            ],
            [
             0.8,
             "#7fbc41"
            ],
            [
             0.9,
             "#4d9221"
            ],
            [
             1,
             "#276419"
            ]
           ],
           "sequential": [
            [
             0,
             "#0d0887"
            ],
            [
             0.1111111111111111,
             "#46039f"
            ],
            [
             0.2222222222222222,
             "#7201a8"
            ],
            [
             0.3333333333333333,
             "#9c179e"
            ],
            [
             0.4444444444444444,
             "#bd3786"
            ],
            [
             0.5555555555555556,
             "#d8576b"
            ],
            [
             0.6666666666666666,
             "#ed7953"
            ],
            [
             0.7777777777777778,
             "#fb9f3a"
            ],
            [
             0.8888888888888888,
             "#fdca26"
            ],
            [
             1,
             "#f0f921"
            ]
           ],
           "sequentialminus": [
            [
             0,
             "#0d0887"
            ],
            [
             0.1111111111111111,
             "#46039f"
            ],
            [
             0.2222222222222222,
             "#7201a8"
            ],
            [
             0.3333333333333333,
             "#9c179e"
            ],
            [
             0.4444444444444444,
             "#bd3786"
            ],
            [
             0.5555555555555556,
             "#d8576b"
            ],
            [
             0.6666666666666666,
             "#ed7953"
            ],
            [
             0.7777777777777778,
             "#fb9f3a"
            ],
            [
             0.8888888888888888,
             "#fdca26"
            ],
            [
             1,
             "#f0f921"
            ]
           ]
          },
          "colorway": [
           "#636efa",
           "#EF553B",
           "#00cc96",
           "#ab63fa",
           "#FFA15A",
           "#19d3f3",
           "#FF6692",
           "#B6E880",
           "#FF97FF",
           "#FECB52"
          ],
          "font": {
           "color": "#2a3f5f"
          },
          "geo": {
           "bgcolor": "white",
           "lakecolor": "white",
           "landcolor": "#E5ECF6",
           "showlakes": true,
           "showland": true,
           "subunitcolor": "white"
          },
          "hoverlabel": {
           "align": "left"
          },
          "hovermode": "closest",
          "mapbox": {
           "style": "light"
          },
          "paper_bgcolor": "white",
          "plot_bgcolor": "#E5ECF6",
          "polar": {
           "angularaxis": {
            "gridcolor": "white",
            "linecolor": "white",
            "ticks": ""
           },
           "bgcolor": "#E5ECF6",
           "radialaxis": {
            "gridcolor": "white",
            "linecolor": "white",
            "ticks": ""
           }
          },
          "scene": {
           "xaxis": {
            "backgroundcolor": "#E5ECF6",
            "gridcolor": "white",
            "gridwidth": 2,
            "linecolor": "white",
            "showbackground": true,
            "ticks": "",
            "zerolinecolor": "white"
           },
           "yaxis": {
            "backgroundcolor": "#E5ECF6",
            "gridcolor": "white",
            "gridwidth": 2,
            "linecolor": "white",
            "showbackground": true,
            "ticks": "",
            "zerolinecolor": "white"
           },
           "zaxis": {
            "backgroundcolor": "#E5ECF6",
            "gridcolor": "white",
            "gridwidth": 2,
            "linecolor": "white",
            "showbackground": true,
            "ticks": "",
            "zerolinecolor": "white"
           }
          },
          "shapedefaults": {
           "line": {
            "color": "#2a3f5f"
           }
          },
          "ternary": {
           "aaxis": {
            "gridcolor": "white",
            "linecolor": "white",
            "ticks": ""
           },
           "baxis": {
            "gridcolor": "white",
            "linecolor": "white",
            "ticks": ""
           },
           "bgcolor": "#E5ECF6",
           "caxis": {
            "gridcolor": "white",
            "linecolor": "white",
            "ticks": ""
           }
          },
          "title": {
           "x": 0.05
          },
          "xaxis": {
           "automargin": true,
           "gridcolor": "white",
           "linecolor": "white",
           "ticks": "",
           "title": {
            "standoff": 15
           },
           "zerolinecolor": "white",
           "zerolinewidth": 2
          },
          "yaxis": {
           "automargin": true,
           "gridcolor": "white",
           "linecolor": "white",
           "ticks": "",
           "title": {
            "standoff": 15
           },
           "zerolinecolor": "white",
           "zerolinewidth": 2
          }
         }
        },
        "xaxis": {
         "anchor": "y",
         "categoryarray": [
          "Male",
          "Female"
         ],
         "categoryorder": "array",
         "domain": [
          0,
          1
         ],
         "title": {
          "text": "Sex"
         }
        },
        "yaxis": {
         "anchor": "x",
         "domain": [
          0,
          1
         ],
         "title": {
          "text": "Ratio of records with income >50K"
         }
        }
       }
      }
     },
     "metadata": {},
     "output_type": "display_data"
    }
   ],
   "source": [
    "incomeGender = df_original.groupby('sex').income.value_counts()\n",
    "Female = incomeGender[1]/incomeGender[0]\n",
    "Male = incomeGender[3]/incomeGender[2]\n",
    "temp = {}\n",
    "temp['probability'] = Male,Female\n",
    "temp['sex'] = ['Male','Female']\n",
    "\n",
    "genderGraph = pd.DataFrame(temp)\n",
    "\n",
    "fig = px.bar(genderGraph,\n",
    "             x = 'sex',\n",
    "             y = 'probability',\n",
    "             color='sex',\n",
    "             labels={'probability':'Ratio of records with income >50K','sex':'Sex'})\n",
    "fig.show()\n"
   ]
  },
  {
   "attachments": {},
   "cell_type": "markdown",
   "metadata": {},
   "source": [
    "Conclusion:\n",
    "<ul> Males in the dataset have a significantly higher proportion earning >50K than Females.</ul>"
   ]
  },
  {
   "cell_type": "code",
   "execution_count": 58,
   "metadata": {},
   "outputs": [
    {
     "data": {
      "application/vnd.plotly.v1+json": {
       "config": {
        "plotlyServerURL": "https://plot.ly"
       },
       "data": [
        {
         "alignmentgroup": "True",
         "hovertemplate": "Relationship=%{x}<br>Ratio=%{marker.color}<extra></extra>",
         "legendgroup": "",
         "marker": {
          "color": [
           0.01,
           0.04,
           0.06,
           0.1,
           0.45,
           0.48
          ],
          "coloraxis": "coloraxis",
          "pattern": {
           "shape": ""
          }
         },
         "name": "",
         "offsetgroup": "",
         "orientation": "v",
         "showlegend": false,
         "textposition": "auto",
         "type": "bar",
         "x": [
          " Own-child",
          " Other-relative",
          " Unmarried",
          " Not-in-family",
          " Husband",
          " Wife"
         ],
         "xaxis": "x",
         "y": [
          0.01,
          0.04,
          0.06,
          0.1,
          0.45,
          0.48
         ],
         "yaxis": "y"
        }
       ],
       "layout": {
        "barmode": "relative",
        "coloraxis": {
         "colorbar": {
          "title": {
           "text": "Ratio"
          }
         },
         "colorscale": [
          [
           0,
           "#440154"
          ],
          [
           0.1111111111111111,
           "#482878"
          ],
          [
           0.2222222222222222,
           "#3e4989"
          ],
          [
           0.3333333333333333,
           "#31688e"
          ],
          [
           0.4444444444444444,
           "#26828e"
          ],
          [
           0.5555555555555556,
           "#1f9e89"
          ],
          [
           0.6666666666666666,
           "#35b779"
          ],
          [
           0.7777777777777778,
           "#6ece58"
          ],
          [
           0.8888888888888888,
           "#b5de2b"
          ],
          [
           1,
           "#fde725"
          ]
         ]
        },
        "legend": {
         "tracegroupgap": 0
        },
        "template": {
         "data": {
          "bar": [
           {
            "error_x": {
             "color": "#2a3f5f"
            },
            "error_y": {
             "color": "#2a3f5f"
            },
            "marker": {
             "line": {
              "color": "#E5ECF6",
              "width": 0.5
             },
             "pattern": {
              "fillmode": "overlay",
              "size": 10,
              "solidity": 0.2
             }
            },
            "type": "bar"
           }
          ],
          "barpolar": [
           {
            "marker": {
             "line": {
              "color": "#E5ECF6",
              "width": 0.5
             },
             "pattern": {
              "fillmode": "overlay",
              "size": 10,
              "solidity": 0.2
             }
            },
            "type": "barpolar"
           }
          ],
          "carpet": [
           {
            "aaxis": {
             "endlinecolor": "#2a3f5f",
             "gridcolor": "white",
             "linecolor": "white",
             "minorgridcolor": "white",
             "startlinecolor": "#2a3f5f"
            },
            "baxis": {
             "endlinecolor": "#2a3f5f",
             "gridcolor": "white",
             "linecolor": "white",
             "minorgridcolor": "white",
             "startlinecolor": "#2a3f5f"
            },
            "type": "carpet"
           }
          ],
          "choropleth": [
           {
            "colorbar": {
             "outlinewidth": 0,
             "ticks": ""
            },
            "type": "choropleth"
           }
          ],
          "contour": [
           {
            "colorbar": {
             "outlinewidth": 0,
             "ticks": ""
            },
            "colorscale": [
             [
              0,
              "#0d0887"
             ],
             [
              0.1111111111111111,
              "#46039f"
             ],
             [
              0.2222222222222222,
              "#7201a8"
             ],
             [
              0.3333333333333333,
              "#9c179e"
             ],
             [
              0.4444444444444444,
              "#bd3786"
             ],
             [
              0.5555555555555556,
              "#d8576b"
             ],
             [
              0.6666666666666666,
              "#ed7953"
             ],
             [
              0.7777777777777778,
              "#fb9f3a"
             ],
             [
              0.8888888888888888,
              "#fdca26"
             ],
             [
              1,
              "#f0f921"
             ]
            ],
            "type": "contour"
           }
          ],
          "contourcarpet": [
           {
            "colorbar": {
             "outlinewidth": 0,
             "ticks": ""
            },
            "type": "contourcarpet"
           }
          ],
          "heatmap": [
           {
            "colorbar": {
             "outlinewidth": 0,
             "ticks": ""
            },
            "colorscale": [
             [
              0,
              "#0d0887"
             ],
             [
              0.1111111111111111,
              "#46039f"
             ],
             [
              0.2222222222222222,
              "#7201a8"
             ],
             [
              0.3333333333333333,
              "#9c179e"
             ],
             [
              0.4444444444444444,
              "#bd3786"
             ],
             [
              0.5555555555555556,
              "#d8576b"
             ],
             [
              0.6666666666666666,
              "#ed7953"
             ],
             [
              0.7777777777777778,
              "#fb9f3a"
             ],
             [
              0.8888888888888888,
              "#fdca26"
             ],
             [
              1,
              "#f0f921"
             ]
            ],
            "type": "heatmap"
           }
          ],
          "heatmapgl": [
           {
            "colorbar": {
             "outlinewidth": 0,
             "ticks": ""
            },
            "colorscale": [
             [
              0,
              "#0d0887"
             ],
             [
              0.1111111111111111,
              "#46039f"
             ],
             [
              0.2222222222222222,
              "#7201a8"
             ],
             [
              0.3333333333333333,
              "#9c179e"
             ],
             [
              0.4444444444444444,
              "#bd3786"
             ],
             [
              0.5555555555555556,
              "#d8576b"
             ],
             [
              0.6666666666666666,
              "#ed7953"
             ],
             [
              0.7777777777777778,
              "#fb9f3a"
             ],
             [
              0.8888888888888888,
              "#fdca26"
             ],
             [
              1,
              "#f0f921"
             ]
            ],
            "type": "heatmapgl"
           }
          ],
          "histogram": [
           {
            "marker": {
             "pattern": {
              "fillmode": "overlay",
              "size": 10,
              "solidity": 0.2
             }
            },
            "type": "histogram"
           }
          ],
          "histogram2d": [
           {
            "colorbar": {
             "outlinewidth": 0,
             "ticks": ""
            },
            "colorscale": [
             [
              0,
              "#0d0887"
             ],
             [
              0.1111111111111111,
              "#46039f"
             ],
             [
              0.2222222222222222,
              "#7201a8"
             ],
             [
              0.3333333333333333,
              "#9c179e"
             ],
             [
              0.4444444444444444,
              "#bd3786"
             ],
             [
              0.5555555555555556,
              "#d8576b"
             ],
             [
              0.6666666666666666,
              "#ed7953"
             ],
             [
              0.7777777777777778,
              "#fb9f3a"
             ],
             [
              0.8888888888888888,
              "#fdca26"
             ],
             [
              1,
              "#f0f921"
             ]
            ],
            "type": "histogram2d"
           }
          ],
          "histogram2dcontour": [
           {
            "colorbar": {
             "outlinewidth": 0,
             "ticks": ""
            },
            "colorscale": [
             [
              0,
              "#0d0887"
             ],
             [
              0.1111111111111111,
              "#46039f"
             ],
             [
              0.2222222222222222,
              "#7201a8"
             ],
             [
              0.3333333333333333,
              "#9c179e"
             ],
             [
              0.4444444444444444,
              "#bd3786"
             ],
             [
              0.5555555555555556,
              "#d8576b"
             ],
             [
              0.6666666666666666,
              "#ed7953"
             ],
             [
              0.7777777777777778,
              "#fb9f3a"
             ],
             [
              0.8888888888888888,
              "#fdca26"
             ],
             [
              1,
              "#f0f921"
             ]
            ],
            "type": "histogram2dcontour"
           }
          ],
          "mesh3d": [
           {
            "colorbar": {
             "outlinewidth": 0,
             "ticks": ""
            },
            "type": "mesh3d"
           }
          ],
          "parcoords": [
           {
            "line": {
             "colorbar": {
              "outlinewidth": 0,
              "ticks": ""
             }
            },
            "type": "parcoords"
           }
          ],
          "pie": [
           {
            "automargin": true,
            "type": "pie"
           }
          ],
          "scatter": [
           {
            "fillpattern": {
             "fillmode": "overlay",
             "size": 10,
             "solidity": 0.2
            },
            "type": "scatter"
           }
          ],
          "scatter3d": [
           {
            "line": {
             "colorbar": {
              "outlinewidth": 0,
              "ticks": ""
             }
            },
            "marker": {
             "colorbar": {
              "outlinewidth": 0,
              "ticks": ""
             }
            },
            "type": "scatter3d"
           }
          ],
          "scattercarpet": [
           {
            "marker": {
             "colorbar": {
              "outlinewidth": 0,
              "ticks": ""
             }
            },
            "type": "scattercarpet"
           }
          ],
          "scattergeo": [
           {
            "marker": {
             "colorbar": {
              "outlinewidth": 0,
              "ticks": ""
             }
            },
            "type": "scattergeo"
           }
          ],
          "scattergl": [
           {
            "marker": {
             "colorbar": {
              "outlinewidth": 0,
              "ticks": ""
             }
            },
            "type": "scattergl"
           }
          ],
          "scattermapbox": [
           {
            "marker": {
             "colorbar": {
              "outlinewidth": 0,
              "ticks": ""
             }
            },
            "type": "scattermapbox"
           }
          ],
          "scatterpolar": [
           {
            "marker": {
             "colorbar": {
              "outlinewidth": 0,
              "ticks": ""
             }
            },
            "type": "scatterpolar"
           }
          ],
          "scatterpolargl": [
           {
            "marker": {
             "colorbar": {
              "outlinewidth": 0,
              "ticks": ""
             }
            },
            "type": "scatterpolargl"
           }
          ],
          "scatterternary": [
           {
            "marker": {
             "colorbar": {
              "outlinewidth": 0,
              "ticks": ""
             }
            },
            "type": "scatterternary"
           }
          ],
          "surface": [
           {
            "colorbar": {
             "outlinewidth": 0,
             "ticks": ""
            },
            "colorscale": [
             [
              0,
              "#0d0887"
             ],
             [
              0.1111111111111111,
              "#46039f"
             ],
             [
              0.2222222222222222,
              "#7201a8"
             ],
             [
              0.3333333333333333,
              "#9c179e"
             ],
             [
              0.4444444444444444,
              "#bd3786"
             ],
             [
              0.5555555555555556,
              "#d8576b"
             ],
             [
              0.6666666666666666,
              "#ed7953"
             ],
             [
              0.7777777777777778,
              "#fb9f3a"
             ],
             [
              0.8888888888888888,
              "#fdca26"
             ],
             [
              1,
              "#f0f921"
             ]
            ],
            "type": "surface"
           }
          ],
          "table": [
           {
            "cells": {
             "fill": {
              "color": "#EBF0F8"
             },
             "line": {
              "color": "white"
             }
            },
            "header": {
             "fill": {
              "color": "#C8D4E3"
             },
             "line": {
              "color": "white"
             }
            },
            "type": "table"
           }
          ]
         },
         "layout": {
          "annotationdefaults": {
           "arrowcolor": "#2a3f5f",
           "arrowhead": 0,
           "arrowwidth": 1
          },
          "autotypenumbers": "strict",
          "coloraxis": {
           "colorbar": {
            "outlinewidth": 0,
            "ticks": ""
           }
          },
          "colorscale": {
           "diverging": [
            [
             0,
             "#8e0152"
            ],
            [
             0.1,
             "#c51b7d"
            ],
            [
             0.2,
             "#de77ae"
            ],
            [
             0.3,
             "#f1b6da"
            ],
            [
             0.4,
             "#fde0ef"
            ],
            [
             0.5,
             "#f7f7f7"
            ],
            [
             0.6,
             "#e6f5d0"
            ],
            [
             0.7,
             "#b8e186"
            ],
            [
             0.8,
             "#7fbc41"
            ],
            [
             0.9,
             "#4d9221"
            ],
            [
             1,
             "#276419"
            ]
           ],
           "sequential": [
            [
             0,
             "#0d0887"
            ],
            [
             0.1111111111111111,
             "#46039f"
            ],
            [
             0.2222222222222222,
             "#7201a8"
            ],
            [
             0.3333333333333333,
             "#9c179e"
            ],
            [
             0.4444444444444444,
             "#bd3786"
            ],
            [
             0.5555555555555556,
             "#d8576b"
            ],
            [
             0.6666666666666666,
             "#ed7953"
            ],
            [
             0.7777777777777778,
             "#fb9f3a"
            ],
            [
             0.8888888888888888,
             "#fdca26"
            ],
            [
             1,
             "#f0f921"
            ]
           ],
           "sequentialminus": [
            [
             0,
             "#0d0887"
            ],
            [
             0.1111111111111111,
             "#46039f"
            ],
            [
             0.2222222222222222,
             "#7201a8"
            ],
            [
             0.3333333333333333,
             "#9c179e"
            ],
            [
             0.4444444444444444,
             "#bd3786"
            ],
            [
             0.5555555555555556,
             "#d8576b"
            ],
            [
             0.6666666666666666,
             "#ed7953"
            ],
            [
             0.7777777777777778,
             "#fb9f3a"
            ],
            [
             0.8888888888888888,
             "#fdca26"
            ],
            [
             1,
             "#f0f921"
            ]
           ]
          },
          "colorway": [
           "#636efa",
           "#EF553B",
           "#00cc96",
           "#ab63fa",
           "#FFA15A",
           "#19d3f3",
           "#FF6692",
           "#B6E880",
           "#FF97FF",
           "#FECB52"
          ],
          "font": {
           "color": "#2a3f5f"
          },
          "geo": {
           "bgcolor": "white",
           "lakecolor": "white",
           "landcolor": "#E5ECF6",
           "showlakes": true,
           "showland": true,
           "subunitcolor": "white"
          },
          "hoverlabel": {
           "align": "left"
          },
          "hovermode": "closest",
          "mapbox": {
           "style": "light"
          },
          "paper_bgcolor": "white",
          "plot_bgcolor": "#E5ECF6",
          "polar": {
           "angularaxis": {
            "gridcolor": "white",
            "linecolor": "white",
            "ticks": ""
           },
           "bgcolor": "#E5ECF6",
           "radialaxis": {
            "gridcolor": "white",
            "linecolor": "white",
            "ticks": ""
           }
          },
          "scene": {
           "xaxis": {
            "backgroundcolor": "#E5ECF6",
            "gridcolor": "white",
            "gridwidth": 2,
            "linecolor": "white",
            "showbackground": true,
            "ticks": "",
            "zerolinecolor": "white"
           },
           "yaxis": {
            "backgroundcolor": "#E5ECF6",
            "gridcolor": "white",
            "gridwidth": 2,
            "linecolor": "white",
            "showbackground": true,
            "ticks": "",
            "zerolinecolor": "white"
           },
           "zaxis": {
            "backgroundcolor": "#E5ECF6",
            "gridcolor": "white",
            "gridwidth": 2,
            "linecolor": "white",
            "showbackground": true,
            "ticks": "",
            "zerolinecolor": "white"
           }
          },
          "shapedefaults": {
           "line": {
            "color": "#2a3f5f"
           }
          },
          "ternary": {
           "aaxis": {
            "gridcolor": "white",
            "linecolor": "white",
            "ticks": ""
           },
           "baxis": {
            "gridcolor": "white",
            "linecolor": "white",
            "ticks": ""
           },
           "bgcolor": "#E5ECF6",
           "caxis": {
            "gridcolor": "white",
            "linecolor": "white",
            "ticks": ""
           }
          },
          "title": {
           "x": 0.05
          },
          "xaxis": {
           "automargin": true,
           "gridcolor": "white",
           "linecolor": "white",
           "ticks": "",
           "title": {
            "standoff": 15
           },
           "zerolinecolor": "white",
           "zerolinewidth": 2
          },
          "yaxis": {
           "automargin": true,
           "gridcolor": "white",
           "linecolor": "white",
           "ticks": "",
           "title": {
            "standoff": 15
           },
           "zerolinecolor": "white",
           "zerolinewidth": 2
          }
         }
        },
        "title": {
         "text": "Relationship vs Income"
        },
        "xaxis": {
         "anchor": "y",
         "domain": [
          0,
          1
         ],
         "title": {
          "text": "Relationship"
         }
        },
        "yaxis": {
         "anchor": "x",
         "domain": [
          0,
          1
         ],
         "title": {
          "text": "Ratio"
         }
        }
       }
      }
     },
     "metadata": {},
     "output_type": "display_data"
    }
   ],
   "source": [
    "incomeRelation = pd.DataFrame(df_original.groupby('relationship').income.value_counts())\n",
    "incomeRelation = incomeRelation.unstack()\n",
    "incomeRelation['Ratio'] = round(incomeRelation['count',' >50K'] / (incomeRelation['count',' >50K']+incomeRelation['count',' <=50K']),2)\n",
    "incomeRelation['Relationship'] = incomeRelation.index\n",
    "incomeRelation = incomeRelation.droplevel('income',axis=1)\n",
    "incomeRelation = incomeRelation.sort_values('Ratio')\n",
    "fig = px.bar(pd.DataFrame(incomeRelation),\n",
    "             x='Relationship',\n",
    "             y='Ratio',\n",
    "             color='Ratio',\n",
    "             color_continuous_scale=\"viridis\",\n",
    "             title='Relationship vs Income')\n",
    "fig.show()"
   ]
  },
  {
   "attachments": {},
   "cell_type": "markdown",
   "metadata": {},
   "source": [
    "Conclusion:\n",
    "<ul>Married individuals have a significantly higher ratio of individuals earning >50K</ul>"
   ]
  },
  {
   "attachments": {},
   "cell_type": "markdown",
   "metadata": {},
   "source": [
    "## <b>3. Data Pre-Processing</b>"
   ]
  },
  {
   "attachments": {},
   "cell_type": "markdown",
   "metadata": {},
   "source": [
    "##### Copy original dataset"
   ]
  },
  {
   "cell_type": "code",
   "execution_count": 59,
   "metadata": {},
   "outputs": [],
   "source": [
    "df=df_original.copy()"
   ]
  },
  {
   "attachments": {},
   "cell_type": "markdown",
   "metadata": {},
   "source": [
    "##### Null Values"
   ]
  },
  {
   "cell_type": "code",
   "execution_count": 60,
   "metadata": {},
   "outputs": [
    {
     "data": {
      "text/plain": [
       "age                0\n",
       "workclass          0\n",
       "fnlwgt             0\n",
       "education          0\n",
       "education_years    0\n",
       "marital_status     0\n",
       "occupation         0\n",
       "relationship       0\n",
       "race               0\n",
       "sex                0\n",
       "capital_gain       0\n",
       "capital_loss       0\n",
       "hours_per_week     0\n",
       "native_country     0\n",
       "income             0\n",
       "dtype: int64"
      ]
     },
     "execution_count": 60,
     "metadata": {},
     "output_type": "execute_result"
    }
   ],
   "source": [
    "df.isnull().sum()"
   ]
  },
  {
   "cell_type": "code",
   "execution_count": 61,
   "metadata": {},
   "outputs": [
    {
     "name": "stdout",
     "output_type": "stream",
     "text": [
      "age                   0\n",
      "workclass          1836\n",
      "fnlwgt                0\n",
      "education             0\n",
      "education_years       0\n",
      "marital_status        0\n",
      "occupation         1843\n",
      "relationship          0\n",
      "race                  0\n",
      "sex                   0\n",
      "capital_gain          0\n",
      "capital_loss          0\n",
      "hours_per_week        0\n",
      "native_country      583\n",
      "income                0\n",
      "dtype: int64\n"
     ]
    }
   ],
   "source": [
    "print(df[df==' ?'].count())\n",
    "df[df==' ?']=np.nan\n",
    "\n",
    "# Replace workclass and native_country with mode of respective columns\n",
    "for col in ['workclass', 'native_country','occupation']: \n",
    "    df[col].fillna(df[col].mode()[0], inplace=True)\n"
   ]
  },
  {
   "attachments": {},
   "cell_type": "markdown",
   "metadata": {},
   "source": [
    "##### Duplicate Records"
   ]
  },
  {
   "cell_type": "code",
   "execution_count": 62,
   "metadata": {},
   "outputs": [
    {
     "name": "stdout",
     "output_type": "stream",
     "text": [
      "Number of Duplicate Records found: 24\n"
     ]
    }
   ],
   "source": [
    "print(\"Number of Duplicate Records found:\",df[df.duplicated()].shape[0])\n",
    "df = df.drop_duplicates().reset_index(drop=True)"
   ]
  },
  {
   "attachments": {},
   "cell_type": "markdown",
   "metadata": {},
   "source": [
    "##### Determining Outliers in Dataset"
   ]
  },
  {
   "cell_type": "code",
   "execution_count": 63,
   "metadata": {},
   "outputs": [
    {
     "data": {
      "image/png": "[encoded data removed]",
      "text/plain": [
       "<Figure size 1800x1800 with 6 Axes>"
      ]
     },
     "metadata": {},
     "output_type": "display_data"
    }
   ],
   "source": [
    "plt.figure(figsize=(18, 18))\n",
    "for i, col in enumerate(df.select_dtypes(include=['int','float']).columns):\n",
    "    ax = plt.subplot(3,3, i+1)\n",
    "    sns.boxplot(data=df, x=col, ax=ax)"
   ]
  },
  {
   "attachments": {},
   "cell_type": "markdown",
   "metadata": {},
   "source": [
    "##### Converting target attribute to bool"
   ]
  },
  {
   "cell_type": "code",
   "execution_count": 64,
   "metadata": {},
   "outputs": [
    {
     "data": {
      "text/plain": [
       "0        0\n",
       "1        0\n",
       "2        0\n",
       "3        0\n",
       "4        0\n",
       "        ..\n",
       "32532    0\n",
       "32533    1\n",
       "32534    0\n",
       "32535    0\n",
       "32536    1\n",
       "Name: income, Length: 32537, dtype: int32"
      ]
     },
     "execution_count": 64,
     "metadata": {},
     "output_type": "execute_result"
    }
   ],
   "source": [
    "# Converting <=50K to 0 and >50K to 1\n",
    "df['income'] = np.where(df['income']==\" <=50K\",0,1)\n",
    "df['income']"
   ]
  },
  {
   "attachments": {},
   "cell_type": "markdown",
   "metadata": {},
   "source": [
    "##### Correlation matrix including each category"
   ]
  },
  {
   "cell_type": "code",
   "execution_count": 65,
   "metadata": {},
   "outputs": [
    {
     "data": {
      "application/vnd.plotly.v1+json": {
       "config": {
        "plotlyServerURL": "https://plot.ly"
       },
       "data": [
        {
         "coloraxis": "coloraxis",
         "hovertemplate": "x: %{x}<br>y: %{y}<br>color: %{z}<extra></extra>",
         "name": "0",
         "type": "heatmap",
         "x": [
          "age",
          "fnlwgt",
          "education_years",
          "capital_gain",
          "capital_loss",
          "hours_per_week",
          "income",
          "workclass_ Federal-gov",
          "workclass_ Local-gov",
          "workclass_ Never-worked",
          "workclass_ Private",
          "workclass_ Self-emp-inc",
          "workclass_ Self-emp-not-inc",
          "workclass_ State-gov",
          "workclass_ Without-pay",
          "education_ 10th",
          "education_ 11th",
          "education_ 12th",
          "education_ 1st-4th",
          "education_ 5th-6th",
          "education_ 7th-8th",
          "education_ 9th",
          "education_ Assoc-acdm",
          "education_ Assoc-voc",
          "education_ Bachelors",
          "education_ Doctorate",
          "education_ HS-grad",
          "education_ Masters",
          "education_ Preschool",
          "education_ Prof-school",
          "education_ Some-college",
          "marital_status_ Divorced",
          "marital_status_ Married-AF-spouse",
          "marital_status_ Married-civ-spouse",
          "marital_status_ Married-spouse-absent",
          "marital_status_ Never-married",
          "marital_status_ Separated",
          "marital_status_ Widowed",
          "occupation_ Adm-clerical",
          "occupation_ Armed-Forces",
          "occupation_ Craft-repair",
          "occupation_ Exec-managerial",
          "occupation_ Farming-fishing",
          "occupation_ Handlers-cleaners",
          "occupation_ Machine-op-inspct",
          "occupation_ Other-service",
          "occupation_ Priv-house-serv",
          "occupation_ Prof-specialty",
          "occupation_ Protective-serv",
          "occupation_ Sales",
          "occupation_ Tech-support",
          "occupation_ Transport-moving",
          "relationship_ Husband",
          "relationship_ Not-in-family",
          "relationship_ Other-relative",
          "relationship_ Own-child",
          "relationship_ Unmarried",
          "relationship_ Wife",
          "race_ Amer-Indian-Eskimo",
          "race_ Asian-Pac-Islander",
          "race_ Black",
          "race_ Other",
          "race_ White",
          "sex_ Female",
          "sex_ Male",
          "native_country_NON-US",
          "native_country_US"
         ],
         "xaxis": "x",
         "y": [
          "age",
          "fnlwgt",
          "education_years",
          "capital_gain",
          "capital_loss",
          "hours_per_week",
          "income",
          "workclass_ Federal-gov",
          "workclass_ Local-gov",
          "workclass_ Never-worked",
          "workclass_ Private",
          "workclass_ Self-emp-inc",
          "workclass_ Self-emp-not-inc",
          "workclass_ State-gov",
          "workclass_ Without-pay",
          "education_ 10th",
          "education_ 11th",
          "education_ 12th",
          "education_ 1st-4th",
          "education_ 5th-6th",
          "education_ 7th-8th",
          "education_ 9th",
          "education_ Assoc-acdm",
          "education_ Assoc-voc",
          "education_ Bachelors",
          "education_ Doctorate",
          "education_ HS-grad",
          "education_ Masters",
          "education_ Preschool",
          "education_ Prof-school",
          "education_ Some-college",
          "marital_status_ Divorced",
          "marital_status_ Married-AF-spouse",
          "marital_status_ Married-civ-spouse",
          "marital_status_ Married-spouse-absent",
          "marital_status_ Never-married",
          "marital_status_ Separated",
          "marital_status_ Widowed",
          "occupation_ Adm-clerical",
          "occupation_ Armed-Forces",
          "occupation_ Craft-repair",
          "occupation_ Exec-managerial",
          "occupation_ Farming-fishing",
          "occupation_ Handlers-cleaners",
          "occupation_ Machine-op-inspct",
          "occupation_ Other-service",
          "occupation_ Priv-house-serv",
          "occupation_ Prof-specialty",
          "occupation_ Protective-serv",
          "occupation_ Sales",
          "occupation_ Tech-support",
          "occupation_ Transport-moving",
          "relationship_ Husband",
          "relationship_ Not-in-family",
          "relationship_ Other-relative",
          "relationship_ Own-child",
          "relationship_ Unmarried",
          "relationship_ Wife",
          "race_ Amer-Indian-Eskimo",
          "race_ Asian-Pac-Islander",
          "race_ Black",
          "race_ Other",
          "race_ White",
          "sex_ Female",
          "sex_ Male",
          "native_country_NON-US",
          "native_country_US"
         ],
         "yaxis": "y",
         "z": [
          [
           1,
           -0.07644721817966185,
           0.036224087805479005,
           0.07767593868152559,
           0.05774520954994416,
           0.06851456106946652,
           0.2340370946445635,
           0.0512056028291977,
           0.060860594419657445,
           -0.01937655462676815,
           -0.18861803647448144,
           0.10269604239521107,
           0.13618505985849158,
           0.012712268047221312,
           0.013996545878598677,
           -0.014560997036276514,
           -0.0884194806204124,
           -0.0560806265628481,
           0.04102013130504303,
           0.03246188516065681,
           0.10281264414787422,
           0.02299008597080397,
           -0.016257541712993505,
           -0.0004942420655933713,
           0.010446366890502313,
           0.07579683631813554,
           0.01986434909964182,
           0.0948793665629858,
           0.013274151557913129,
           0.060646718186507215,
           -0.11141674571409399,
           0.1299391811300527,
           -0.011910599530045304,
           0.31555380862326615,
           0.016674691074486995,
           -0.5343740328899831,
           0.010164346815573757,
           0.26527479541042354,
           -0.04295582614103015,
           -0.010200656904606534,
           0.01231788120869715,
           0.09944768929174949,
           0.034698572189426145,
           -0.09855436289722434,
           -0.016233004679658807,
           -0.0896895949052993,
           0.01663149069528307,
           0.07129378652252144,
           0.0038519443073438357,
           -0.03210058867314519,
           -0.01939491489224333,
           0.026859669400268227,
           0.31677053993734633,
           -0.009822576466449358,
           -0.07009127150401097,
           -0.43297258689732854,
           0.043066196813753274,
           0.02080155044617999,
           -0.010170496535432855,
           -0.011833599214488765,
           -0.019328728792092506,
           -0.034459999789217065,
           0.03370814183552496,
           -0.08870831208427153,
           0.08870831208427202,
           -0.01755822229849212,
           0.017558222298492077
          ],
          [
           -0.07644721817966185,
           1,
           -0.0433883655349105,
           0.00042858942530689777,
           -0.010260135174188634,
           -0.018898037003039745,
           -0.009502349300418206,
           -0.007531807176752685,
           -0.00283460693749953,
           0.00503201593220586,
           0.04411727871173243,
           -0.0246381104406836,
           -0.03892603973860311,
           -0.01089972908908796,
           -0.003049271390142126,
           0.011478372163468163,
           0.00943870373835397,
           0.010250532176318584,
           0.033950748257277494,
           0.041019509070276725,
           -0.0019650979764870343,
           0.015248259997978858,
           0.006355417016000166,
           -0.015652928284829823,
           -0.007487073489501314,
           -0.003310755387508177,
           -0.0015589071919182506,
           -0.022358488928509716,
           0.01708134725125951,
           -0.005236229953481296,
           -0.005021000260854981,
           -0.015103831570982496,
           -0.00040700451802964016,
           -0.026139692917787435,
           0.003632336869943039,
           0.036978607839970624,
           0.02847156867131404,
           -0.02625846289608344,
           0.007859536944392466,
           0.004041269124895462,
           0.008780783836866653,
           -0.019178276694865236,
           -0.032912985760275064,
           0.02895657048951471,
           0.01266484917398746,
           -0.003797402892320373,
           0.007273389546950397,
           -0.015765898455546185,
           0.016568732772208383,
           0.0037213148388504334,
           0.003907543743519851,
           0.00126021852052064,
           -0.020906857677859624,
           0.0072316794580967216,
           0.02552169462398363,
           0.013795942113658371,
           0.004447583577724062,
           -0.016907440365885183,
           -0.06416987442737221,
           -0.05114035508026598,
           0.11816341319443269,
           0.006375697866297531,
           -0.057108586446994895,
           -0.02708942994320561,
           0.027089429943205602,
           0.07945954013542084,
           -0.0794595401354208
          ],
          [
           0.036224087805479005,
           -0.0433883655349105,
           1,
           0.12266372800099844,
           0.07989193887358809,
           0.14842218535517523,
           0.33527151224893026,
           0.0604898794294843,
           0.09790545130859044,
           -0.01513497533081712,
           -0.16794779043162528,
           0.07733719226687513,
           0.016358142694502347,
           0.10258186019235156,
           -0.008151803660705366,
           -0.27272236026773844,
           -0.23196434837225935,
           -0.09401650366761838,
           -0.22505183007979285,
           -0.27960801863284485,
           -0.33633327405497954,
           -0.2503612125522653,
           0.13734792823959943,
           0.07520006786006081,
           0.5035614910988789,
           0.26094349163202823,
           -0.290258990052551,
           0.3601788086617362,
           -0.13854807928213433,
           0.2567459756330653,
           -0.017083618985499763,
           -0.007914215572507781,
           0.0009525305809171941,
           0.08599572663550321,
           -0.03430029423209146,
           -0.03179184629760825,
           -0.055275645659124746,
           -0.06817744747447049,
           0.004471534998828849,
           0.00018949899335434504,
           -0.14324108356624224,
           0.2009500904475378,
           -0.10108548154599281,
           -0.12775327479585208,
           -0.15871197080323518,
           -0.1699733248977062,
           -0.06932868987088878,
           0.313370719003501,
           0.005718776363795361,
           0.030121250619850798,
           0.06071324265889285,
           -0.11615384653435833,
           0.07880283785412057,
           0.0539899647849482,
           -0.08877994104470655,
           -0.09950879606965556,
           -0.05884183838669614,
           0.033354548131287506,
           -0.02941161243442076,
           0.06209516513685772,
           -0.07545282031935435,
           -0.04420808247374526,
           0.051551121467637656,
           -0.012205478705727654,
           0.012205478705727581,
           -0.12219285011350804,
           0.1221928501135075
          ],
          [
           0.07767593868152559,
           0.00042858942530689777,
           0.12266372800099844,
           1,
           -0.03163917912834647,
           0.0784075973543029,
           0.22333649892036503,
           -0.005787262972975844,
           -0.007035741583986061,
           -0.0021413456353546294,
           -0.04955928922770348,
           0.09686648810186348,
           0.03183943619736599,
           -0.010394836276989085,
           -0.001658573017361504,
           -0.015672119136593648,
           -0.022619560544488927,
           -0.01248710704557967,
           -0.00921855007438441,
           -0.012394941257679891,
           -0.01624936813136537,
           -0.012627565725891599,
           -0.010917780303391664,
           -0.010359725149936714,
           0.040755080382652895,
           0.05665902405755858,
           -0.046814408804609645,
           0.047535929490291,
           -0.0008607002711343221,
           0.16964573110119868,
           -0.03480648459033886,
           -0.018819027087526537,
           -0.0023248951785861797,
           0.08585764165421667,
           -0.006554305670887389,
           -0.06629442953617326,
           -0.013252751342866836,
           -0.012184991608672174,
           -0.028521124351124316,
           -0.0024281323678036473,
           -0.0219862905666,
           0.06060104452059723,
           -0.011702342272326215,
           -0.023281168433846075,
           -0.025960479467150636,
           -0.040270992013866996,
           -0.007247438383903754,
           0.06396210793309492,
           -0.007151508071021406,
           0.011614186972926972,
           -0.00936845353201319,
           -0.0180859176286462,
           0.08016734632121336,
           -0.0264352679902983,
           -0.019065149097688344,
           -0.05361919450542834,
           -0.02903178421559313,
           0.017706295036071074,
           -0.006025970606887652,
           0.009861510511470783,
           -0.02064260921971302,
           -0.0017836210500381889,
           0.014440080108366156,
           -0.04848899637793233,
           0.04848899637793226,
           -0.011248041664286671,
           0.011248041664286688
          ],
          [
           0.05774520954994416,
           -0.010260135174188634,
           0.07989193887358809,
           -0.03163917912834647,
           1,
           0.05422923522551952,
           0.15050076536805385,
           0.01077086428680721,
           0.014626446108581366,
           -0.003179453014677789,
           -0.03782536777878519,
           0.031685146862834176,
           0.02115805636306409,
           -0.0020792170345310034,
           -0.004496909436253697,
           -0.01301016375695091,
           -0.01790567115613695,
           -0.01585491914255396,
           -0.006832210312501981,
           -0.004763211936415806,
           -0.007619703447450039,
           -0.018345663749860474,
           0.0027639596143305663,
           -0.007635491363738486,
           0.03415577025549819,
           0.049359624515870004,
           -0.028849981127473796,
           0.04659204885404428,
           -0.0019025210520759814,
           0.04790239558796098,
           -0.02083783287044688,
           -0.0224269495808222,
           -0.005764665876546902,
           0.08042811348834043,
           -0.00837373821815792,
           -0.06054299069799473,
           -0.01309062052269488,
           -0.0033898998036150122,
           -0.02382927852507753,
           0.005046675624749403,
           0.001134184104191925,
           0.048278864439366104,
           -0.01063114792329498,
           -0.021680340743119773,
           -0.016253149475537177,
           -0.040836449931305564,
           -0.01096796009358592,
           0.030081443000348106,
           -0.003197232887422927,
           0.009640498418435587,
           0.004844876501777113,
           -0.0033181975152167206,
           0.07546616766948305,
           -0.01720559147038661,
           -0.015762349769447046,
           -0.050938048329766214,
           -0.03917690483224633,
           0.01710266880926848,
           -0.012963137752311766,
           0.004479893884567965,
           -0.02177676728670224,
           -0.0059790009478023825,
           0.02106069054958416,
           -0.04557106150215047,
           0.0455710615021504,
           -0.014379756927342868,
           0.01437975692734295
          ],
          [
           0.06851456106946652,
           -0.018898037003039745,
           0.14842218535517523,
           0.0784075973543029,
           0.05422923522551952,
           1,
           0.22965810163854825,
           0.013258353500650107,
           0.011520169719148375,
           -0.01427127213190238,
           -0.11249656370352386,
           0.12787913764299108,
           0.09387917780428298,
           -0.023257846444734904,
           -0.012982998456952069,
           -0.047145262290190615,
           -0.10212656823681895,
           -0.043830271334231626,
           -0.012791175397152653,
           -0.013083022811033636,
           -0.012375691147119677,
           -0.024581636222207544,
           0.0009528005291502818,
           0.019964848911683514,
           0.07812578811531849,
           0.059996290879760016,
           0.007525606457437325,
           0.06495231408069688,
           -0.01290151159585763,
           0.07594823753745829,
           -0.06834522615074917,
           0.025983252476899026,
           0.00148659685990283,
           0.21273579970054657,
           -0.007118913036760005,
           -0.1977724421864673,
           -0.01663587780396193,
           -0.10720908290334592,
           -0.08428040163961031,
           0.00030492822684030413,
           0.05736025624140202,
           0.1392781580598161,
           0.0941284900083691,
           -0.042526841326155855,
           0.006470574431428802,
           -0.1558349166548869,
           -0.04174770983532504,
           -0.049193791497921385,
           0.02808064699834644,
           0.009810725536922903,
           -0.013543613719746534,
           0.07757679390607432,
           0.2461255271392727,
           0.007373323874958612,
           -0.04904219670213626,
           -0.24888302724902125,
           -0.03727984242941276,
           -0.0652208665680771,
           -0.003119756508619262,
           -0.004533526578946386,
           -0.053176144844119054,
           -0.007212587190624057,
           0.049362768880161854,
           -0.22918711523636087,
           0.2291871152363616,
           -0.0085431612165,
           0.008543161216500079
          ],
          [
           0.2340370946445635,
           -0.009502349300418206,
           0.33527151224893026,
           0.22333649892036503,
           0.15050076536805385,
           0.22965810163854825,
           1,
           0.05933716691748012,
           0.03302694372342649,
           -0.008264306725822559,
           -0.12550392589501372,
           0.13944565521017951,
           0.030016998844966548,
           0.014791179801452586,
           -0.011688752350760128,
           -0.07009956594590744,
           -0.0859352074334475,
           -0.04473105877317376,
           -0.03429116327394157,
           -0.045759326941101894,
           -0.05949635921463552,
           -0.055813561866759856,
           0.0032009783480908675,
           0.009992787126060847,
           0.18053527647802237,
           0.1325688910257611,
           -0.13134326942114263,
           0.17466988542370915,
           -0.022101901395171823,
           0.15490301391685404,
           -0.06352749122985576,
           -0.12705956155897719,
           0.012056638736012256,
           0.44460903688364845,
           -0.042571427296657936,
           -0.31828469038293455,
           -0.07445128748941816,
           -0.06444335453981605,
           -0.09001915593577119,
           -0.005049314357903952,
           -0.012427597098936986,
           0.21488884176166018,
           -0.051833548895257514,
           -0.08728556501072968,
           -0.06967340096092692,
           -0.1563319749101639,
           -0.03688192200379967,
           0.11291940437838927,
           0.028085664928713047,
           0.023597554118767884,
           0.02577276235914404,
           -0.02154267157565376,
           0.4009414593644997,
           -0.1882993650446015,
           -0.08378243216232588,
           -0.22859341217743714,
           -0.14294815648647455,
           0.12322987695854098,
           -0.02875370639176162,
           0.010599594826851718,
           -0.08910674854238296,
           -0.03186146233948174,
           0.08523465925793373,
           -0.21596916716098188,
           0.21596916716098252,
           -0.038702369476177896,
           0.03870236947617809
          ],
          [
           0.0512056028291977,
           -0.007531807176752685,
           0.0604898794294843,
           -0.005787262972975844,
           0.01077086428680721,
           0.013258353500650107,
           0.05933716691748012,
           1,
           -0.04571765442226878,
           -0.0025577445698981003,
           -0.30465569223636085,
           -0.03286035711654144,
           -0.0507373908130434,
           -0.03554176308673618,
           -0.00361758630770867,
           -0.023428754481253634,
           -0.02498799826243609,
           -0.012324444873358332,
           -0.012486081607481493,
           -0.015896154981028334,
           -0.022190482372759734,
           -0.017720419217753376,
           0.023984564843122592,
           -0.0024998625366286736,
           0.02648381823141039,
           0.006188749290904206,
           -0.01811595474083517,
           0.013136379716807312,
           -0.006840382400291103,
           0.01653500085134608,
           0.01705845026412036,
           0.019558248286665546,
           0.015863721096394043,
           0.010681772564952386,
           -0.002149954473437613,
           -0.026978699472349457,
           -0.0044114127249853,
           0.007076296440069293,
           0.11682562452959828,
           0.09539868561293079,
           -0.03110206430445203,
           0.032993016968369135,
           -0.02246875477758598,
           -0.015734538530939347,
           -0.034035709299455846,
           -0.037407147908217586,
           -0.011746361878545549,
           -0.0006610714291249519,
           0.011498188302823741,
           -0.053921868384212604,
           0.04437660153188574,
           -0.018595798116458905,
           0.014768128547182277,
           0.014314853464561256,
           -0.008437921060110634,
           -0.042793603351312576,
           0.014377255593342086,
           -0.004463811810968782,
           0.018338370894171896,
           0.013821936127842488,
           0.047413462432005456,
           -0.0019901240768490404,
           -0.05100502529627475,
           -0.0009772283935584102,
           0.0009772283935583928,
           -0.016621075168479004,
           0.0166210751684791
          ],
          [
           0.060860594419657445,
           -0.00283460693749953,
           0.09790545130859044,
           -0.007035741583986061,
           0.014626446108581366,
           0.011520169719148375,
           0.03302694372342649,
           -0.04571765442226878,
           1,
           -0.0038462786648670423,
           -0.45813436688312115,
           -0.04941466477330881,
           -0.07629774532294613,
           -0.053446902666172476,
           -0.0054400447947034,
           -0.02178114962842113,
           -0.026579105665282148,
           -0.009679056162115287,
           -0.011742813601778004,
           -0.015403036359276548,
           -0.01212433306114588,
           -0.01011109714664294,
           0.013620458617420636,
           -0.0018011957577054245,
           0.044825264547092736,
           0.0004846025419387939,
           -0.04610822797574732,
           0.12938599105024234,
           0.0025062872201653224,
           -0.007649553935536232,
           -0.02447452010298263,
           0.03040561836001207,
           -0.006973687382292213,
           0.015088234497016982,
           -0.005438214815798517,
           -0.041677740685166664,
           -0.0021049447341389207,
           0.01611251280369687,
           0.015901178476528145,
           -0.004361404141190658,
           -0.04432793562512353,
           -0.017992414529758187,
           -0.025365989576212316,
           -0.02562360025594025,
           -0.060843158376881624,
           -0.007769127693684526,
           -0.017663914377915247,
           0.1036357001978796,
           0.23497666632676442,
           -0.09042409714257804,
           -0.016287887538996394,
           0.007115074248870205,
           0.0027361635475869036,
           -0.003276519091855386,
           -0.014728587062384259,
           -0.03827267367200156,
           0.0319186902889967,
           0.03108073297014905,
           0.02059329932237319,
           -0.01979654337481425,
           0.03707808960333194,
           -0.010245257599413481,
           -0.024129432014274463,
           0.03800030791227929,
           -0.03800030791227924,
           -0.030921007491831225,
           0.030921007491831277
          ],
          [
           -0.01937655462676815,
           0.00503201593220586,
           -0.01513497533081712,
           -0.0021413456353546294,
           -0.003179453014677789,
           -0.01427127213190238,
           -0.008264306725822559,
           -0.0025577445698981003,
           -0.0038462786648670423,
           1,
           -0.025631032562515456,
           -0.0027645795064171167,
           -0.004268594840687485,
           -0.0029901692639263118,
           -0.00030435168228747344,
           0.02259290487309382,
           0.008392837739339434,
           -0.0017036146386497128,
           -0.001050468356295457,
           -0.0014894103877812095,
           0.01294754240477586,
           -0.0018584784953207768,
           -0.0027011010181742334,
           -0.0030895635452789488,
           -0.006509519454721848,
           -0.0016632870475808534,
           -0.005638314623397292,
           -0.0034677076448497786,
           -0.0005754892112959275,
           -0.001969282631277902,
           0.002178858551114543,
           0.0002720284436997386,
           -0.0003901536782590568,
           -0.009336952116340306,
           -0.0016734553201653113,
           0.012076053736426935,
           -0.002645641151441563,
           -0.0026026947172589168,
           -0.005308845081745645,
           -0.0002440054701018903,
           -0.005565359290035537,
           -0.005542788099231039,
           -0.0026013426329171757,
           -0.0030743566295320444,
           -0.0037541256271690637,
           -0.004920822408143145,
           -0.0009882348876859804,
           0.030916505167429394,
           -0.0020927420273572513,
           -0.005214374267046445,
           -0.0025120866035676192,
           -0.0033327235607606637,
           -0.01210987071900425,
           -0.0037698805494153203,
           -0.0025864287454667846,
           0.022605935155848658,
           -0.005047947297256317,
           0.006483973447827224,
           -0.0014410663643068785,
           -0.002662914864367322,
           0.009451327998693897,
           -0.001344370794214153,
           -0.005819198169093103,
           -0.0014045290734486062,
           0.0014045290734486366,
           -0.0045030532475458995,
           0.004503053247545979
          ],
          [
           -0.18861803647448144,
           0.04411727871173243,
           -0.16794779043162528,
           -0.04955928922770348,
           -0.03782536777878519,
           -0.11249656370352386,
           -0.12550392589501372,
           -0.30465569223636085,
           -0.45813436688312115,
           -0.025631032562515456,
           1,
           -0.3292920228166183,
           -0.5084368984186786,
           -0.35616226019068503,
           -0.036251654501327196,
           0.03938633171325519,
           0.0595761741858436,
           0.029138528070665217,
           0.020971389469301514,
           0.03186250783715754,
           0.004676429108363831,
           0.029056691730484537,
           -0.011101909844796361,
           0.008833001520751095,
           -0.05965404921827312,
           -0.07329788628453468,
           0.06104029709130094,
           -0.11340015641748709,
           0.01335283323795789,
           -0.08589371693812882,
           0.019622446963929983,
           -0.009189305922644159,
           -0.0008720431322388205,
           -0.1306486949874473,
           0.010214362543194293,
           0.13682018154625464,
           0.019551156726386187,
           -0.002898144897574462,
           -0.0016273498251219319,
           -0.029063752603846294,
           0.023028440339511243,
           -0.0802126912559568,
           -0.12200868254472456,
           0.08550162499179698,
           0.12005162977845713,
           0.0607648423123815,
           0.03855618712494806,
           -0.06604206447458746,
           -0.15238996628610718,
           0.043503734223703544,
           0.015736042579262793,
           0.020800798433716704,
           -0.1273948203034792,
           0.03041598773573892,
           0.04087594323640179,
           0.11533259998294308,
           0.01320708047955166,
           -0.016683542956370614,
           -0.014115933363843178,
           -0.0019835243375232767,
           0.008545691427535897,
           0.02499587639284419,
           -0.008690929061115567,
           0.07202859349876599,
           -0.07202859349876586,
           0.046847477422441365,
           -0.04684747742244176
          ],
          [
           0.10269604239521107,
           -0.0246381104406836,
           0.07733719226687513,
           0.09686648810186348,
           0.031685146862834176,
           0.12787913764299108,
           0.13944565521017951,
           -0.03286035711654144,
           -0.04941466477330881,
           -0.0027645795064171167,
           -0.3292920228166183,
           1,
           -0.05484032788168681,
           -0.03841588836036091,
           -0.003910126557080319,
           -0.013155643223248605,
           -0.02380675707177929,
           -0.0115710451397259,
           -0.008755182966912958,
           -0.012413568081033687,
           -0.009840963381956667,
           -0.010333360692410656,
           -0.0015147415188329048,
           -0.007872777856781737,
           0.04071875701730727,
           0.03142862436572931,
           -0.029240326012970573,
           0.01503781453281003,
           -0.007393537737294277,
           0.0784285633934847,
           -0.009630192479299818,
           -0.02573778472361883,
           -0.005012458768873767,
           0.10962275677312748,
           -0.014001701374990742,
           -0.08665146238877305,
           -0.014653650485197076,
           -0.004967001617194119,
           -0.05184498626858519,
           -0.003134834877689546,
           -0.01752698941628713,
           0.13308385414942825,
           0.016673379589823734,
           -0.03781515443436418,
           -0.03909064597366589,
           -0.048098005750355326,
           -0.012696244850470202,
           -0.019654891522292182,
           -0.02084722425062854,
           0.0887239750164357,
           -0.029228650188345598,
           -0.021711760542215526,
           0.11478095970370536,
           -0.04511154375970105,
           -0.02532845883313989,
           -0.05482558810370251,
           -0.03686160568637127,
           -0.005347160803088202,
           -0.015042731156172428,
           0.009990912065101852,
           -0.048210488224453715,
           -0.007980968843107115,
           0.04146951124969998,
           -0.08403639660066864,
           0.08403639660066867,
           -0.00788985797193402,
           0.007889857971933917
          ],
          [
           0.13618505985849158,
           -0.03892603973860311,
           0.016358142694502347,
           0.03183943619736599,
           0.02115805636306409,
           0.09387917780428298,
           0.030016998844966548,
           -0.0507373908130434,
           -0.07629774532294613,
           -0.004268594840687485,
           -0.5084368984186786,
           -0.05484032788168681,
           1,
           -0.059315300021153254,
           -0.006037354327935121,
           -0.0040051832809159015,
           -0.019481434593779906,
           -0.014798664238423118,
           0.00006627365247340359,
           -0.007885779956966453,
           0.03587288256569947,
           -0.00562786044784545,
           -0.007909174919349534,
           0.00006487868461093806,
           -0.005834581876839606,
           0.018174165629365614,
           0.01146656829461493,
           -0.00533605368516989,
           -0.011415847135734599,
           0.07474348423652222,
           -0.022942914536516232,
           -0.018249020625939118,
           0.0008815113489578864,
           0.11731267392094215,
           -0.0016593909559914565,
           -0.10340801386286785,
           -0.017719540564437104,
           -0.0023434108253117883,
           -0.08740947833679195,
           -0.004840280394993932,
           0.07267917508302767,
           0.025870493296812118,
           0.23492709893845468,
           -0.05242563970558741,
           -0.05729870821828262,
           -0.031122261857268668,
           -0.019603388196658737,
           -0.02773212985353541,
           -0.03659695791040457,
           0.03632427537939552,
           -0.031927976882296295,
           -0.0014157332791699373,
           0.11937199753728081,
           -0.03452188532645496,
           -0.017808593816377706,
           -0.07594752105324004,
           -0.04242218451782904,
           0.00031780588187555354,
           -0.0003275709494757911,
           -0.0052356204787648054,
           -0.058625750281444115,
           -0.015322908010993182,
           0.055580319953787816,
           -0.10741573519068551,
           0.10741573519068522,
           -0.013369234333518488,
           0.013369234333518408
          ],
          [
           0.012712268047221312,
           -0.01089972908908796,
           0.10258186019235156,
           -0.010394836276989085,
           -0.0020792170345310034,
           -0.023257846444734904,
           0.014791179801452586,
           -0.03554176308673618,
           -0.053446902666172476,
           -0.0029901692639263118,
           -0.35616226019068503,
           -0.03841588836036091,
           -0.059315300021153254,
           1,
           -0.004229192982840437,
           -0.022790700315782265,
           -0.027671179451727312,
           -0.009968338363638165,
           -0.012392795943621632,
           -0.01444587673018951,
           -0.017722605891870104,
           -0.018268273942615203,
           -0.0013807631097929758,
           -0.007111292500520035,
           0.023912209924885828,
           0.10173831655652077,
           -0.05060799635075045,
           0.07035791448985393,
           -0.003987705332423657,
           0.009552818234353772,
           0.01299861743859154,
           0.015019857968047699,
           0.0004872318231901054,
           -0.0028984573373175026,
           0.0004528083689394059,
           -0.004194814390828988,
           0.0018966962150471587,
           -0.012429044784237432,
           0.05039324763221123,
           -0.003390637482840865,
           -0.05081819615674543,
           0.012745305752458202,
           -0.022446291197075346,
           -0.03568038664232046,
           -0.0436666055883738,
           -0.0037958008134894384,
           -0.013732258750756506,
           0.07115509296999135,
           0.10121054777061544,
           -0.06698383746810085,
           0.018896660585142784,
           -0.016507476231944842,
           -0.004500484980286879,
           0.015570540434914603,
           -0.01573628390346899,
           -0.016902888695281094,
           0.011008530368208966,
           0.003994556940476391,
           0.004185571608550607,
           0.014825782075497776,
           0.01837085161140805,
           -0.011769180831998774,
           -0.020841333486619866,
           0.019917265568931527,
           -0.019917265568931457,
           -0.023947903895226514,
           0.023947903895226465
          ],
          [
           0.013996545878598677,
           -0.003049271390142126,
           -0.008151803660705366,
           -0.001658573017361504,
           -0.004496909436253697,
           -0.012982998456952069,
           -0.011688752350760128,
           -0.00361758630770867,
           -0.0054400447947034,
           -0.00030435168228747344,
           -0.036251654501327196,
           -0.003910126557080319,
           -0.006037354327935121,
           -0.004229192982840437,
           1,
           -0.0035648274519769286,
           -0.004015926690815094,
           -0.002409534189974586,
           -0.0014857464608231275,
           -0.002106571034812518,
           0.007680989207447735,
           -0.0026285683242057837,
           0.00450088682489921,
           -0.0043697728497737245,
           -0.009206841342293675,
           -0.0023524962265318956,
           0.01421807151938301,
           -0.004904606911410661,
           -0.0008139522278806603,
           -0.002785285898663151,
           -0.00047394842132708365,
           -0.008248725619520888,
           -0.0005518199983622165,
           0.004634746390984402,
           0.010792914611619756,
           -0.001861959019708905,
           -0.0037419042218695734,
           0.004934430919910931,
           0.006385169646422275,
           -0.00034511297884674304,
           -0.0034030069687764715,
           -0.007839529627115078,
           0.04803953802012975,
           0.0030335305971240486,
           0.0008603621169324678,
           -0.002044871078354331,
           -0.0013977255745421264,
           -0.009844310689039659,
           -0.002959902639549227,
           -0.0073750323522286726,
           -0.00355300924408051,
           0.0021460171296176353,
           -0.005053410403361754,
           -0.01213353286349808,
           -0.0036581562230967686,
           0.011532711540073345,
           0.002493472097707805,
           0.016090319181455367,
           -0.00203819490396721,
           0.004666451412968365,
           -0.0017275549038179509,
           -0.0019014320017992719,
           0.0001696179983425635,
           0.0011633520730274572,
           -0.0011633520730273807,
           -0.0010863347586975544,
           0.0010863347586976596
          ],
          [
           -0.014560997036276514,
           0.011478372163468163,
           -0.27272236026773844,
           -0.015672119136593648,
           -0.01301016375695091,
           -0.047145262290190615,
           -0.07009956594590744,
           -0.023428754481253634,
           -0.02178114962842113,
           0.02259290487309382,
           0.03938633171325519,
           -0.013155643223248605,
           -0.0040051832809159015,
           -0.022790700315782265,
           -0.0035648274519769286,
           1,
           -0.03325728968779123,
           -0.019954193076257995,
           -0.012303984672632943,
           -0.017445249514365855,
           -0.024434799226959306,
           -0.021768091141255667,
           -0.03163760748020187,
           -0.0361876131521902,
           -0.07624506451537084,
           -0.019481841806063323,
           -0.1185509326386815,
           -0.04061676056751489,
           -0.006740622306817146,
           -0.023065924038658224,
           -0.09226169863954026,
           -0.003940461066877847,
           -0.00456981388206675,
           -0.02965750496595222,
           0.004928506353234052,
           0.021624951007981976,
           0.020672868641176925,
           0.011268931825683667,
           -0.04031261246176784,
           -0.0028580009537458053,
           0.029209610424452047,
           -0.05155476570562709,
           0.016660825736345333,
           0.029118514389943142,
           0.03346730887392463,
           0.060849980627644816,
           0.0049009843415816065,
           -0.02874328434454155,
           -0.016609187468381716,
           -0.013808761035905191,
           -0.02610296941772317,
           0.032567472178380526,
           -0.024433492252527764,
           -0.011736952665348079,
           0.01601381090811355,
           0.04053328962377263,
           0.00850775020186705,
           -0.013725533298218738,
           0.01340423060499513,
           -0.017567677497750886,
           0.027184377629982822,
           0.002490475911736248,
           -0.018279065665782034,
           -0.00532361052474269,
           0.005323610524742643,
           -0.004823209354074505,
           0.004823209354074526
          ],
          [
           -0.0884194806204124,
           0.00943870373835397,
           -0.23196434837225935,
           -0.022619560544488927,
           -0.01790567115613695,
           -0.10212656823681895,
           -0.0859352074334475,
           -0.02498799826243609,
           -0.026579105665282148,
           0.008392837739339434,
           0.0595761741858436,
           -0.02380675707177929,
           -0.019481434593779906,
           -0.027671179451727312,
           -0.004015926690815094,
           -0.03325728968779123,
           1,
           -0.022479230102478886,
           -0.01386095150911288,
           -0.0196528006183917,
           -0.027526819662992415,
           -0.02452266186790744,
           -0.0356410833413032,
           -0.04076685435481038,
           -0.08589324273195759,
           -0.021947106711103417,
           -0.13355256629340656,
           -0.04575647350535091,
           -0.007593591947806192,
           -0.02598472471473821,
           -0.10393664857495041,
           -0.014575850845228479,
           -0.005148085787678612,
           -0.06167744325761946,
           0.0057120890192457665,
           0.07046013193605286,
           0.01035941039259273,
           0.002049504222831352,
           -0.035558693514597985,
           -0.0032196571831710607,
           0.013487653935388162,
           -0.05619786780505722,
           0.0011269514415128635,
           0.06036039551412292,
           0.01836328738130945,
           0.065097525908297,
           0.021349303207124876,
           -0.03271695687304167,
           -0.019366341860237953,
           0.006362241596285544,
           -0.027206085127115264,
           0.02617532880483803,
           -0.0554373142554185,
           -0.03343474400803774,
           0.022709292691204808,
           0.11048075630969961,
           0.007276909467188651,
           -0.020478864497308583,
           0.004687991809676327,
           -0.015452510225256087,
           0.022515777540617357,
           0.0003868959925622905,
           -0.01249027151090852,
           0.015179866880396842,
           -0.015179866880396874,
           -0.0006975264054126449,
           0.0006975264054125883
          ],
          [
           -0.0560806265628481,
           0.010250532176318584,
           -0.09401650366761838,
           -0.01248710704557967,
           -0.01585491914255396,
           -0.043830271334231626,
           -0.04473105877317376,
           -0.012324444873358332,
           -0.009679056162115287,
           -0.0017036146386497128,
           0.029138528070665217,
           -0.0115710451397259,
           -0.014798664238423118,
           -0.009968338363638165,
           -0.002409534189974586,
           -0.019954193076257995,
           -0.022479230102478886,
           1,
           -0.008316495578261786,
           -0.01179157356808148,
           -0.016515942203562374,
           -0.014713463852577635,
           -0.021384456313661693,
           -0.0244598910658132,
           -0.051535478853183415,
           -0.013168144755324377,
           -0.08013081398592393,
           -0.02745363544010113,
           -0.004556113901382283,
           -0.015590693615109653,
           -0.062361424302267064,
           -0.01570356417312742,
           -0.0030888234953851154,
           -0.03724978168634173,
           0.00580485626079773,
           0.051447575330206656,
           0.000551826447985766,
           -0.0050126918165630625,
           -0.010179054639901979,
           0.014197097232725055,
           0.0028445127668904877,
           -0.033336645109201486,
           0.004365801088164454,
           0.026427488388012718,
           0.00936234632210258,
           0.03665153098633392,
           0.008173618996161293,
           -0.020476952476568444,
           -0.005058275364515203,
           -0.001337648731152099,
           -0.015051630253374304,
           0.02203292898309239,
           -0.03960302251597707,
           -0.008216229538738077,
           0.015598397643284408,
           0.0640789546147476,
           -0.006839276562493605,
           -0.003590203648584917,
           0.0023740628455849494,
           -0.007346481867661851,
           0.02591050581429279,
           0.03067331869764176,
           -0.026523956288602307,
           0.00044470984352480106,
           -0.00044470984352469297,
           0.014064806557727889,
           -0.014064806557727606
          ],
          [
           0.04102013130504303,
           0.033950748257277494,
           -0.22505183007979285,
           -0.00921855007438441,
           -0.006832210312501981,
           -0.012791175397152653,
           -0.03429116327394157,
           -0.012486081607481493,
           -0.011742813601778004,
           -0.001050468356295457,
           0.020971389469301514,
           -0.008755182966912958,
           0.00006627365247340359,
           -0.012392795943621632,
           -0.0014857464608231275,
           -0.012303984672632943,
           -0.01386095150911288,
           -0.008316495578261786,
           1,
           -0.007270819716609932,
           -0.010183919687963061,
           -0.009072490830954731,
           -0.013185901414822928,
           -0.015082249811751026,
           -0.031777368269570394,
           -0.008119629323888648,
           -0.04940958039849231,
           -0.01692822698327825,
           -0.002809352169498491,
           -0.0096134007796218,
           -0.03845277059544908,
           -0.015904849777185332,
           -0.0019046040498077565,
           0.004002933004468778,
           0.037798932953412676,
           -0.01601005443187797,
           0.009312201587180144,
           0.029929000684252804,
           -0.025916064376511897,
           -0.0011911557738095444,
           0.0027482740006102703,
           -0.021839352820269744,
           0.032465545350269416,
           0.019372248573909043,
           0.02298260896214673,
           0.03320609058253241,
           0.053068452795066605,
           -0.016155714201901945,
           -0.007130704241361883,
           -0.014519411218116413,
           -0.012263194185358515,
           -0.0002949436509273734,
           0.0023912950602369546,
           0.005637829676329652,
           0.027737493104356123,
           -0.020034702560930016,
           0.0019965349479868603,
           -0.008056419654350309,
           0.010699804805325034,
           -0.0007259911455351912,
           0.00010533746916031078,
           0.03615716360819948,
           -0.011989788822533789,
           -0.01000009822815461,
           0.010000098228154715,
           0.1548553936833187,
           -0.15485539368331835
          ],
          [
           0.03246188516065681,
           0.041019509070276725,
           -0.27960801863284485,
           -0.012394941257679891,
           -0.004763211936415806,
           -0.013083022811033636,
           -0.045759326941101894,
           -0.015896154981028334,
           -0.015403036359276548,
           -0.0014894103877812095,
           0.03186250783715754,
           -0.012413568081033687,
           -0.007885779956966453,
           -0.01444587673018951,
           -0.002106571034812518,
           -0.017445249514365855,
           -0.0196528006183917,
           -0.01179157356808148,
           -0.007270819716609932,
           1,
           -0.014439307648516673,
           -0.012863464192607338,
           -0.018695678381741056,
           -0.021384422868245802,
           -0.04505565742499631,
           -0.011512446031769178,
           -0.0700555536588914,
           -0.024001748329219568,
           -0.003983250213212332,
           -0.013630395334864744,
           -0.05452040094363453,
           -0.022550749227496628,
           -0.0027004497940306565,
           0.011811598044612582,
           0.04273065808987585,
           -0.013579190104480839,
           0.013203338962033129,
           0.006876412355873537,
           -0.031010888662624927,
           -0.0016888845554891578,
           0.001130304626145028,
           -0.037439496397665806,
           0.04603139180717292,
           0.03813024043244215,
           0.04531862090575371,
           0.030853203991661346,
           0.05700255037599467,
           -0.02369608865557339,
           -0.012297607447539377,
           -0.024462626668571123,
           -0.01554920637491046,
           0.0165687645770158,
           0.008996799984614978,
           -0.010954664530687601,
           0.05363512560152348,
           -0.030937136369998553,
           0.009788458340583608,
           -0.002855179352746672,
           -0.0036880693945901665,
           0.01289226970232676,
           -0.011272553975843015,
           0.03444039051893608,
           -0.004865577335494302,
           -0.016778722905759505,
           0.01677872290575957,
           0.20866097217613516,
           -0.20866097217613475
          ],
          [
           0.10281264414787422,
           -0.0019650979764870343,
           -0.33633327405497954,
           -0.01624936813136537,
           -0.007619703447450039,
           -0.012375691147119677,
           -0.05949635921463552,
           -0.022190482372759734,
           -0.01212433306114588,
           0.01294754240477586,
           0.004676429108363831,
           -0.009840963381956667,
           0.03587288256569947,
           -0.017722605891870104,
           0.007680989207447735,
           -0.024434799226959306,
           -0.027526819662992415,
           -0.016515942203562374,
           -0.010183919687963061,
           -0.014439307648516673,
           1,
           -0.018017292595941627,
           -0.02618622034001043,
           -0.02995222733499389,
           -0.06310749194569194,
           -0.01612498045188937,
           -0.09812375494995622,
           -0.033618200819514485,
           -0.0055791646402326735,
           -0.019091499557930137,
           -0.07636434490283399,
           -0.009656997956956103,
           -0.0037824021081088663,
           0.02709185972801826,
           0.011186859795950651,
           -0.046244816824619464,
           0.0033839606595696555,
           0.05680365488351184,
           -0.043888033828120676,
           -0.0023655468496972,
           0.022498536469200428,
           -0.041065533479047095,
           0.06455141566348636,
           0.0207146249036673,
           0.048976307971288637,
           0.023955827588599883,
           0.016721039016892165,
           -0.0207939800218425,
           -0.006095751341724653,
           -0.030290692178588464,
           -0.0177274379212552,
           0.02892481417858424,
           0.031700359370462346,
           -0.013345788551702679,
           0.017475062646980056,
           -0.03125410557222155,
           0.0033735611498960346,
           -0.011410178901159071,
           0.006424003170969812,
           -0.012015278321602155,
           -0.004408742076797779,
           0.02820963239926086,
           0.0006270252569966716,
           -0.024997456646582608,
           0.024997456646582632,
           0.05694465702898359,
           -0.05694465702898373
          ],
          [
           0.02299008597080397,
           0.015248259997978858,
           -0.2503612125522653,
           -0.012627565725891599,
           -0.018345663749860474,
           -0.024581636222207544,
           -0.055813561866759856,
           -0.017720419217753376,
           -0.01011109714664294,
           -0.0018584784953207768,
           0.029056691730484537,
           -0.010333360692410656,
           -0.00562786044784545,
           -0.018268273942615203,
           -0.0026285683242057837,
           -0.021768091141255667,
           -0.02452266186790744,
           -0.014713463852577635,
           -0.009072490830954731,
           -0.012863464192607338,
           -0.018017292595941627,
           1,
           -0.023328369744795432,
           -0.02668337105845292,
           -0.056220213786501175,
           -0.014365169972029829,
           -0.08741495360912392,
           -0.02994925608542809,
           -0.004970278791841288,
           -0.017007936039914438,
           -0.0680302712679185,
           -0.004419964259015677,
           -0.003369607135193876,
           -0.0032081468695446553,
           0.005245743900925251,
           -0.007094185516390353,
           0.023717691183676712,
           0.010479445672281623,
           -0.03506656894763503,
           -0.0021073813189471644,
           0.023280943014668612,
           -0.03817991745991201,
           0.017675469650923398,
           0.03360754977707973,
           0.045569114610994325,
           0.040064448740454776,
           0.02821867305641734,
           -0.025745421058484447,
           -0.011022586645602819,
           -0.020041608013253664,
           -0.018732848799760362,
           0.011148485980776742,
           -0.0031731455097141633,
           -0.011307883033820016,
           0.02090450290470153,
           0.0000013374190816918169,
           0.012479409890522288,
           -0.004339172138365549,
           0.00022041640070885206,
           -0.01037563436294036,
           0.033207898470335694,
           0.01008608842548562,
           -0.025209975419176744,
           -0.013627202960742593,
           0.013627202960742579,
           0.0586347434474307,
           -0.05863474344743057
          ],
          [
           -0.016257541712993505,
           0.006355417016000166,
           0.13734792823959943,
           -0.010917780303391664,
           0.0027639596143305663,
           0.0009528005291502818,
           0.0032009783480908675,
           0.023984564843122592,
           0.013620458617420636,
           -0.0027011010181742334,
           -0.011101909844796361,
           -0.0015147415188329048,
           -0.007909174919349534,
           -0.0013807631097929758,
           0.00450088682489921,
           -0.03163760748020187,
           -0.0356410833413032,
           -0.021384456313661693,
           -0.013185901414822928,
           -0.018695678381741056,
           -0.02618622034001043,
           -0.023328369744795432,
           1,
           -0.03878144456111495,
           -0.08171010699506691,
           -0.020878248166653297,
           -0.12704834669421414,
           -0.04352806142744575,
           -0.007223772101239778,
           -0.024719227836168714,
           -0.09887477065303646,
           0.028835428061220077,
           0.008088705970457981,
           -0.010705199063150695,
           -0.002616845849290042,
           -0.0047083444177451255,
           -0.003569830127378688,
           -0.009595068709177479,
           0.037445823377305384,
           -0.003062854824858791,
           -0.010019791425650076,
           0.0061037428858991966,
           -0.01860059065234972,
           -0.017960430689781173,
           -0.023413233494747502,
           -0.017126069882897246,
           -0.007258212360603881,
           -0.004933544356890899,
           0.01569631396566737,
           0.013290041721320745,
           0.04418851030805076,
           -0.020266272770992574,
           -0.01843547510023106,
           0.023395019411673268,
           -0.017328096066752025,
           -0.016692935455138305,
           0.011793287987566632,
           0.019805704978141343,
           -0.003899788276382913,
           -0.004948740730842541,
           0.002706351355582426,
           -0.0016843160359414984,
           0.001714955616834088,
           0.02497020358823051,
           -0.02497020358823057,
           -0.011618407136197488,
           0.01161840713619762
          ],
          [
           -0.0004942420655933713,
           -0.015652928284829823,
           0.07520006786006081,
           -0.010359725149936714,
           -0.007635491363738486,
           0.019964848911683514,
           0.009992787126060847,
           -0.0024998625366286736,
           -0.0018011957577054245,
           -0.0030895635452789488,
           0.008833001520751095,
           -0.007872777856781737,
           0.00006487868461093806,
           -0.007111292500520035,
           -0.0043697728497737245,
           -0.0361876131521902,
           -0.04076685435481038,
           -0.0244598910658132,
           -0.015082249811751026,
           -0.021384422868245802,
           -0.02995222733499389,
           -0.02668337105845292,
           -0.03878144456111495,
           1,
           -0.09346135748134232,
           -0.023880881903698366,
           -0.14531997796206791,
           -0.049788108951882654,
           -0.008262668738868268,
           -0.02827425730330301,
           -0.11309458065508646,
           0.020140186654956215,
           0.00013234968713034836,
           0.016252911250743192,
           -0.006434121072968631,
           -0.029568332833429963,
           -0.0013406562694955211,
           -0.0010431575601974215,
           0.003312490044909037,
           -0.0035033434690871813,
           0.03589188277566168,
           -0.010444202683618503,
           0.00874458032605453,
           -0.022885498876495314,
           -0.013926914619656975,
           -0.012526773090816436,
           -0.005098900220266113,
           -0.009033387183603447,
           0.022272809904839014,
           -0.023678165221306474,
           0.07935155120157279,
           -0.019633305884779486,
           0.011139594815255964,
           -0.000419797880411082,
           -0.01574578006410607,
           -0.02988686575178345,
           0.018660646781039895,
           0.011669633908897118,
           0.009069469996536912,
           -0.005280091379519499,
           -0.010662378557762881,
           -0.009240706574849147,
           0.01140901637628468,
           0.013891854415799173,
           -0.013891854415799095,
           -0.022823767983315604,
           0.022823767983315636
          ],
          [
           0.010446366890502313,
           -0.007487073489501314,
           0.5035614910988789,
           0.040755080382652895,
           0.03415577025549819,
           0.07812578811531849,
           0.18053527647802237,
           0.02648381823141039,
           0.044825264547092736,
           -0.006509519454721848,
           -0.05965404921827312,
           0.04071875701730727,
           -0.005834581876839606,
           0.023912209924885828,
           -0.009206841342293675,
           -0.07624506451537084,
           -0.08589324273195759,
           -0.051535478853183415,
           -0.031777368269570394,
           -0.04505565742499631,
           -0.06310749194569194,
           -0.056220213786501175,
           -0.08171010699506691,
           -0.09346135748134232,
           1,
           -0.050315542331402896,
           -0.30618021278421026,
           -0.10490046865400571,
           -0.017408932399456022,
           -0.05957211278755138,
           -0.23828329218955463,
           -0.04458345763808251,
           0.0006738125911847973,
           0.050751283225501514,
           -0.0005664677425605444,
           0.006721351299338596,
           -0.0363697565331725,
           -0.03921451425642796,
           -0.029510532450151023,
           -0.0023962466067902113,
           -0.11211611575347634,
           0.17555787288882688,
           -0.041565180902049116,
           -0.07235533364586885,
           -0.08975021337926115,
           -0.09909549765527706,
           -0.021241975543606198,
           0.14626565804651265,
           -0.004016191264204417,
           0.05476861966803483,
           0.03861121687437342,
           -0.07702673543360201,
           0.044487623862262876,
           0.056840457276952354,
           -0.036065136833544696,
           -0.07091985928114271,
           -0.06055980433076408,
           0.01820452130246999,
           -0.02570125085057555,
           0.05576925899723535,
           -0.05168580260684309,
           -0.01056725087157362,
           0.025175225376441065,
           -0.026881988638680413,
           0.026881988638680555,
           -0.005610361178811471,
           0.005610361178811341
          ],
          [
           0.07579683631813554,
           -0.003310755387508177,
           0.26094349163202823,
           0.05665902405755858,
           0.049359624515870004,
           0.059996290879760016,
           0.1325688910257611,
           0.006188749290904206,
           0.0004846025419387939,
           -0.0016632870475808534,
           -0.07329788628453468,
           0.03142862436572931,
           0.018174165629365614,
           0.10173831655652077,
           -0.0023524962265318956,
           -0.019481841806063323,
           -0.021947106711103417,
           -0.013168144755324377,
           -0.008119629323888648,
           -0.011512446031769178,
           -0.01612498045188937,
           -0.014365169972029829,
           -0.020878248166653297,
           -0.023880881903698366,
           -0.050315542331402896,
           1,
           -0.07823397497953867,
           -0.026803759019539613,
           -0.00444826257508488,
           -0.015221634144542542,
           -0.06088521838064686,
           -0.0186894488242567,
           -0.003015705544893395,
           0.05287112544898121,
           0.004130376294000946,
           -0.0364937442248389,
           -0.009447210710992903,
           -0.008945053181065865,
           -0.03674506303788644,
           -0.0018860482168311019,
           -0.041362023226527274,
           0.002824745272880622,
           -0.018510303481316197,
           -0.02376333955386562,
           -0.02787460122973256,
           -0.03712513473610347,
           -0.0076385937042810085,
           0.1843859964641466,
           -0.016175917561751418,
           -0.033345143948981124,
           -0.014466666784767884,
           -0.02448960143110863,
           0.05458675659038851,
           -0.005829071741944967,
           -0.01517536419343414,
           -0.04337904506937063,
           -0.019387881755916887,
           0.0001243399074826055,
           -0.0026737972173198673,
           0.023158913755117853,
           -0.026685930958777197,
           -0.004349639667082565,
           0.012598146571952183,
           -0.029529266226209116,
           0.02952926622620917,
           0.02586871869068273,
           -0.025868718690682732
          ],
          [
           0.01986434909964182,
           -0.0015589071919182506,
           -0.290258990052551,
           -0.046814408804609645,
           -0.028849981127473796,
           0.007525606457437325,
           -0.13134326942114263,
           -0.01811595474083517,
           -0.04610822797574732,
           -0.005638314623397292,
           0.06104029709130094,
           -0.029240326012970573,
           0.01146656829461493,
           -0.05060799635075045,
           0.01421807151938301,
           -0.1185509326386815,
           -0.13355256629340656,
           -0.08013081398592393,
           -0.04940958039849231,
           -0.0700555536588914,
           -0.09812375494995622,
           -0.08741495360912392,
           -0.12704834669421414,
           -0.14531997796206791,
           -0.30618021278421026,
           -0.07823397497953867,
           1,
           -0.16310627412034043,
           -0.027068574016134602,
           -0.09262671066134484,
           -0.37049882114785077,
           0.03440920954661821,
           0.01380881086139532,
           0.0018203529869488388,
           -0.008066203222629688,
           -0.0496352016289697,
           0.028386425616630885,
           0.03582853544020355,
           0.030764443980045277,
           0.004338471311913536,
           0.11886628594989387,
           -0.1002348148227378,
           0.03176264815646192,
           0.05549969432792834,
           0.10291371233485358,
           0.04744310300395178,
           0.0025380904268783645,
           -0.1973362838379853,
           0.0026716233843269775,
           -0.022545936994039555,
           -0.05532073679313554,
           0.09432329253124881,
           0.0030616578668060464,
           -0.024348719463264144,
           0.028684783802628275,
           -0.023445537430673558,
           0.04293111824939737,
           -0.002369836306692679,
           0.012632997417689229,
           -0.04069845598862591,
           0.03707482325160423,
           -0.006803639667479678,
           -0.012407649049103013,
           -0.011601247844271965,
           0.011601247844271969,
           -0.05571355994089328,
           0.05571355994089317
          ],
          [
           0.0948793665629858,
           -0.022358488928509716,
           0.3601788086617362,
           0.047535929490291,
           0.04659204885404428,
           0.06495231408069688,
           0.17466988542370915,
           0.013136379716807312,
           0.12938599105024234,
           -0.0034677076448497786,
           -0.11340015641748709,
           0.01503781453281003,
           -0.00533605368516989,
           0.07035791448985393,
           -0.004904606911410661,
           -0.04061676056751489,
           -0.04575647350535091,
           -0.02745363544010113,
           -0.01692822698327825,
           -0.024001748329219568,
           -0.033618200819514485,
           -0.02994925608542809,
           -0.04352806142744575,
           -0.049788108951882654,
           -0.10490046865400571,
           -0.026803759019539613,
           -0.16310627412034043,
           1,
           -0.00927396997430837,
           -0.0317348572917156,
           -0.12693668091986804,
           -0.0008145706518174155,
           -0.00628730031166457,
           0.058040429118028654,
           -0.0062442863404576915,
           -0.047241711826981767,
           -0.022986257452467313,
           -0.00922093930929298,
           -0.05637936439504916,
           0.004323112208023812,
           -0.08057911294688538,
           0.11868551495978633,
           -0.033935759136378876,
           -0.04612409335587531,
           -0.055925109243076684,
           -0.0706483209013116,
           -0.01387834888724476,
           0.20366069960367675,
           -0.018996690769009603,
           -0.02574023883333464,
           -0.009951920369877836,
           -0.047352323286631026,
           0.05259249944275598,
           0.024304220090866826,
           -0.03284938632551326,
           -0.08028496109661783,
           -0.018437639698206387,
           0.018597723933423866,
           -0.016168184092065132,
           0.025828244811562914,
           -0.03692902725936876,
           -0.011090898572216666,
           0.025276139818673046,
           -0.009795608542015595,
           0.009795608542015617,
           -0.0006332394677695945,
           0.0006332394677695944
          ],
          [
           0.013274151557913129,
           0.01708134725125951,
           -0.13854807928213433,
           -0.0008607002711343221,
           -0.0019025210520759814,
           -0.01290151159585763,
           -0.022101901395171823,
           -0.006840382400291103,
           0.0025062872201653224,
           -0.0005754892112959275,
           0.01335283323795789,
           -0.007393537737294277,
           -0.011415847135734599,
           -0.003987705332423657,
           -0.0008139522278806603,
           -0.006740622306817146,
           -0.007593591947806192,
           -0.004556113901382283,
           -0.002809352169498491,
           -0.003983250213212332,
           -0.0055791646402326735,
           -0.004970278791841288,
           -0.007223772101239778,
           -0.008262668738868268,
           -0.017408932399456022,
           -0.00444826257508488,
           -0.027068574016134602,
           -0.00927396997430837,
           1,
           -0.005266611220966811,
           -0.021065988793949025,
           -0.013311793331636198,
           -0.001043419419429512,
           -0.004730005935244965,
           0.02339400293875855,
           0.007701840235451307,
           -0.002583471617155465,
           0.006723809756559465,
           -0.009293878896044024,
           -0.00065256349007759,
           -0.0054207312031454005,
           -0.014823524838539241,
           0.029552578689744226,
           -0.00040551454854547146,
           0.02589376134791988,
           0.025872834591963132,
           0.020756420971197682,
           -0.006458686993261828,
           -0.005596788631968142,
           -0.013945221264317508,
           -0.006718275621922446,
           -0.008912971161530432,
           -0.010011959211649922,
           0.013067394773444487,
           0.016024955511954066,
           -0.0038567681496708014,
           -0.008399942929470596,
           0.0021630847993850044,
           -0.0038539598957878017,
           0.019666450963619162,
           0.0005391568126153813,
           0.013671386301888164,
           -0.012703724880174535,
           -0.0008973691927741014,
           0.0008973691927741829,
           0.0774564226315473,
           -0.07745642263154721
          ],
          [
           0.060646718186507215,
           -0.005236229953481296,
           0.2567459756330653,
           0.16964573110119868,
           0.04790239558796098,
           0.07594823753745829,
           0.15490301391685404,
           0.01653500085134608,
           -0.007649553935536232,
           -0.001969282631277902,
           -0.08589371693812882,
           0.0784285633934847,
           0.07474348423652222,
           0.009552818234353772,
           -0.002785285898663151,
           -0.023065924038658224,
           -0.02598472471473821,
           -0.015590693615109653,
           -0.0096134007796218,
           -0.013630395334864744,
           -0.019091499557930137,
           -0.017007936039914438,
           -0.024719227836168714,
           -0.02827425730330301,
           -0.05957211278755138,
           -0.015221634144542542,
           -0.09262671066134484,
           -0.0317348572917156,
           -0.005266611220966811,
           1,
           -0.07208629636896145,
           -0.01603426583096004,
           -0.003570506100702559,
           0.06873469913560752,
           -0.00910588201551998,
           -0.047582155282014586,
           -0.013537218818924786,
           -0.01704391181858054,
           -0.0420289741871191,
           -0.0022330252619715257,
           -0.04601241778954598,
           -0.014071136308048715,
           -0.018383842461474894,
           -0.028135090640337073,
           -0.03338567339051572,
           -0.04194123841677785,
           -0.009043868844591513,
           0.21914394649715094,
           -0.017484867093552008,
           -0.034426299926447745,
           -0.013183226740173058,
           -0.02726312646053318,
           0.07194539476857209,
           -0.012725003396588568,
           -0.018217991612803446,
           -0.04863527271221608,
           -0.028016813014207338,
           -0.0019133020652629905,
           -0.00839723225342523,
           0.0300044345020408,
           -0.0318655143608226,
           -0.0020451504299419734,
           0.014496804476118962,
           -0.04880337628407561,
           0.04880337628407571,
           0.006144818227698527,
           -0.006144818227698445
          ],
          [
           -0.11141674571409399,
           -0.005021000260854981,
           -0.017083618985499763,
           -0.03480648459033886,
           -0.02083783287044688,
           -0.06834522615074917,
           -0.06352749122985576,
           0.01705845026412036,
           -0.02447452010298263,
           0.002178858551114543,
           0.019622446963929983,
           -0.009630192479299818,
           -0.022942914536516232,
           0.01299861743859154,
           -0.00047394842132708365,
           -0.09226169863954026,
           -0.10393664857495041,
           -0.062361424302267064,
           -0.03845277059544908,
           -0.05452040094363453,
           -0.07636434490283399,
           -0.0680302712679185,
           -0.09887477065303646,
           -0.11309458065508646,
           -0.23828329218955463,
           -0.06088521838064686,
           -0.37049882114785077,
           -0.12693668091986804,
           -0.021065988793949025,
           -0.07208629636896145,
           1,
           0.01591047464677596,
           -0.0059583180046298015,
           -0.07906324258152085,
           -0.011492555525689625,
           0.08477111970839173,
           -0.003969124609811219,
           -0.02153753206121179,
           0.10040247476915891,
           -0.0000632366742597174,
           -0.010953518413117131,
           -0.007086254168014842,
           -0.020594249740177012,
           -0.01446851814167055,
           -0.04224850038783303,
           0.010381964677569818,
           -0.018581918129876304,
           -0.07504428177483957,
           0.02992980934189365,
           0.04488697883424476,
           0.02860195819710411,
           -0.02540106071261306,
           -0.07199597765816257,
           -0.010289178573459849,
           -0.009726006889429047,
           0.11953412388020335,
           0.004070823953482232,
           -0.01443630636940944,
           0.0071210305977592635,
           -0.010620563972124552,
           0.011585834005133414,
           -0.007831082875821278,
           -0.004327742609626583,
           0.061656411574158104,
           -0.06165641157415807,
           -0.04734126072560095,
           0.04734126072560087
          ],
          [
           0.1299391811300527,
           -0.015103831570982496,
           -0.007914215572507781,
           -0.018819027087526537,
           -0.0224269495808222,
           0.025983252476899026,
           -0.12705956155897719,
           0.019558248286665546,
           0.03040561836001207,
           0.0002720284436997386,
           -0.009189305922644159,
           -0.02573778472361883,
           -0.018249020625939118,
           0.015019857968047699,
           -0.008248725619520888,
           -0.003940461066877847,
           -0.014575850845228479,
           -0.01570356417312742,
           -0.015904849777185332,
           -0.022550749227496628,
           -0.009656997956956103,
           -0.004419964259015677,
           0.028835428061220077,
           0.020140186654956215,
           -0.04458345763808251,
           -0.0186894488242567,
           0.03440920954661821,
           -0.0008145706518174155,
           -0.013311793331636198,
           -0.01603426583096004,
           0.01591047464677596,
           1,
           -0.010574183842906969,
           -0.3670119785456631,
           -0.04535501058782544,
           -0.27766100770811747,
           -0.07170378616583943,
           -0.07053982561452352,
           0.08496613030524656,
           -0.006613185632506392,
           -0.02558764925996712,
           0.013311654385489908,
           -0.03717790530900351,
           -0.026245108071536405,
           0.0014977783886523245,
           0.01508542118483829,
           0.010593625127472658,
           -0.02128433630080234,
           -0.006135613404269625,
           -0.01820930304088371,
           0.007249850462987311,
           -0.015322134160239918,
           -0.3282091299715032,
           0.26115260674119034,
           -0.012510963963778097,
           -0.08969080963365858,
           0.3287236381210844,
           -0.08945972887348733,
           0.0161488855231055,
           -0.033966168339890045,
           0.017895797941297684,
           -0.01082469638290668,
           0.0003144081359235474,
           0.22854069575040367,
           -0.22854069575040367,
           -0.048009891028578645,
           0.04800989102857848
          ],
          [
           -0.011910599530045304,
           -0.00040700451802964016,
           0.0009525305809171941,
           -0.0023248951785861797,
           -0.005764665876546902,
           0.00148659685990283,
           0.012056638736012256,
           0.015863721096394043,
           -0.006973687382292213,
           -0.0003901536782590568,
           -0.0008720431322388205,
           -0.005012458768873767,
           0.0008815113489578864,
           0.0004872318231901054,
           -0.0005518199983622165,
           -0.00456981388206675,
           -0.005148085787678612,
           -0.0030888234953851154,
           -0.0019046040498077565,
           -0.0027004497940306565,
           -0.0037824021081088663,
           -0.003369607135193876,
           0.008088705970457981,
           0.00013234968713034836,
           0.0006738125911847973,
           -0.003015705544893395,
           0.01380881086139532,
           -0.00628730031166457,
           -0.001043419419429512,
           -0.003570506100702559,
           -0.0059583180046298015,
           -0.010574183842906969,
           1,
           -0.024552222821026287,
           -0.0030341416386870075,
           -0.0185748567580122,
           -0.004796811651846037,
           -0.004718945477221286,
           0.008443385712223795,
           -0.0004424062883438113,
           0.00036960041981712484,
           -0.00655227819666531,
           0.002009512548340905,
           -0.005574115633344302,
           -0.006806604720782349,
           0.0064186170393968674,
           -0.0017917685553953328,
           0.002309604550693363,
           0.004476352185905123,
           -0.002125754940122329,
           -0.0045546639172412435,
           -0.0006899485315781182,
           -0.0007577939043080904,
           -0.015554185347001112,
           0.0020729783567133833,
           -0.008228943576035427,
           -0.009152432634407043,
           0.058807601238343804,
           -0.002612797250913675,
           -0.00482813061866343,
           -0.0047385977895372435,
           -0.00243747852446813,
           0.007708374494640795,
           0.015711655086556402,
           -0.015711655086556392,
           -0.008164485298749524,
           0.008164485298749476
          ],
          [
           0.31555380862326615,
           -0.026139692917787435,
           0.08599572663550321,
           0.08585764165421667,
           0.08042811348834043,
           0.21273579970054657,
           0.44460903688364845,
           0.010681772564952386,
           0.015088234497016982,
           -0.009336952116340306,
           -0.1306486949874473,
           0.10962275677312748,
           0.11731267392094215,
           -0.0028984573373175026,
           0.004634746390984402,
           -0.02965750496595222,
           -0.06167744325761946,
           -0.03724978168634173,
           0.004002933004468778,
           0.011811598044612582,
           0.02709185972801826,
           -0.0032081468695446553,
           -0.010705199063150695,
           0.016252911250743192,
           0.050751283225501514,
           0.05287112544898121,
           0.0018203529869488388,
           0.058040429118028654,
           -0.004730005935244965,
           0.06873469913560752,
           -0.07906324258152085,
           -0.3670119785456631,
           -0.024552222821026287,
           1,
           -0.10530990784213204,
           -0.6447017596098695,
           -0.16648919303931128,
           -0.16378659024411082,
           -0.1440734155078823,
           -0.004230450633171029,
           0.12576221541544358,
           0.1070001430771617,
           0.042534530289311444,
           -0.05002538071395953,
           0.017924609882758704,
           -0.1618026859623566,
           -0.04747718079050917,
           0.0017693490676830676,
           0.03722435165880575,
           -0.0031916891255363163,
           -0.008341474370506259,
           0.07399403472557259,
           0.8931431799770547,
           -0.5374537662678818,
           -0.11804686897642129,
           -0.3801690426953869,
           -0.3176654065753552,
           0.24029640898566945,
           -0.01716797646289347,
           0.010675798233842808,
           -0.1254983371957065,
           -0.0133564810447062,
           0.1076121115651765,
           -0.43179985303593416,
           0.4317998530359354,
           0.007654565978814513,
           -0.007654565978814448
          ],
          [
           0.016674691074486995,
           0.003632336869943039,
           -0.03430029423209146,
           -0.006554305670887389,
           -0.00837373821815792,
           -0.007118913036760005,
           -0.042571427296657936,
           -0.002149954473437613,
           -0.005438214815798517,
           -0.0016734553201653113,
           0.010214362543194293,
           -0.014001701374990742,
           -0.0016593909559914565,
           0.0004528083689394059,
           0.010792914611619756,
           0.004928506353234052,
           0.0057120890192457665,
           0.00580485626079773,
           0.037798932953412676,
           0.04273065808987585,
           0.011186859795950651,
           0.005245743900925251,
           -0.002616845849290042,
           -0.006434121072968631,
           -0.0005664677425605444,
           0.004130376294000946,
           -0.008066203222629688,
           -0.0062442863404576915,
           0.02339400293875855,
           -0.00910588201551998,
           -0.011492555525689625,
           -0.04535501058782544,
           -0.0030341416386870075,
           -0.10530990784213204,
           1,
           -0.07967166425729456,
           -0.020574584903138505,
           -0.020240599677705733,
           0.00903446926652633,
           -0.0018975783086478148,
           -0.0004898397311188505,
           -0.01751740365719199,
           0.01786759246004929,
           0.007357939469755419,
           0.00034789581659135435,
           0.015134514568260843,
           0.00859282743385818,
           -0.0005719884938981068,
           -0.00651497405206264,
           -0.01114820930780775,
           -0.009693412845503912,
           -0.001915771857580594,
           -0.09417587231678015,
           0.06542946127306616,
           0.030957896635966736,
           -0.015099736822300836,
           0.07605408027794992,
           -0.025669450464753916,
           0.01403767598917014,
           0.04296259200623181,
           0.02028577950400065,
           0.03458968218703387,
           -0.051110941744879304,
           0.03871496839138015,
           -0.03871496839138025,
           0.10506932489738657,
           -0.10506932489738648
          ],
          [
           -0.5343740328899831,
           0.036978607839970624,
           -0.03179184629760825,
           -0.06629442953617326,
           -0.06054299069799473,
           -0.1977724421864673,
           -0.31828469038293455,
           -0.026978699472349457,
           -0.041677740685166664,
           0.012076053736426935,
           0.13682018154625464,
           -0.08665146238877305,
           -0.10340801386286785,
           -0.004194814390828988,
           -0.001861959019708905,
           0.021624951007981976,
           0.07046013193605286,
           0.051447575330206656,
           -0.01601005443187797,
           -0.013579190104480839,
           -0.046244816824619464,
           -0.007094185516390353,
           -0.0047083444177451255,
           -0.029568332833429963,
           0.006721351299338596,
           -0.0364937442248389,
           -0.0496352016289697,
           -0.047241711826981767,
           0.007701840235451307,
           -0.047582155282014586,
           0.08477111970839173,
           -0.27766100770811747,
           -0.0185748567580122,
           -0.6447017596098695,
           -0.07967166425729456,
           1,
           -0.125956534974661,
           -0.12391189485549128,
           0.07257115596087496,
           0.012006028533412297,
           -0.09301703743766199,
           -0.105873017982785,
           -0.014554418704424477,
           0.08028525174111939,
           -0.02335635288187809,
           0.12139537288611645,
           0.01640828916442669,
           0.007071743052092099,
           -0.02658345755992597,
           0.025388153996423173,
           0.010267374216893804,
           -0.05562969254574622,
           -0.5765397752169729,
           0.296807926009363,
           0.11079885852145001,
           0.5094546193346958,
           -0.05286040487571732,
           -0.15714703603818098,
           0.0007005474365476465,
           0.011437237862901057,
           0.07124062205203556,
           0.011637930052696895,
           -0.06835260815939002,
           0.17140894193054623,
           -0.171408941930546,
           -0.0036439280974607468,
           0.0036439280974606665
          ],
          [
           0.010164346815573757,
           0.02847156867131404,
           -0.055275645659124746,
           -0.013252751342866836,
           -0.01309062052269488,
           -0.01663587780396193,
           -0.07445128748941816,
           -0.0044114127249853,
           -0.0021049447341389207,
           -0.002645641151441563,
           0.019551156726386187,
           -0.014653650485197076,
           -0.017719540564437104,
           0.0018966962150471587,
           -0.0037419042218695734,
           0.020672868641176925,
           0.01035941039259273,
           0.000551826447985766,
           0.009312201587180144,
           0.013203338962033129,
           0.0033839606595696555,
           0.023717691183676712,
           -0.003569830127378688,
           -0.0013406562694955211,
           -0.0363697565331725,
           -0.009447210710992903,
           0.028386425616630885,
           -0.022986257452467313,
           -0.002583471617155465,
           -0.013537218818924786,
           -0.003969124609811219,
           -0.07170378616583943,
           -0.004796811651846037,
           -0.16648919303931128,
           -0.020574584903138505,
           -0.125956534974661,
           1,
           -0.031999278852514745,
           0.01556032961049313,
           -0.0029999673137049336,
           -0.013778921199164561,
           -0.018124172875675665,
           -0.013560985603069436,
           -0.00449354820734187,
           0.015380174839744453,
           0.050375197630453235,
           0.01933432319331782,
           -0.010610294102971547,
           -0.005594116272216388,
           -0.012257336807617801,
           -0.0012722067446290196,
           -0.01084005612494125,
           -0.1488868930480752,
           0.06411120210518535,
           0.02479397780733772,
           -0.02937935686982704,
           0.19584984301503042,
           -0.04058199443157844,
           0.0021749472704846915,
           -0.013716441398141387,
           0.09955868360000014,
           0.00864027241342705,
           -0.07909642765554491,
           0.10919150015871185,
           -0.10919150015871162,
           0.021155453012748626,
           -0.02115545301274864
          ],
          [
           0.26527479541042354,
           -0.02625846289608344,
           -0.06817744747447049,
           -0.012184991608672174,
           -0.0033898998036150122,
           -0.10720908290334592,
           -0.06444335453981605,
           0.007076296440069293,
           0.01611251280369687,
           -0.0026026947172589168,
           -0.002898144897574462,
           -0.004967001617194119,
           -0.0023434108253117883,
           -0.012429044784237432,
           0.004934430919910931,
           0.011268931825683667,
           0.002049504222831352,
           -0.0050126918165630625,
           0.029929000684252804,
           0.006876412355873537,
           0.05680365488351184,
           0.010479445672281623,
           -0.009595068709177479,
           -0.0010431575601974215,
           -0.03921451425642796,
           -0.008945053181065865,
           0.03582853544020355,
           -0.00922093930929298,
           0.006723809756559465,
           -0.01704391181858054,
           -0.02153753206121179,
           -0.07053982561452352,
           -0.004718945477221286,
           -0.16378659024411082,
           -0.020240599677705733,
           -0.12391189485549128,
           -0.031999278852514745,
           1,
           0.02680429165650664,
           -0.002951269137567964,
           -0.045225018560300555,
           -0.016784512974172047,
           -0.007560548845748563,
           -0.02116469553794602,
           -0.005979643192018212,
           0.04536892988781411,
           0.04666143278213328,
           0.028846639253837472,
           -0.013810503577442882,
           -0.003620498497337564,
           -0.009978482932411515,
           -0.019633349469575012,
           -0.14647002666789216,
           0.12051912399425195,
           0.018871441865513823,
           -0.06878131825489107,
           0.16135847493980893,
           -0.0399232308831256,
           0.004606653098380219,
           -0.007807146601840402,
           0.019849451042700483,
           -0.002498171649889083,
           -0.013306984811845028,
           0.1885753458131862,
           -0.18857534581318616,
           -0.0054229641381425015,
           0.005422964138142443
          ],
          [
           -0.04295582614103015,
           0.007859536944392466,
           0.004471534998828849,
           -0.028521124351124316,
           -0.02382927852507753,
           -0.08428040163961031,
           -0.09001915593577119,
           0.11682562452959828,
           0.015901178476528145,
           -0.005308845081745645,
           -0.0016273498251219319,
           -0.05184498626858519,
           -0.08740947833679195,
           0.05039324763221123,
           0.006385169646422275,
           -0.04031261246176784,
           -0.035558693514597985,
           -0.010179054639901979,
           -0.025916064376511897,
           -0.031010888662624927,
           -0.043888033828120676,
           -0.03506656894763503,
           0.037445823377305384,
           0.003312490044909037,
           -0.029510532450151023,
           -0.03674506303788644,
           0.030764443980045277,
           -0.05637936439504916,
           -0.009293878896044024,
           -0.0420289741871191,
           0.10040247476915891,
           0.08496613030524656,
           0.008443385712223795,
           -0.1440734155078823,
           0.00903446926652633,
           0.07257115596087496,
           0.01556032961049313,
           0.02680429165650664,
           1,
           -0.006019849558993254,
           -0.13730276478543593,
           -0.13674591180606,
           -0.064177623948421,
           -0.07584733404848917,
           -0.09261788881897624,
           -0.12140142018609566,
           -0.024380704868354492,
           -0.17171556270656826,
           -0.051629957989107265,
           -0.12864362679573613,
           -0.06197559188457843,
           -0.08222149466204183,
           -0.17981617434841543,
           0.04468277964517572,
           0.010892937179346765,
           0.048897454317152186,
           0.10646123043763465,
           0.07687275332465596,
           -0.004951326773250291,
           0.010270756937726036,
           0.04188888163009068,
           -0.00568950878592931,
           -0.037249849290181665,
           0.26307663293882666,
           -0.26307663293882666,
           -0.01797088443568916,
           0.017970884435688984
          ],
          [
           -0.010200656904606534,
           0.004041269124895462,
           0.00018949899335434504,
           -0.0024281323678036473,
           0.005046675624749403,
           0.00030492822684030413,
           -0.005049314357903952,
           0.09539868561293079,
           -0.004361404141190658,
           -0.0002440054701018903,
           -0.029063752603846294,
           -0.003134834877689546,
           -0.004840280394993932,
           -0.003390637482840865,
           -0.00034511297884674304,
           -0.0028580009537458053,
           -0.0032196571831710607,
           0.014197097232725055,
           -0.0011911557738095444,
           -0.0016888845554891578,
           -0.0023655468496972,
           -0.0021073813189471644,
           -0.003062854824858791,
           -0.0035033434690871813,
           -0.0023962466067902113,
           -0.0018860482168311019,
           0.004338471311913536,
           0.004323112208023812,
           -0.00065256349007759,
           -0.0022330252619715257,
           -0.0000632366742597174,
           -0.006613185632506392,
           -0.0004424062883438113,
           -0.004230450633171029,
           -0.0018975783086478148,
           0.012006028533412297,
           -0.0029999673137049336,
           -0.002951269137567964,
           -0.006019849558993254,
           1,
           -0.006310718273350584,
           -0.006285124161840801,
           -0.0029497359708992926,
           -0.0034860999173083997,
           -0.00425690920588846,
           -0.0055798596770890545,
           -0.0011205874839470909,
           -0.007892401446427024,
           -0.002373019362307461,
           -0.005912726430808612,
           -0.0028485260352835505,
           -0.003779069486596283,
           -0.006202607258121348,
           0.00723700347469513,
           0.018683511701476932,
           -0.0020431227439995266,
           -0.005724010183626942,
           -0.003742846464099624,
           0.017361147460115613,
           -0.003019554465248633,
           0.000856119391107861,
           -0.0015244200589881397,
           -0.0036054245321497985,
           -0.011693916436460177,
           0.011693916436460143,
           -0.005106139412425427,
           0.005106139412425407
          ],
          [
           0.01231788120869715,
           0.008780783836866653,
           -0.14324108356624224,
           -0.0219862905666,
           0.001134184104191925,
           0.05736025624140202,
           -0.012427597098936986,
           -0.03110206430445203,
           -0.04432793562512353,
           -0.005565359290035537,
           0.023028440339511243,
           -0.01752698941628713,
           0.07267917508302767,
           -0.05081819615674543,
           -0.0034030069687764715,
           0.029209610424452047,
           0.013487653935388162,
           0.0028445127668904877,
           0.0027482740006102703,
           0.001130304626145028,
           0.022498536469200428,
           0.023280943014668612,
           -0.010019791425650076,
           0.03589188277566168,
           -0.11211611575347634,
           -0.041362023226527274,
           0.11886628594989387,
           -0.08057911294688538,
           -0.0054207312031454005,
           -0.04601241778954598,
           -0.010953518413117131,
           -0.02558764925996712,
           0.00036960041981712484,
           0.12576221541544358,
           -0.0004898397311188505,
           -0.09301703743766199,
           -0.013778921199164561,
           -0.045225018560300555,
           -0.13730276478543593,
           -0.006310718273350584,
           1,
           -0.14335323764881758,
           -0.06727857568906655,
           -0.07951214598870635,
           -0.09709302494709081,
           -0.12726732674482702,
           -0.02555873834089986,
           -0.18001256157175988,
           -0.05412462822221631,
           -0.1348594642464315,
           -0.06497014524614378,
           -0.08619429501369749,
           0.16001524807671882,
           -0.04430642086979946,
           -0.012700204810419505,
           -0.06574426531606294,
           -0.05616226892193123,
           -0.0745507980609129,
           0.00463653679550794,
           -0.021940124779131515,
           -0.046827584130168555,
           -0.006218791714593505,
           0.0503383166638888,
           -0.22299244522222494,
           0.22299244522222553,
           -0.0028290783556372983,
           0.002829078355637404
          ],
          [
           0.09944768929174949,
           -0.019178276694865236,
           0.2009500904475378,
           0.06060104452059723,
           0.048278864439366104,
           0.1392781580598161,
           0.21488884176166018,
           0.032993016968369135,
           -0.017992414529758187,
           -0.005542788099231039,
           -0.0802126912559568,
           0.13308385414942825,
           0.025870493296812118,
           0.012745305752458202,
           -0.007839529627115078,
           -0.05155476570562709,
           -0.05619786780505722,
           -0.033336645109201486,
           -0.021839352820269744,
           -0.037439496397665806,
           -0.041065533479047095,
           -0.03817991745991201,
           0.0061037428858991966,
           -0.010444202683618503,
           0.17555787288882688,
           0.002824745272880622,
           -0.1002348148227378,
           0.11868551495978633,
           -0.014823524838539241,
           -0.014071136308048715,
           -0.007086254168014842,
           0.013311654385489908,
           -0.00655227819666531,
           0.1070001430771617,
           -0.01751740365719199,
           -0.105873017982785,
           -0.018124172875675665,
           -0.016784512974172047,
           -0.13674591180606,
           -0.006285124161840801,
           -0.14335323764881758,
           1,
           -0.0670057168330982,
           -0.07918967196234904,
           -0.09669924889820364,
           -0.12675117406439176,
           -0.02545508085362016,
           -0.179282492287337,
           -0.053905117271143076,
           -0.13431252045706074,
           -0.06470664859327337,
           -0.08584472047993986,
           0.10214218275852484,
           -0.009589783615954372,
           -0.040529765175086406,
           -0.1017107622234801,
           -0.020361828649771856,
           0.019140968672583806,
           -0.008459177483735886,
           0.0028126943155134623,
           -0.04640778961732777,
           -0.0233779260512227,
           0.04569031411007154,
           -0.03665784348116657,
           0.03665784348116654,
           -0.030836560122256815,
           0.030836560122257096
          ],
          [
           0.034698572189426145,
           -0.032912985760275064,
           -0.10108548154599281,
           -0.011702342272326215,
           -0.01063114792329498,
           0.0941284900083691,
           -0.051833548895257514,
           -0.02246875477758598,
           -0.025365989576212316,
           -0.0026013426329171757,
           -0.12200868254472456,
           0.016673379589823734,
           0.23492709893845468,
           -0.022446291197075346,
           0.04803953802012975,
           0.016660825736345333,
           0.0011269514415128635,
           0.004365801088164454,
           0.032465545350269416,
           0.04603139180717292,
           0.06455141566348636,
           0.017675469650923398,
           -0.01860059065234972,
           0.00874458032605453,
           -0.041565180902049116,
           -0.018510303481316197,
           0.03176264815646192,
           -0.033935759136378876,
           0.029552578689744226,
           -0.018383842461474894,
           -0.020594249740177012,
           -0.03717790530900351,
           0.002009512548340905,
           0.042534530289311444,
           0.01786759246004929,
           -0.014554418704424477,
           -0.013560985603069436,
           -0.007560548845748563,
           -0.064177623948421,
           -0.0029497359708992926,
           -0.06727857568906655,
           -0.0670057168330982,
           1,
           -0.03716531573540778,
           -0.04538291455970736,
           -0.05948689124734001,
           -0.011946584618318948,
           -0.0841409020466414,
           -0.02529876249631042,
           -0.06303558414004318,
           -0.030368139753028548,
           -0.04028866469318994,
           0.05532779281529967,
           -0.029457630382657307,
           0.0011404351675864104,
           -0.003152589292386034,
           -0.024420775188349404,
           -0.02738229740959552,
           0.0009519224113816089,
           -0.015916161870247216,
           -0.032280637059373785,
           0.00538489846543618,
           0.033222792383224224,
           -0.0999718591582732,
           0.09997185915827332,
           0.01502025641449461,
           -0.015020256414494547
          ],
          [
           -0.09855436289722434,
           0.02895657048951471,
           -0.12775327479585208,
           -0.023281168433846075,
           -0.021680340743119773,
           -0.042526841326155855,
           -0.08728556501072968,
           -0.015734538530939347,
           -0.02562360025594025,
           -0.0030743566295320444,
           0.08550162499179698,
           -0.03781515443436418,
           -0.05242563970558741,
           -0.03568038664232046,
           0.0030335305971240486,
           0.029118514389943142,
           0.06036039551412292,
           0.026427488388012718,
           0.019372248573909043,
           0.03813024043244215,
           0.0207146249036673,
           0.03360754977707973,
           -0.017960430689781173,
           -0.022885498876495314,
           -0.07235533364586885,
           -0.02376333955386562,
           0.05549969432792834,
           -0.04612409335587531,
           -0.00040551454854547146,
           -0.028135090640337073,
           -0.01446851814167055,
           -0.026245108071536405,
           -0.005574115633344302,
           -0.05002538071395953,
           0.007357939469755419,
           0.08028525174111939,
           -0.00449354820734187,
           -0.02116469553794602,
           -0.07584733404848917,
           -0.0034860999173083997,
           -0.07951214598870635,
           -0.07918967196234904,
           -0.03716531573540778,
           1,
           -0.05363509692210778,
           -0.07030366402422908,
           -0.014118886592193201,
           -0.09944062606309391,
           -0.029898951877888037,
           -0.07449763193249433,
           -0.03589011712447177,
           -0.047614536365632114,
           -0.03674686223164014,
           -0.014363809420297403,
           0.04451579158292501,
           0.08654256005723115,
           -0.022862083108319733,
           -0.03572133895987398,
           0.01402622394789573,
           -0.01800940867217034,
           0.02476304516337568,
           0.0010066871977773364,
           -0.015827279245286756,
           -0.09397504519651387,
           0.09397504519651409,
           0.022976857589782643,
           -0.022976857589782386
          ],
          [
           -0.016233004679658807,
           0.01266484917398746,
           -0.15871197080323518,
           -0.025960479467150636,
           -0.016253149475537177,
           0.006470574431428802,
           -0.06967340096092692,
           -0.034035709299455846,
           -0.060843158376881624,
           -0.0037541256271690637,
           0.12005162977845713,
           -0.03909064597366589,
           -0.05729870821828262,
           -0.0436666055883738,
           0.0008603621169324678,
           0.03346730887392463,
           0.01836328738130945,
           0.00936234632210258,
           0.02298260896214673,
           0.04531862090575371,
           0.048976307971288637,
           0.045569114610994325,
           -0.023413233494747502,
           -0.013926914619656975,
           -0.08975021337926115,
           -0.02787460122973256,
           0.10291371233485358,
           -0.055925109243076684,
           0.02589376134791988,
           -0.03338567339051572,
           -0.04224850038783303,
           0.0014977783886523245,
           -0.006806604720782349,
           0.017924609882758704,
           0.00034789581659135435,
           -0.02335635288187809,
           0.015380174839744453,
           -0.005979643192018212,
           -0.09261788881897624,
           -0.00425690920588846,
           -0.09709302494709081,
           -0.09669924889820364,
           -0.04538291455970736,
           -0.05363509692210778,
           1,
           -0.08584846151612976,
           -0.017240704436724315,
           -0.12142787830766821,
           -0.036509889708975424,
           -0.09096975494471195,
           -0.0438257576121173,
           -0.05814255557696855,
           0.020177235827014202,
           -0.014592702376124398,
           0.01174782399688941,
           -0.017040575102468158,
           0.007170218230750467,
           -0.007398162074623376,
           -0.000153471952691254,
           -0.0034980899215927732,
           0.035667056326067266,
           0.03145683080084294,
           -0.03608943823397463,
           -0.030603292524317906,
           0.03060329252431786,
           0.048698038311713605,
           -0.048698038311713474
          ],
          [
           -0.0896895949052993,
           -0.003797402892320373,
           -0.1699733248977062,
           -0.040270992013866996,
           -0.040836449931305564,
           -0.1558349166548869,
           -0.1563319749101639,
           -0.037407147908217586,
           -0.007769127693684526,
           -0.004920822408143145,
           0.0607648423123815,
           -0.048098005750355326,
           -0.031122261857268668,
           -0.0037958008134894384,
           -0.002044871078354331,
           0.060849980627644816,
           0.065097525908297,
           0.03665153098633392,
           0.03320609058253241,
           0.030853203991661346,
           0.023955827588599883,
           0.040064448740454776,
           -0.017126069882897246,
           -0.012526773090816436,
           -0.09909549765527706,
           -0.03712513473610347,
           0.04744310300395178,
           -0.0706483209013116,
           0.025872834591963132,
           -0.04194123841677785,
           0.010381964677569818,
           0.01508542118483829,
           0.0064186170393968674,
           -0.1618026859623566,
           0.015134514568260843,
           0.12139537288611645,
           0.050375197630453235,
           0.04536892988781411,
           -0.12140142018609566,
           -0.0055798596770890545,
           -0.12726732674482702,
           -0.12675117406439176,
           -0.05948689124734001,
           -0.07030366402422908,
           -0.08584846151612976,
           1,
           -0.022598722885142877,
           -0.1591648985386377,
           -0.04785633227043729,
           -0.11924108382403886,
           -0.057445805369647655,
           -0.07621193821518767,
           -0.16979433295895593,
           0.02837131524350578,
           0.05410943440243188,
           0.10622733650699587,
           0.06743285039439405,
           0.011613881878943274,
           0.0016169482978737925,
           0.012765984106571862,
           0.08798139420640214,
           0.014119707622402814,
           -0.08388006020368323,
           0.1539203215286054,
           -0.15392032152860535,
           0.05507780291512558,
           -0.055077802915125845
          ],
          [
           0.01663149069528307,
           0.007273389546950397,
           -0.06932868987088878,
           -0.007247438383903754,
           -0.01096796009358592,
           -0.04174770983532504,
           -0.03688192200379967,
           -0.011746361878545549,
           -0.017663914377915247,
           -0.0009882348876859804,
           0.03855618712494806,
           -0.012696244850470202,
           -0.019603388196658737,
           -0.013732258750756506,
           -0.0013977255745421264,
           0.0049009843415816065,
           0.021349303207124876,
           0.008173618996161293,
           0.053068452795066605,
           0.05700255037599467,
           0.016721039016892165,
           0.02821867305641734,
           -0.007258212360603881,
           -0.005098900220266113,
           -0.021241975543606198,
           -0.0076385937042810085,
           0.0025380904268783645,
           -0.01387834888724476,
           0.020756420971197682,
           -0.009043868844591513,
           -0.018581918129876304,
           0.010593625127472658,
           -0.0017917685553953328,
           -0.04747718079050917,
           0.00859282743385818,
           0.01640828916442669,
           0.01933432319331782,
           0.04666143278213328,
           -0.024380704868354492,
           -0.0011205874839470909,
           -0.02555873834089986,
           -0.02545508085362016,
           -0.011946584618318948,
           -0.014118886592193201,
           -0.017240704436724315,
           -0.022598722885142877,
           1,
           -0.031964637734250706,
           -0.009610852256743819,
           -0.023946850608833226,
           -0.011536679097290533,
           -0.01530542863684372,
           -0.05561420223188866,
           0.02580473045489168,
           0.039042269769519446,
           -0.0011109918674462643,
           0.02894893441046436,
           0.004099634471552693,
           -0.006618052171966044,
           -0.001798344712451256,
           0.021620782662166105,
           0.008953876203807554,
           -0.017632739493990888,
           0.08803401691482708,
           -0.08803401691482722,
           0.06263339299847413,
           -0.06263339299847416
          ],
          [
           0.07129378652252144,
           -0.015765898455546185,
           0.313370719003501,
           0.06396210793309492,
           0.030081443000348106,
           -0.049193791497921385,
           0.11291940437838927,
           -0.0006610714291249519,
           0.1036357001978796,
           0.030916505167429394,
           -0.06604206447458746,
           -0.019654891522292182,
           -0.02773212985353541,
           0.07115509296999135,
           -0.009844310689039659,
           -0.02874328434454155,
           -0.03271695687304167,
           -0.020476952476568444,
           -0.016155714201901945,
           -0.02369608865557339,
           -0.0207939800218425,
           -0.025745421058484447,
           -0.004933544356890899,
           -0.009033387183603447,
           0.14626565804651265,
           0.1843859964641466,
           -0.1973362838379853,
           0.20366069960367675,
           -0.006458686993261828,
           0.21914394649715094,
           -0.07504428177483957,
           -0.02128433630080234,
           0.002309604550693363,
           0.0017693490676830676,
           -0.0005719884938981068,
           0.007071743052092099,
           -0.010610294102971547,
           0.028846639253837472,
           -0.17171556270656826,
           -0.007892401446427024,
           -0.18001256157175988,
           -0.179282492287337,
           -0.0841409020466414,
           -0.09944062606309391,
           -0.12142787830766821,
           -0.1591648985386377,
           -0.031964637734250706,
           1,
           -0.06769012267149584,
           -0.16865988697001402,
           -0.0812538994935989,
           -0.10779755158974637,
           -0.021214352747819843,
           0.03373733832572857,
           -0.027505189411605836,
           -0.01588428168774751,
           -0.01909978687727106,
           0.056270989965846285,
           0.0006937830062096452,
           0.027209881828063803,
           -0.0322518390817825,
           0.003668296201547622,
           0.012232659225080423,
           0.063483412785532,
           -0.06348341278553224,
           -0.005910881718507807,
           0.005910881718507784
          ],
          [
           0.0038519443073438357,
           0.016568732772208383,
           0.005718776363795361,
           -0.007151508071021406,
           -0.003197232887422927,
           0.02808064699834644,
           0.028085664928713047,
           0.011498188302823741,
           0.23497666632676442,
           -0.0020927420273572513,
           -0.15238996628610718,
           -0.02084722425062854,
           -0.03659695791040457,
           0.10121054777061544,
           -0.002959902639549227,
           -0.016609187468381716,
           -0.019366341860237953,
           -0.005058275364515203,
           -0.007130704241361883,
           -0.012297607447539377,
           -0.006095751341724653,
           -0.011022586645602819,
           0.01569631396566737,
           0.022272809904839014,
           -0.004016191264204417,
           -0.016175917561751418,
           0.0026716233843269775,
           -0.018996690769009603,
           -0.005596788631968142,
           -0.017484867093552008,
           0.02992980934189365,
           -0.006135613404269625,
           0.004476352185905123,
           0.03722435165880575,
           -0.00651497405206264,
           -0.02658345755992597,
           -0.005594116272216388,
           -0.013810503577442882,
           -0.051629957989107265,
           -0.002373019362307461,
           -0.05412462822221631,
           -0.053905117271143076,
           -0.02529876249631042,
           -0.029898951877888037,
           -0.036509889708975424,
           -0.04785633227043729,
           -0.009610852256743819,
           -0.06769012267149584,
           1,
           -0.05071120369904884,
           -0.024430723407839805,
           -0.03241164034396791,
           0.048788322509621916,
           -0.012810784893520992,
           -0.008442453317160052,
           -0.01273945725084185,
           -0.022658719950992865,
           -0.024916363577328716,
           0.0040589821246061,
           -0.00713528463233824,
           0.02965008500789069,
           -0.0009808063761367085,
           -0.02206212635309433,
           -0.06478599781353789,
           0.06478599781353778,
           -0.014018049997096722,
           0.014018049997096821
          ],
          [
           -0.03210058867314519,
           0.0037213148388504334,
           0.030121250619850798,
           0.011614186972926972,
           0.009640498418435587,
           0.009810725536922903,
           0.023597554118767884,
           -0.053921868384212604,
           -0.09042409714257804,
           -0.005214374267046445,
           0.043503734223703544,
           0.0887239750164357,
           0.03632427537939552,
           -0.06698383746810085,
           -0.0073750323522286726,
           -0.013808761035905191,
           0.006362241596285544,
           -0.001337648731152099,
           -0.014519411218116413,
           -0.024462626668571123,
           -0.030290692178588464,
           -0.020041608013253664,
           0.013290041721320745,
           -0.023678165221306474,
           0.05476861966803483,
           -0.033345143948981124,
           -0.022545936994039555,
           -0.02574023883333464,
           -0.013945221264317508,
           -0.034426299926447745,
           0.04488697883424476,
           -0.01820930304088371,
           -0.002125754940122329,
           -0.0031916891255363163,
           -0.01114820930780775,
           0.025388153996423173,
           -0.012257336807617801,
           -0.003620498497337564,
           -0.12864362679573613,
           -0.005912726430808612,
           -0.1348594642464315,
           -0.13431252045706074,
           -0.06303558414004318,
           -0.07449763193249433,
           -0.09096975494471195,
           -0.11924108382403886,
           -0.023946850608833226,
           -0.16865988697001402,
           -0.05071120369904884,
           1,
           -0.06087273720213009,
           -0.08075836445822102,
           0.005292911522554935,
           -0.010994421050411773,
           -0.0034447394387843696,
           0.03812636036812118,
           -0.02135231572774714,
           -0.0208707937233198,
           -0.008896091043953485,
           -0.004678646904029099,
           -0.03181785844471079,
           -0.005787335888032929,
           0.0328327633767191,
           0.011533418380506732,
           -0.011533418380506782,
           -0.03274566689275248,
           0.03274566689275254
          ],
          [
           -0.01939491489224333,
           0.003907543743519851,
           0.06071324265889285,
           -0.00936845353201319,
           0.004844876501777113,
           -0.013543613719746534,
           0.02577276235914404,
           0.04437660153188574,
           -0.016287887538996394,
           -0.0025120866035676192,
           0.015736042579262793,
           -0.029228650188345598,
           -0.031927976882296295,
           0.018896660585142784,
           -0.00355300924408051,
           -0.02610296941772317,
           -0.027206085127115264,
           -0.015051630253374304,
           -0.012263194185358515,
           -0.01554920637491046,
           -0.0177274379212552,
           -0.018732848799760362,
           0.04418851030805076,
           0.07935155120157279,
           0.03861121687437342,
           -0.014466666784767884,
           -0.05532073679313554,
           -0.009951920369877836,
           -0.006718275621922446,
           -0.013183226740173058,
           0.02860195819710411,
           0.007249850462987311,
           -0.0045546639172412435,
           -0.008341474370506259,
           -0.009693412845503912,
           0.010267374216893804,
           -0.0012722067446290196,
           -0.009978482932411515,
           -0.06197559188457843,
           -0.0028485260352835505,
           -0.06497014524614378,
           -0.06470664859327337,
           -0.030368139753028548,
           -0.03589011712447177,
           -0.0438257576121173,
           -0.057445805369647655,
           -0.011536679097290533,
           -0.0812538994935989,
           -0.024430723407839805,
           -0.06087273720213009,
           1,
           -0.03890629922052775,
           -0.00967270409485084,
           0.019820668504923318,
           -0.005346817762338616,
           -0.012371247898217167,
           0.002311401669587369,
           0.003732011478444881,
           -0.009228496232702147,
           0.01516511684071335,
           -0.011257327869393659,
           -0.009596190367305772,
           0.006859926748081761,
           0.015856455257163858,
           -0.015856455257163827,
           -0.011741609443882271,
           0.011741609443882145
          ],
          [
           0.026859669400268227,
           0.00126021852052064,
           -0.11615384653435833,
           -0.0180859176286462,
           -0.0033181975152167206,
           0.07757679390607432,
           -0.02154267157565376,
           -0.018595798116458905,
           0.007115074248870205,
           -0.0033327235607606637,
           0.020800798433716704,
           -0.021711760542215526,
           -0.0014157332791699373,
           -0.016507476231944842,
           0.0021460171296176353,
           0.032567472178380526,
           0.02617532880483803,
           0.02203292898309239,
           -0.0002949436509273734,
           0.0165687645770158,
           0.02892481417858424,
           0.011148485980776742,
           -0.020266272770992574,
           -0.019633305884779486,
           -0.07702673543360201,
           -0.02448960143110863,
           0.09432329253124881,
           -0.047352323286631026,
           -0.008912971161530432,
           -0.02726312646053318,
           -0.02540106071261306,
           -0.015322134160239918,
           -0.0006899485315781182,
           0.07399403472557259,
           -0.001915771857580594,
           -0.05562969254574622,
           -0.01084005612494125,
           -0.019633349469575012,
           -0.08222149466204183,
           -0.003779069486596283,
           -0.08619429501369749,
           -0.08584472047993986,
           -0.04028866469318994,
           -0.047614536365632114,
           -0.05814255557696855,
           -0.07621193821518767,
           -0.01530542863684372,
           -0.10779755158974637,
           -0.03241164034396791,
           -0.08075836445822102,
           -0.03890629922052775,
           1,
           0.09294271092624988,
           -0.030031559486206304,
           -0.015099632502438516,
           -0.03200452117262981,
           -0.03194445843701861,
           -0.03982911811998615,
           0.014234151488336715,
           -0.018576222176586596,
           0.008097411961364149,
           0.0010935753668609603,
           -0.0017136800934839647,
           -0.13250681342879478,
           0.1325068134287948,
           -0.02866627170203637,
           0.028666271702036263
          ],
          [
           0.31677053993734633,
           -0.020906857677859624,
           0.07880283785412057,
           0.08016734632121336,
           0.07546616766948305,
           0.2461255271392727,
           0.4009414593644997,
           0.014768128547182277,
           0.0027361635475869036,
           -0.01210987071900425,
           -0.1273948203034792,
           0.11478095970370536,
           0.11937199753728081,
           -0.004500484980286879,
           -0.005053410403361754,
           -0.024433492252527764,
           -0.0554373142554185,
           -0.03960302251597707,
           0.0023912950602369546,
           0.008996799984614978,
           0.031700359370462346,
           -0.0031731455097141633,
           -0.01843547510023106,
           0.011139594815255964,
           0.044487623862262876,
           0.05458675659038851,
           0.0030616578668060464,
           0.05259249944275598,
           -0.010011959211649922,
           0.07194539476857209,
           -0.07199597765816257,
           -0.3282091299715032,
           -0.0007577939043080904,
           0.8931431799770547,
           -0.09417587231678015,
           -0.5765397752169729,
           -0.1488868930480752,
           -0.14647002666789216,
           -0.17981617434841543,
           -0.006202607258121348,
           0.16001524807671882,
           0.10214218275852484,
           0.05532779281529967,
           -0.03674686223164014,
           0.020177235827014202,
           -0.16979433295895593,
           -0.05561420223188866,
           -0.021214352747819843,
           0.048788322509621916,
           0.005292911522554935,
           -0.00967270409485084,
           0.09294271092624988,
           1,
           -0.4827820015233746,
           -0.14555463797232907,
           -0.3544266124525876,
           -0.284079792510557,
           -0.18575561761956477,
           -0.021905140908252487,
           -0.003809244231952364,
           -0.12632394248463194,
           -0.020550478451409324,
           0.11867492892623749,
           -0.5802302280184481,
           0.5802302280184487,
           -0.011074778897297211,
           0.011074778897297386
          ],
          [
           -0.009822576466449358,
           0.0072316794580967216,
           0.0539899647849482,
           -0.0264352679902983,
           -0.01720559147038661,
           0.007373323874958612,
           -0.1882993650446015,
           0.014314853464561256,
           -0.003276519091855386,
           -0.0037698805494153203,
           0.03041598773573892,
           -0.04511154375970105,
           -0.03452188532645496,
           0.015570540434914603,
           -0.01213353286349808,
           -0.011736952665348079,
           -0.03343474400803774,
           -0.008216229538738077,
           0.005637829676329652,
           -0.010954664530687601,
           -0.013345788551702679,
           -0.011307883033820016,
           0.023395019411673268,
           -0.000419797880411082,
           0.056840457276952354,
           -0.005829071741944967,
           -0.024348719463264144,
           0.024304220090866826,
           0.013067394773444487,
           -0.012725003396588568,
           -0.010289178573459849,
           0.26115260674119034,
           -0.015554185347001112,
           -0.5374537662678818,
           0.06542946127306616,
           0.296807926009363,
           0.06411120210518535,
           0.12051912399425195,
           0.04468277964517572,
           0.00723700347469513,
           -0.04430642086979946,
           -0.009589783615954372,
           -0.029457630382657307,
           -0.014363809420297403,
           -0.014592702376124398,
           0.02837131524350578,
           0.02580473045489168,
           0.03373733832572857,
           -0.012810784893520992,
           -0.010994421050411773,
           0.019820668504923318,
           -0.030031559486206304,
           -0.4827820015233746,
           1,
           -0.1031126818368456,
           -0.2510801375582572,
           -0.201245591823649,
           -0.1315915464174642,
           0.0012628274517117958,
           -0.020680995907068782,
           0.0036789742733838752,
           0.003054541762734409,
           0.006094540452515321,
           0.1688394299974392,
           -0.16883942999743948,
           -0.023150355973714145,
           0.023150355973713888
          ],
          [
           -0.07009127150401097,
           0.02552169462398363,
           -0.08877994104470655,
           -0.019065149097688344,
           -0.015762349769447046,
           -0.04904219670213626,
           -0.08378243216232588,
           -0.008437921060110634,
           -0.014728587062384259,
           -0.0025864287454667846,
           0.04087594323640179,
           -0.02532845883313989,
           -0.017808593816377706,
           -0.01573628390346899,
           -0.0036581562230967686,
           0.01601381090811355,
           0.022709292691204808,
           0.015598397643284408,
           0.027737493104356123,
           0.05363512560152348,
           0.017475062646980056,
           0.02090450290470153,
           -0.017328096066752025,
           -0.01574578006410607,
           -0.036065136833544696,
           -0.01517536419343414,
           0.028684783802628275,
           -0.03284938632551326,
           0.016024955511954066,
           -0.018217991612803446,
           -0.009726006889429047,
           -0.012510963963778097,
           0.0020729783567133833,
           -0.11804686897642129,
           0.030957896635966736,
           0.11079885852145001,
           0.02479397780733772,
           0.018871441865513823,
           0.010892937179346765,
           0.018683511701476932,
           -0.012700204810419505,
           -0.040529765175086406,
           0.0011404351675864104,
           0.04451579158292501,
           0.01174782399688941,
           0.05410943440243188,
           0.039042269769519446,
           -0.027505189411605836,
           -0.008442453317160052,
           -0.0034447394387843696,
           -0.005346817762338616,
           -0.015099632502438516,
           -0.14555463797232907,
           -0.1031126818368456,
           1,
           -0.0756985107336599,
           -0.06067382207495235,
           -0.039673724038127196,
           0.006692957918585932,
           0.05185578095265813,
           0.042638000277200695,
           0.03921494175527015,
           -0.073363966481929,
           0.04031083848949053,
           -0.04031083848949066,
           0.10988690482919514,
           -0.109886904829195
          ],
          [
           -0.43297258689732854,
           0.013795942113658371,
           -0.09950879606965556,
           -0.05361919450542834,
           -0.050938048329766214,
           -0.24888302724902125,
           -0.22859341217743714,
           -0.042793603351312576,
           -0.03827267367200156,
           0.022605935155848658,
           0.11533259998294308,
           -0.05482558810370251,
           -0.07594752105324004,
           -0.016902888695281094,
           0.011532711540073345,
           0.04053328962377263,
           0.11048075630969961,
           0.0640789546147476,
           -0.020034702560930016,
           -0.030937136369998553,
           -0.03125410557222155,
           0.0000013374190816918169,
           -0.016692935455138305,
           -0.02988686575178345,
           -0.07091985928114271,
           -0.04337904506937063,
           -0.023445537430673558,
           -0.08028496109661783,
           -0.0038567681496708014,
           -0.04863527271221608,
           0.11953412388020335,
           -0.08969080963365858,
           -0.008228943576035427,
           -0.3801690426953869,
           -0.015099736822300836,
           0.5094546193346958,
           -0.02937935686982704,
           -0.06878131825489107,
           0.048897454317152186,
           -0.0020431227439995266,
           -0.06574426531606294,
           -0.1017107622234801,
           -0.003152589292386034,
           0.08654256005723115,
           -0.017040575102468158,
           0.10622733650699587,
           -0.0011109918674462643,
           -0.01588428168774751,
           -0.01273945725084185,
           0.03812636036812118,
           -0.012371247898217167,
           -0.03200452117262981,
           -0.3544266124525876,
           -0.2510801375582572,
           -0.0756985107336599,
           1,
           -0.14774120235635735,
           -0.09660580940667317,
           -0.0003515728103353807,
           0.0055225948223121876,
           0.019602354109724697,
           -0.004830347364743323,
           -0.01777182247935197,
           0.10235686824841504,
           -0.10235686824841514,
           -0.03689936862241332,
           0.03689936862241347
          ],
          [
           0.043066196813753274,
           0.004447583577724062,
           -0.05884183838669614,
           -0.02903178421559313,
           -0.03917690483224633,
           -0.03727984242941276,
           -0.14294815648647455,
           0.014377255593342086,
           0.0319186902889967,
           -0.005047947297256317,
           0.01320708047955166,
           -0.03686160568637127,
           -0.04242218451782904,
           0.011008530368208966,
           0.002493472097707805,
           0.00850775020186705,
           0.007276909467188651,
           -0.006839276562493605,
           0.0019965349479868603,
           0.009788458340583608,
           0.0033735611498960346,
           0.012479409890522288,
           0.011793287987566632,
           0.018660646781039895,
           -0.06055980433076408,
           -0.019387881755916887,
           0.04293111824939737,
           -0.018437639698206387,
           -0.008399942929470596,
           -0.028016813014207338,
           0.004070823953482232,
           0.3287236381210844,
           -0.009152432634407043,
           -0.3176654065753552,
           0.07605408027794992,
           -0.05286040487571732,
           0.19584984301503042,
           0.16135847493980893,
           0.10646123043763465,
           -0.005724010183626942,
           -0.05616226892193123,
           -0.020361828649771856,
           -0.024420775188349404,
           -0.022862083108319733,
           0.007170218230750467,
           0.06743285039439405,
           0.02894893441046436,
           -0.01909978687727106,
           -0.022658719950992865,
           -0.02135231572774714,
           0.002311401669587369,
           -0.03194445843701861,
           -0.284079792510557,
           -0.201245591823649,
           -0.06067382207495235,
           -0.14774120235635735,
           1,
           -0.07743142678156979,
           0.025739067948753684,
           -0.010744272572740165,
           0.14869955953785247,
           0.009129892341319388,
           -0.1282192124666006,
           0.32133660368722655,
           -0.32133660368722644,
           0.01934344470460797,
           -0.019343444704607953
          ],
          [
           0.02080155044617999,
           -0.016907440365885183,
           0.033354548131287506,
           0.017706295036071074,
           0.01710266880926848,
           -0.0652208665680771,
           0.12322987695854098,
           -0.004463811810968782,
           0.03108073297014905,
           0.006483973447827224,
           -0.016683542956370614,
           -0.005347160803088202,
           0.00031780588187555354,
           0.003994556940476391,
           0.016090319181455367,
           -0.013725533298218738,
           -0.020478864497308583,
           -0.003590203648584917,
           -0.008056419654350309,
           -0.002855179352746672,
           -0.011410178901159071,
           -0.004339172138365549,
           0.019805704978141343,
           0.011669633908897118,
           0.01820452130246999,
           0.0001243399074826055,
           -0.002369836306692679,
           0.018597723933423866,
           0.0021630847993850044,
           -0.0019133020652629905,
           -0.01443630636940944,
           -0.08945972887348733,
           0.058807601238343804,
           0.24029640898566945,
           -0.025669450464753916,
           -0.15714703603818098,
           -0.04058199443157844,
           -0.0399232308831256,
           0.07687275332465596,
           -0.003742846464099624,
           -0.0745507980609129,
           0.019140968672583806,
           -0.02738229740959552,
           -0.03572133895987398,
           -0.007398162074623376,
           0.011613881878943274,
           0.004099634471552693,
           0.056270989965846285,
           -0.024916363577328716,
           -0.0208707937233198,
           0.003732011478444881,
           -0.03982911811998615,
           -0.18575561761956477,
           -0.1315915464174642,
           -0.039673724038127196,
           -0.09660580940667317,
           -0.07743142678156979,
           1,
           0.005917979998505821,
           0.015496423568004474,
           0.0012408910116135567,
           0.004642529859649427,
           -0.011581625893018753,
           0.31945780878787783,
           -0.31945780878787866,
           0.01942185179529948,
           -0.0194218517952995
          ],
          [
           -0.010170496535432855,
           -0.06416987442737221,
           -0.02941161243442076,
           -0.006025970606887652,
           -0.012963137752311766,
           -0.003119756508619262,
           -0.02875370639176162,
           0.018338370894171896,
           0.02059329932237319,
           -0.0014410663643068785,
           -0.014115933363843178,
           -0.015042731156172428,
           -0.0003275709494757911,
           0.004185571608550607,
           -0.00203819490396721,
           0.01340423060499513,
           0.004687991809676327,
           0.0023740628455849494,
           0.010699804805325034,
           -0.0036880693945901665,
           0.006424003170969812,
           0.00022041640070885206,
           -0.003899788276382913,
           0.009069469996536912,
           -0.02570125085057555,
           -0.0026737972173198673,
           0.012632997417689229,
           -0.016168184092065132,
           -0.0038539598957878017,
           -0.00839723225342523,
           0.0071210305977592635,
           0.0161488855231055,
           -0.002612797250913675,
           -0.01716797646289347,
           0.01403767598917014,
           0.0007005474365476465,
           0.0021749472704846915,
           0.004606653098380219,
           -0.004951326773250291,
           0.017361147460115613,
           0.00463653679550794,
           -0.008459177483735886,
           0.0009519224113816089,
           0.01402622394789573,
           -0.000153471952691254,
           0.0016169482978737925,
           -0.006618052171966044,
           0.0006937830062096452,
           0.0040589821246061,
           -0.008896091043953485,
           -0.009228496232702147,
           0.014234151488336715,
           -0.021905140908252487,
           0.0012628274517117958,
           0.006692957918585932,
           -0.0003515728103353807,
           0.025739067948753684,
           0.005917979998505821,
           1,
           -0.017833118139709704,
           -0.03200435036268455,
           -0.009003037805526169,
           -0.23783707629752768,
           0.010831409513205048,
           -0.010831409513205072,
           -0.013266711761290177,
           0.01326671176129018
          ],
          [
           -0.011833599214488765,
           -0.05114035508026598,
           0.06209516513685772,
           0.009861510511470783,
           0.004479893884567965,
           -0.004533526578946386,
           0.010599594826851718,
           0.013821936127842488,
           -0.01979654337481425,
           -0.002662914864367322,
           -0.0019835243375232767,
           0.009990912065101852,
           -0.0052356204787648054,
           0.014825782075497776,
           0.004666451412968365,
           -0.017567677497750886,
           -0.015452510225256087,
           -0.007346481867661851,
           -0.0007259911455351912,
           0.01289226970232676,
           -0.012015278321602155,
           -0.01037563436294036,
           -0.004948740730842541,
           -0.005280091379519499,
           0.05576925899723535,
           0.023158913755117853,
           -0.04069845598862591,
           0.025828244811562914,
           0.019666450963619162,
           0.0300044345020408,
           -0.010620563972124552,
           -0.033966168339890045,
           -0.00482813061866343,
           0.010675798233842808,
           0.04296259200623181,
           0.011437237862901057,
           -0.013716441398141387,
           -0.007807146601840402,
           0.010270756937726036,
           -0.003019554465248633,
           -0.021940124779131515,
           0.0028126943155134623,
           -0.015916161870247216,
           -0.01800940867217034,
           -0.0034980899215927732,
           0.012765984106571862,
           -0.001798344712451256,
           0.027209881828063803,
           -0.00713528463233824,
           -0.004678646904029099,
           0.01516511684071335,
           -0.018576222176586596,
           -0.003809244231952364,
           -0.020680995907068782,
           0.05185578095265813,
           0.0055225948223121876,
           -0.010744272572740165,
           0.015496423568004474,
           -0.017833118139709704,
           1,
           -0.05914013567737517,
           -0.01663651570157027,
           -0.43949390635799745,
           0.0009921496524851793,
           -0.0009921496524850912,
           0.3582083783466084,
           -0.358208378346608
          ],
          [
           -0.019328728792092506,
           0.11816341319443269,
           -0.07545282031935435,
           -0.02064260921971302,
           -0.02177676728670224,
           -0.053176144844119054,
           -0.08910674854238296,
           0.047413462432005456,
           0.03707808960333194,
           0.009451327998693897,
           0.008545691427535897,
           -0.048210488224453715,
           -0.058625750281444115,
           0.01837085161140805,
           -0.0017275549038179509,
           0.027184377629982822,
           0.022515777540617357,
           0.02591050581429279,
           0.00010533746916031078,
           -0.011272553975843015,
           -0.004408742076797779,
           0.033207898470335694,
           0.002706351355582426,
           -0.010662378557762881,
           -0.05168580260684309,
           -0.026685930958777197,
           0.03707482325160423,
           -0.03692902725936876,
           0.0005391568126153813,
           -0.0318655143608226,
           0.011585834005133414,
           0.017895797941297684,
           -0.0047385977895372435,
           -0.1254983371957065,
           0.02028577950400065,
           0.07124062205203556,
           0.09955868360000014,
           0.019849451042700483,
           0.04188888163009068,
           0.000856119391107861,
           -0.046827584130168555,
           -0.04640778961732777,
           -0.032280637059373785,
           0.02476304516337568,
           0.035667056326067266,
           0.08798139420640214,
           0.021620782662166105,
           -0.0322518390817825,
           0.02965008500789069,
           -0.03181785844471079,
           -0.011257327869393659,
           0.008097411961364149,
           -0.12632394248463194,
           0.0036789742733838752,
           0.042638000277200695,
           0.019602354109724697,
           0.14869955953785247,
           0.0012408910116135567,
           -0.03200435036268455,
           -0.05914013567737517,
           1,
           -0.02985685807473832,
           -0.7887413099128988,
           0.11585694839244359,
           -0.11585694839244377,
           -0.027101161350382832,
           0.02710116135038258
          ],
          [
           -0.034459999789217065,
           0.006375697866297531,
           -0.04420808247374526,
           -0.0017836210500381889,
           -0.0059790009478023825,
           -0.007212587190624057,
           -0.03186146233948174,
           -0.0019901240768490404,
           -0.010245257599413481,
           -0.001344370794214153,
           0.02499587639284419,
           -0.007980968843107115,
           -0.015322908010993182,
           -0.011769180831998774,
           -0.0019014320017992719,
           0.002490475911736248,
           0.0003868959925622905,
           0.03067331869764176,
           0.03615716360819948,
           0.03444039051893608,
           0.02820963239926086,
           0.01008608842548562,
           -0.0016843160359414984,
           -0.009240706574849147,
           -0.01056725087157362,
           -0.004349639667082565,
           -0.006803639667479678,
           -0.011090898572216666,
           0.013671386301888164,
           -0.0020451504299419734,
           -0.007831082875821278,
           -0.01082469638290668,
           -0.00243747852446813,
           -0.0133564810447062,
           0.03458968218703387,
           0.011637930052696895,
           0.00864027241342705,
           -0.002498171649889083,
           -0.00568950878592931,
           -0.0015244200589881397,
           -0.006218791714593505,
           -0.0233779260512227,
           0.00538489846543618,
           0.0010066871977773364,
           0.03145683080084294,
           0.014119707622402814,
           0.008953876203807554,
           0.003668296201547622,
           -0.0009808063761367085,
           -0.005787335888032929,
           -0.009596190367305772,
           0.0010935753668609603,
           -0.020550478451409324,
           0.003054541762734409,
           0.03921494175527015,
           -0.004830347364743323,
           0.009129892341319388,
           0.004642529859649427,
           -0.009003037805526169,
           -0.01663651570157027,
           -0.02985685807473832,
           1,
           -0.2218782056643642,
           0.01391807373953915,
           -0.013918073739539141,
           0.1213441036220285,
           -0.12134410362202859
          ],
          [
           0.03370814183552496,
           -0.057108586446994895,
           0.051551121467637656,
           0.014440080108366156,
           0.02106069054958416,
           0.049362768880161854,
           0.08523465925793373,
           -0.05100502529627475,
           -0.024129432014274463,
           -0.005819198169093103,
           -0.008690929061115567,
           0.04146951124969998,
           0.055580319953787816,
           -0.020841333486619866,
           0.0001696179983425635,
           -0.018279065665782034,
           -0.01249027151090852,
           -0.026523956288602307,
           -0.011989788822533789,
           -0.004865577335494302,
           0.0006270252569966716,
           -0.025209975419176744,
           0.001714955616834088,
           0.01140901637628468,
           0.025175225376441065,
           0.012598146571952183,
           -0.012407649049103013,
           0.025276139818673046,
           -0.012703724880174535,
           0.014496804476118962,
           -0.004327742609626583,
           0.0003144081359235474,
           0.007708374494640795,
           0.1076121115651765,
           -0.051110941744879304,
           -0.06835260815939002,
           -0.07909642765554491,
           -0.013306984811845028,
           -0.037249849290181665,
           -0.0036054245321497985,
           0.0503383166638888,
           0.04569031411007154,
           0.033222792383224224,
           -0.015827279245286756,
           -0.03608943823397463,
           -0.08388006020368323,
           -0.017632739493990888,
           0.012232659225080423,
           -0.02206212635309433,
           0.0328327633767191,
           0.006859926748081761,
           -0.0017136800934839647,
           0.11867492892623749,
           0.006094540452515321,
           -0.073363966481929,
           -0.01777182247935197,
           -0.1282192124666006,
           -0.011581625893018753,
           -0.23783707629752768,
           -0.43949390635799745,
           -0.7887413099128988,
           -0.2218782056643642,
           1,
           -0.10377300720667598,
           0.10377300720667573,
           -0.183384237718008,
           0.18338423771800746
          ],
          [
           -0.08870831208427153,
           -0.02708942994320561,
           -0.012205478705727654,
           -0.04848899637793233,
           -0.04557106150215047,
           -0.22918711523636087,
           -0.21596916716098188,
           -0.0009772283935584102,
           0.03800030791227929,
           -0.0014045290734486062,
           0.07202859349876599,
           -0.08403639660066864,
           -0.10741573519068551,
           0.019917265568931527,
           0.0011633520730274572,
           -0.00532361052474269,
           0.015179866880396842,
           0.00044470984352480106,
           -0.01000009822815461,
           -0.016778722905759505,
           -0.024997456646582608,
           -0.013627202960742593,
           0.02497020358823051,
           0.013891854415799173,
           -0.026881988638680413,
           -0.029529266226209116,
           -0.011601247844271965,
           -0.009795608542015595,
           -0.0008973691927741014,
           -0.04880337628407561,
           0.061656411574158104,
           0.22854069575040367,
           0.015711655086556402,
           -0.43179985303593416,
           0.03871496839138015,
           0.17140894193054623,
           0.10919150015871185,
           0.1885753458131862,
           0.26307663293882666,
           -0.011693916436460177,
           -0.22299244522222494,
           -0.03665784348116657,
           -0.0999718591582732,
           -0.09397504519651387,
           -0.030603292524317906,
           0.1539203215286054,
           0.08803401691482708,
           0.063483412785532,
           -0.06478599781353789,
           0.011533418380506732,
           0.015856455257163858,
           -0.13250681342879478,
           -0.5802302280184481,
           0.1688394299974392,
           0.04031083848949053,
           0.10235686824841504,
           0.32133660368722655,
           0.31945780878787783,
           0.010831409513205048,
           0.0009921496524851793,
           0.11585694839244359,
           0.01391807373953915,
           -0.10377300720667598,
           1,
           -1.0000000000000004,
           -0.0008836461460496988,
           0.0008836461460497773
          ],
          [
           0.08870831208427202,
           0.027089429943205602,
           0.012205478705727581,
           0.04848899637793226,
           0.0455710615021504,
           0.2291871152363616,
           0.21596916716098252,
           0.0009772283935583928,
           -0.03800030791227924,
           0.0014045290734486366,
           -0.07202859349876586,
           0.08403639660066867,
           0.10741573519068522,
           -0.019917265568931457,
           -0.0011633520730273807,
           0.005323610524742643,
           -0.015179866880396874,
           -0.00044470984352469297,
           0.010000098228154715,
           0.01677872290575957,
           0.024997456646582632,
           0.013627202960742579,
           -0.02497020358823057,
           -0.013891854415799095,
           0.026881988638680555,
           0.02952926622620917,
           0.011601247844271969,
           0.009795608542015617,
           0.0008973691927741829,
           0.04880337628407571,
           -0.06165641157415807,
           -0.22854069575040367,
           -0.015711655086556392,
           0.4317998530359354,
           -0.03871496839138025,
           -0.171408941930546,
           -0.10919150015871162,
           -0.18857534581318616,
           -0.26307663293882666,
           0.011693916436460143,
           0.22299244522222553,
           0.03665784348116654,
           0.09997185915827332,
           0.09397504519651409,
           0.03060329252431786,
           -0.15392032152860535,
           -0.08803401691482722,
           -0.06348341278553224,
           0.06478599781353778,
           -0.011533418380506782,
           -0.015856455257163827,
           0.1325068134287948,
           0.5802302280184487,
           -0.16883942999743948,
           -0.04031083848949066,
           -0.10235686824841514,
           -0.32133660368722644,
           -0.31945780878787866,
           -0.010831409513205072,
           -0.0009921496524850912,
           -0.11585694839244377,
           -0.013918073739539141,
           0.10377300720667573,
           -1.0000000000000004,
           1,
           0.0008836461460496624,
           -0.0008836461460497665
          ],
          [
           -0.01755822229849212,
           0.07945954013542084,
           -0.12219285011350804,
           -0.011248041664286671,
           -0.014379756927342868,
           -0.0085431612165,
           -0.038702369476177896,
           -0.016621075168479004,
           -0.030921007491831225,
           -0.0045030532475458995,
           0.046847477422441365,
           -0.00788985797193402,
           -0.013369234333518488,
           -0.023947903895226514,
           -0.0010863347586975544,
           -0.004823209354074505,
           -0.0006975264054126449,
           0.014064806557727889,
           0.1548553936833187,
           0.20866097217613516,
           0.05694465702898359,
           0.0586347434474307,
           -0.011618407136197488,
           -0.022823767983315604,
           -0.005610361178811471,
           0.02586871869068273,
           -0.05571355994089328,
           -0.0006332394677695945,
           0.0774564226315473,
           0.006144818227698527,
           -0.04734126072560095,
           -0.048009891028578645,
           -0.008164485298749524,
           0.007654565978814513,
           0.10506932489738657,
           -0.0036439280974607468,
           0.021155453012748626,
           -0.0054229641381425015,
           -0.01797088443568916,
           -0.005106139412425427,
           -0.0028290783556372983,
           -0.030836560122256815,
           0.01502025641449461,
           0.022976857589782643,
           0.048698038311713605,
           0.05507780291512558,
           0.06263339299847413,
           -0.005910881718507807,
           -0.014018049997096722,
           -0.03274566689275248,
           -0.011741609443882271,
           -0.02866627170203637,
           -0.011074778897297211,
           -0.023150355973714145,
           0.10988690482919514,
           -0.03689936862241332,
           0.01934344470460797,
           0.01942185179529948,
           -0.013266711761290177,
           0.3582083783466084,
           -0.027101161350382832,
           0.1213441036220285,
           -0.183384237718008,
           -0.0008836461460496988,
           0.0008836461460496624,
           1,
           -0.9999999999999994
          ],
          [
           0.017558222298492077,
           -0.0794595401354208,
           0.1221928501135075,
           0.011248041664286688,
           0.01437975692734295,
           0.008543161216500079,
           0.03870236947617809,
           0.0166210751684791,
           0.030921007491831277,
           0.004503053247545979,
           -0.04684747742244176,
           0.007889857971933917,
           0.013369234333518408,
           0.023947903895226465,
           0.0010863347586976596,
           0.004823209354074526,
           0.0006975264054125883,
           -0.014064806557727606,
           -0.15485539368331835,
           -0.20866097217613475,
           -0.05694465702898373,
           -0.05863474344743057,
           0.01161840713619762,
           0.022823767983315636,
           0.005610361178811341,
           -0.025868718690682732,
           0.05571355994089317,
           0.0006332394677695944,
           -0.07745642263154721,
           -0.006144818227698445,
           0.04734126072560087,
           0.04800989102857848,
           0.008164485298749476,
           -0.007654565978814448,
           -0.10506932489738648,
           0.0036439280974606665,
           -0.02115545301274864,
           0.005422964138142443,
           0.017970884435688984,
           0.005106139412425407,
           0.002829078355637404,
           0.030836560122257096,
           -0.015020256414494547,
           -0.022976857589782386,
           -0.048698038311713474,
           -0.055077802915125845,
           -0.06263339299847416,
           0.005910881718507784,
           0.014018049997096821,
           0.03274566689275254,
           0.011741609443882145,
           0.028666271702036263,
           0.011074778897297386,
           0.023150355973713888,
           -0.109886904829195,
           0.03689936862241347,
           -0.019343444704607953,
           -0.0194218517952995,
           0.01326671176129018,
           -0.358208378346608,
           0.02710116135038258,
           -0.12134410362202859,
           0.18338423771800746,
           0.0008836461460497773,
           -0.0008836461460497665,
           -0.9999999999999994,
           1
          ]
         ]
        }
       ],
       "layout": {
        "coloraxis": {
         "colorscale": [
          [
           0,
           "rgb(84,48,5)"
          ],
          [
           0.1,
           "rgb(140,81,10)"
          ],
          [
           0.2,
           "rgb(191,129,45)"
          ],
          [
           0.3,
           "rgb(223,194,125)"
          ],
          [
           0.4,
           "rgb(246,232,195)"
          ],
          [
           0.5,
           "rgb(245,245,245)"
          ],
          [
           0.6,
           "rgb(199,234,229)"
          ],
          [
           0.7,
           "rgb(128,205,193)"
          ],
          [
           0.8,
           "rgb(53,151,143)"
          ],
          [
           0.9,
           "rgb(1,102,94)"
          ],
          [
           1,
           "rgb(0,60,48)"
          ]
         ]
        },
        "height": 1100,
        "margin": {
         "t": 60
        },
        "template": {
         "data": {
          "bar": [
           {
            "error_x": {
             "color": "#2a3f5f"
            },
            "error_y": {
             "color": "#2a3f5f"
            },
            "marker": {
             "line": {
              "color": "#E5ECF6",
              "width": 0.5
             },
             "pattern": {
              "fillmode": "overlay",
              "size": 10,
              "solidity": 0.2
             }
            },
            "type": "bar"
           }
          ],
          "barpolar": [
           {
            "marker": {
             "line": {
              "color": "#E5ECF6",
              "width": 0.5
             },
             "pattern": {
              "fillmode": "overlay",
              "size": 10,
              "solidity": 0.2
             }
            },
            "type": "barpolar"
           }
          ],
          "carpet": [
           {
            "aaxis": {
             "endlinecolor": "#2a3f5f",
             "gridcolor": "white",
             "linecolor": "white",
             "minorgridcolor": "white",
             "startlinecolor": "#2a3f5f"
            },
            "baxis": {
             "endlinecolor": "#2a3f5f",
             "gridcolor": "white",
             "linecolor": "white",
             "minorgridcolor": "white",
             "startlinecolor": "#2a3f5f"
            },
            "type": "carpet"
           }
          ],
          "choropleth": [
           {
            "colorbar": {
             "outlinewidth": 0,
             "ticks": ""
            },
            "type": "choropleth"
           }
          ],
          "contour": [
           {
            "colorbar": {
             "outlinewidth": 0,
             "ticks": ""
            },
            "colorscale": [
             [
              0,
              "#0d0887"
             ],
             [
              0.1111111111111111,
              "#46039f"
             ],
             [
              0.2222222222222222,
              "#7201a8"
             ],
             [
              0.3333333333333333,
              "#9c179e"
             ],
             [
              0.4444444444444444,
              "#bd3786"
             ],
             [
              0.5555555555555556,
              "#d8576b"
             ],
             [
              0.6666666666666666,
              "#ed7953"
             ],
             [
              0.7777777777777778,
              "#fb9f3a"
             ],
             [
              0.8888888888888888,
              "#fdca26"
             ],
             [
              1,
              "#f0f921"
             ]
            ],
            "type": "contour"
           }
          ],
          "contourcarpet": [
           {
            "colorbar": {
             "outlinewidth": 0,
             "ticks": ""
            },
            "type": "contourcarpet"
           }
          ],
          "heatmap": [
           {
            "colorbar": {
             "outlinewidth": 0,
             "ticks": ""
            },
            "colorscale": [
             [
              0,
              "#0d0887"
             ],
             [
              0.1111111111111111,
              "#46039f"
             ],
             [
              0.2222222222222222,
              "#7201a8"
             ],
             [
              0.3333333333333333,
              "#9c179e"
             ],
             [
              0.4444444444444444,
              "#bd3786"
             ],
             [
              0.5555555555555556,
              "#d8576b"
             ],
             [
              0.6666666666666666,
              "#ed7953"
             ],
             [
              0.7777777777777778,
              "#fb9f3a"
             ],
             [
              0.8888888888888888,
              "#fdca26"
             ],
             [
              1,
              "#f0f921"
             ]
            ],
            "type": "heatmap"
           }
          ],
          "heatmapgl": [
           {
            "colorbar": {
             "outlinewidth": 0,
             "ticks": ""
            },
            "colorscale": [
             [
              0,
              "#0d0887"
             ],
             [
              0.1111111111111111,
              "#46039f"
             ],
             [
              0.2222222222222222,
              "#7201a8"
             ],
             [
              0.3333333333333333,
              "#9c179e"
             ],
             [
              0.4444444444444444,
              "#bd3786"
             ],
             [
              0.5555555555555556,
              "#d8576b"
             ],
             [
              0.6666666666666666,
              "#ed7953"
             ],
             [
              0.7777777777777778,
              "#fb9f3a"
             ],
             [
              0.8888888888888888,
              "#fdca26"
             ],
             [
              1,
              "#f0f921"
             ]
            ],
            "type": "heatmapgl"
           }
          ],
          "histogram": [
           {
            "marker": {
             "pattern": {
              "fillmode": "overlay",
              "size": 10,
              "solidity": 0.2
             }
            },
            "type": "histogram"
           }
          ],
          "histogram2d": [
           {
            "colorbar": {
             "outlinewidth": 0,
             "ticks": ""
            },
            "colorscale": [
             [
              0,
              "#0d0887"
             ],
             [
              0.1111111111111111,
              "#46039f"
             ],
             [
              0.2222222222222222,
              "#7201a8"
             ],
             [
              0.3333333333333333,
              "#9c179e"
             ],
             [
              0.4444444444444444,
              "#bd3786"
             ],
             [
              0.5555555555555556,
              "#d8576b"
             ],
             [
              0.6666666666666666,
              "#ed7953"
             ],
             [
              0.7777777777777778,
              "#fb9f3a"
             ],
             [
              0.8888888888888888,
              "#fdca26"
             ],
             [
              1,
              "#f0f921"
             ]
            ],
            "type": "histogram2d"
           }
          ],
          "histogram2dcontour": [
           {
            "colorbar": {
             "outlinewidth": 0,
             "ticks": ""
            },
            "colorscale": [
             [
              0,
              "#0d0887"
             ],
             [
              0.1111111111111111,
              "#46039f"
             ],
             [
              0.2222222222222222,
              "#7201a8"
             ],
             [
              0.3333333333333333,
              "#9c179e"
             ],
             [
              0.4444444444444444,
              "#bd3786"
             ],
             [
              0.5555555555555556,
              "#d8576b"
             ],
             [
              0.6666666666666666,
              "#ed7953"
             ],
             [
              0.7777777777777778,
              "#fb9f3a"
             ],
             [
              0.8888888888888888,
              "#fdca26"
             ],
             [
              1,
              "#f0f921"
             ]
            ],
            "type": "histogram2dcontour"
           }
          ],
          "mesh3d": [
           {
            "colorbar": {
             "outlinewidth": 0,
             "ticks": ""
            },
            "type": "mesh3d"
           }
          ],
          "parcoords": [
           {
            "line": {
             "colorbar": {
              "outlinewidth": 0,
              "ticks": ""
             }
            },
            "type": "parcoords"
           }
          ],
          "pie": [
           {
            "automargin": true,
            "type": "pie"
           }
          ],
          "scatter": [
           {
            "fillpattern": {
             "fillmode": "overlay",
             "size": 10,
             "solidity": 0.2
            },
            "type": "scatter"
           }
          ],
          "scatter3d": [
           {
            "line": {
             "colorbar": {
              "outlinewidth": 0,
              "ticks": ""
             }
            },
            "marker": {
             "colorbar": {
              "outlinewidth": 0,
              "ticks": ""
             }
            },
            "type": "scatter3d"
           }
          ],
          "scattercarpet": [
           {
            "marker": {
             "colorbar": {
              "outlinewidth": 0,
              "ticks": ""
             }
            },
            "type": "scattercarpet"
           }
          ],
          "scattergeo": [
           {
            "marker": {
             "colorbar": {
              "outlinewidth": 0,
              "ticks": ""
             }
            },
            "type": "scattergeo"
           }
          ],
          "scattergl": [
           {
            "marker": {
             "colorbar": {
              "outlinewidth": 0,
              "ticks": ""
             }
            },
            "type": "scattergl"
           }
          ],
          "scattermapbox": [
           {
            "marker": {
             "colorbar": {
              "outlinewidth": 0,
              "ticks": ""
             }
            },
            "type": "scattermapbox"
           }
          ],
          "scatterpolar": [
           {
            "marker": {
             "colorbar": {
              "outlinewidth": 0,
              "ticks": ""
             }
            },
            "type": "scatterpolar"
           }
          ],
          "scatterpolargl": [
           {
            "marker": {
             "colorbar": {
              "outlinewidth": 0,
              "ticks": ""
             }
            },
            "type": "scatterpolargl"
           }
          ],
          "scatterternary": [
           {
            "marker": {
             "colorbar": {
              "outlinewidth": 0,
              "ticks": ""
             }
            },
            "type": "scatterternary"
           }
          ],
          "surface": [
           {
            "colorbar": {
             "outlinewidth": 0,
             "ticks": ""
            },
            "colorscale": [
             [
              0,
              "#0d0887"
             ],
             [
              0.1111111111111111,
              "#46039f"
             ],
             [
              0.2222222222222222,
              "#7201a8"
             ],
             [
              0.3333333333333333,
              "#9c179e"
             ],
             [
              0.4444444444444444,
              "#bd3786"
             ],
             [
              0.5555555555555556,
              "#d8576b"
             ],
             [
              0.6666666666666666,
              "#ed7953"
             ],
             [
              0.7777777777777778,
              "#fb9f3a"
             ],
             [
              0.8888888888888888,
              "#fdca26"
             ],
             [
              1,
              "#f0f921"
             ]
            ],
            "type": "surface"
           }
          ],
          "table": [
           {
            "cells": {
             "fill": {
              "color": "#EBF0F8"
             },
             "line": {
              "color": "white"
             }
            },
            "header": {
             "fill": {
              "color": "#C8D4E3"
             },
             "line": {
              "color": "white"
             }
            },
            "type": "table"
           }
          ]
         },
         "layout": {
          "annotationdefaults": {
           "arrowcolor": "#2a3f5f",
           "arrowhead": 0,
           "arrowwidth": 1
          },
          "autotypenumbers": "strict",
          "coloraxis": {
           "colorbar": {
            "outlinewidth": 0,
            "ticks": ""
           }
          },
          "colorscale": {
           "diverging": [
            [
             0,
             "#8e0152"
            ],
            [
             0.1,
             "#c51b7d"
            ],
            [
             0.2,
             "#de77ae"
            ],
            [
             0.3,
             "#f1b6da"
            ],
            [
             0.4,
             "#fde0ef"
            ],
            [
             0.5,
             "#f7f7f7"
            ],
            [
             0.6,
             "#e6f5d0"
            ],
            [
             0.7,
             "#b8e186"
            ],
            [
             0.8,
             "#7fbc41"
            ],
            [
             0.9,
             "#4d9221"
            ],
            [
             1,
             "#276419"
            ]
           ],
           "sequential": [
            [
             0,
             "#0d0887"
            ],
            [
             0.1111111111111111,
             "#46039f"
            ],
            [
             0.2222222222222222,
             "#7201a8"
            ],
            [
             0.3333333333333333,
             "#9c179e"
            ],
            [
             0.4444444444444444,
             "#bd3786"
            ],
            [
             0.5555555555555556,
             "#d8576b"
            ],
            [
             0.6666666666666666,
             "#ed7953"
            ],
            [
             0.7777777777777778,
             "#fb9f3a"
            ],
            [
             0.8888888888888888,
             "#fdca26"
            ],
            [
             1,
             "#f0f921"
            ]
           ],
           "sequentialminus": [
            [
             0,
             "#0d0887"
            ],
            [
             0.1111111111111111,
             "#46039f"
            ],
            [
             0.2222222222222222,
             "#7201a8"
            ],
            [
             0.3333333333333333,
             "#9c179e"
            ],
            [
             0.4444444444444444,
             "#bd3786"
            ],
            [
             0.5555555555555556,
             "#d8576b"
            ],
            [
             0.6666666666666666,
             "#ed7953"
            ],
            [
             0.7777777777777778,
             "#fb9f3a"
            ],
            [
             0.8888888888888888,
             "#fdca26"
            ],
            [
             1,
             "#f0f921"
            ]
           ]
          },
          "colorway": [
           "#636efa",
           "#EF553B",
           "#00cc96",
           "#ab63fa",
           "#FFA15A",
           "#19d3f3",
           "#FF6692",
           "#B6E880",
           "#FF97FF",
           "#FECB52"
          ],
          "font": {
           "color": "#2a3f5f"
          },
          "geo": {
           "bgcolor": "white",
           "lakecolor": "white",
           "landcolor": "#E5ECF6",
           "showlakes": true,
           "showland": true,
           "subunitcolor": "white"
          },
          "hoverlabel": {
           "align": "left"
          },
          "hovermode": "closest",
          "mapbox": {
           "style": "light"
          },
          "paper_bgcolor": "white",
          "plot_bgcolor": "#E5ECF6",
          "polar": {
           "angularaxis": {
            "gridcolor": "white",
            "linecolor": "white",
            "ticks": ""
           },
           "bgcolor": "#E5ECF6",
           "radialaxis": {
            "gridcolor": "white",
            "linecolor": "white",
            "ticks": ""
           }
          },
          "scene": {
           "xaxis": {
            "backgroundcolor": "#E5ECF6",
            "gridcolor": "white",
            "gridwidth": 2,
            "linecolor": "white",
            "showbackground": true,
            "ticks": "",
            "zerolinecolor": "white"
           },
           "yaxis": {
            "backgroundcolor": "#E5ECF6",
            "gridcolor": "white",
            "gridwidth": 2,
            "linecolor": "white",
            "showbackground": true,
            "ticks": "",
            "zerolinecolor": "white"
           },
           "zaxis": {
            "backgroundcolor": "#E5ECF6",
            "gridcolor": "white",
            "gridwidth": 2,
            "linecolor": "white",
            "showbackground": true,
            "ticks": "",
            "zerolinecolor": "white"
           }
          },
          "shapedefaults": {
           "line": {
            "color": "#2a3f5f"
           }
          },
          "ternary": {
           "aaxis": {
            "gridcolor": "white",
            "linecolor": "white",
            "ticks": ""
           },
           "baxis": {
            "gridcolor": "white",
            "linecolor": "white",
            "ticks": ""
           },
           "bgcolor": "#E5ECF6",
           "caxis": {
            "gridcolor": "white",
            "linecolor": "white",
            "ticks": ""
           }
          },
          "title": {
           "x": 0.05
          },
          "xaxis": {
           "automargin": true,
           "gridcolor": "white",
           "linecolor": "white",
           "ticks": "",
           "title": {
            "standoff": 15
           },
           "zerolinecolor": "white",
           "zerolinewidth": 2
          },
          "yaxis": {
           "automargin": true,
           "gridcolor": "white",
           "linecolor": "white",
           "ticks": "",
           "title": {
            "standoff": 15
           },
           "zerolinecolor": "white",
           "zerolinewidth": 2
          }
         }
        },
        "title": {
         "text": "Correlation Heatmap"
        },
        "xaxis": {
         "anchor": "y",
         "constrain": "domain",
         "domain": [
          0,
          1
         ],
         "scaleanchor": "y",
         "title": {
          "text": "Features"
         }
        },
        "yaxis": {
         "anchor": "x",
         "autorange": "reversed",
         "constrain": "domain",
         "domain": [
          0,
          1
         ],
         "title": {
          "text": "Features"
         }
        }
       }
      }
     },
     "metadata": {},
     "output_type": "display_data"
    }
   ],
   "source": [
    "dfplot = df.copy()\n",
    "dfplot['native_country'] = np.where(dfplot['native_country']==\" United-States\",\"US\",\"NON-US\")\n",
    "dfplot = pd.get_dummies(dfplot)\n",
    "fig = px.imshow(dfplot.corr(),color_continuous_scale='BrBG')\n",
    "fig.update_layout(\n",
    "    title=\"Correlation Heatmap\",\n",
    "    xaxis_title=\"Features\",\n",
    "    yaxis_title=\"Features\",\n",
    "    height = 1100\n",
    ")\n",
    "fig.show()"
   ]
  },
  {
   "attachments": {},
   "cell_type": "markdown",
   "metadata": {},
   "source": [
    "##### Converting Categorical attributes to Numerical"
   ]
  },
  {
   "cell_type": "code",
   "execution_count": 66,
   "metadata": {},
   "outputs": [],
   "source": [
    "df['native_country'] = np.where(df['native_country']==\" United-States\",\"US\",\"NON-US\")\n",
    "\n",
    "#Label Encoding\n",
    "features_to_encode = [\"workclass\",\"education\"]\n",
    "le = LabelEncoder()\n",
    "for feature in features_to_encode:\n",
    "    le = LabelEncoder()\n",
    "    encoded_feature = le.fit_transform(df[feature])\n",
    "    df[feature] = encoded_feature\n",
    "\n",
    "# One-Hot Encoding\n",
    "df = pd.get_dummies(df)"
   ]
  },
  {
   "attachments": {},
   "cell_type": "markdown",
   "metadata": {},
   "source": [
    "##### Feature Scaling"
   ]
  },
  {
   "cell_type": "code",
   "execution_count": 67,
   "metadata": {},
   "outputs": [],
   "source": [
    "X = df.drop('income',axis=1)\n",
    "scaler = StandardScaler()\n",
    "X_Scaled = scaler.fit_transform(X)\n",
    "Y=df.income\n",
    "X=X_Scaled\n"
   ]
  },
  {
   "attachments": {},
   "cell_type": "markdown",
   "metadata": {},
   "source": [
    "## **4. Model Building using Different classifiers**"
   ]
  },
  {
   "attachments": {},
   "cell_type": "markdown",
   "metadata": {},
   "source": [
    "##### Logistic Regression Model"
   ]
  },
  {
   "cell_type": "code",
   "execution_count": 68,
   "metadata": {},
   "outputs": [],
   "source": [
    "LRModel = LogisticRegression()\n",
    "def logisticReg(x_train,x_test,y_train,y_test):\n",
    "    LRModel.fit(x_train,y_train)\n",
    "    y_pred = LRModel.predict(x_test)\n",
    "    return confusion_matrix(y_test,y_pred)\n"
   ]
  },
  {
   "attachments": {},
   "cell_type": "markdown",
   "metadata": {},
   "source": [
    "##### K- Nearest  Neighbour Classifier"
   ]
  },
  {
   "cell_type": "code",
   "execution_count": 69,
   "metadata": {},
   "outputs": [],
   "source": [
    "knn = KNeighborsClassifier(n_neighbors = 5)\n",
    "def KNearestNeighbours(x_train,x_test,y_train,y_test):\n",
    "    knn.fit(x_train, y_train) \n",
    "    y_pred = knn.predict(x_test)\n",
    "    return confusion_matrix(y_test,y_pred)"
   ]
  },
  {
   "attachments": {},
   "cell_type": "markdown",
   "metadata": {},
   "source": [
    "##### Decision Tree Classifier"
   ]
  },
  {
   "cell_type": "code",
   "execution_count": 70,
   "metadata": {},
   "outputs": [],
   "source": [
    "\n",
    "decision_tree = DecisionTreeClassifier()\n",
    "def decisionTree(x_train,x_test,y_train,y_test):\n",
    "    decision_tree.fit(x_train, y_train)\n",
    "    y_pred = decision_tree.predict(x_test)\n",
    "    return confusion_matrix(y_test,y_pred)"
   ]
  },
  {
   "attachments": {},
   "cell_type": "markdown",
   "metadata": {},
   "source": [
    "##### Gaussian Naive Bayes Classifier"
   ]
  },
  {
   "cell_type": "code",
   "execution_count": 71,
   "metadata": {},
   "outputs": [],
   "source": [
    "gb = GaussianNB()\n",
    "def naiveBayes(x_train,x_test,y_train,y_test):\n",
    "    gb.fit(x_train, y_train)\n",
    "    y_pred = gb.predict(x_test)\n",
    "    return confusion_matrix(y_test,y_pred)"
   ]
  },
  {
   "attachments": {},
   "cell_type": "markdown",
   "metadata": {},
   "source": [
    "##### K-Fold Cross Validation"
   ]
  },
  {
   "cell_type": "code",
   "execution_count": 72,
   "metadata": {},
   "outputs": [
    {
     "data": {
      "image/png": "[encoded data removed]",
      "text/plain": [
       "<Figure size 1500x1500 with 8 Axes>"
      ]
     },
     "metadata": {},
     "output_type": "display_data"
    }
   ],
   "source": [
    "LRConfusionMatrix = 0\n",
    "KNNConfusionMatrix = 0\n",
    "DTConfusionMatrix = 0\n",
    "NBConfusionMatrix = 0\n",
    "f = KFold(n_splits = 5)\n",
    "for train_index,test_index in f.split(X):\n",
    "\n",
    "    x_train=X[train_index]\n",
    "    x_test=X[test_index]\n",
    "    y_train=Y.iloc[train_index]\n",
    "    y_test=Y.iloc[test_index]\n",
    "\n",
    "    # Logistic Regression\n",
    "    temp = logisticReg(x_train,x_test,y_train,y_test)\n",
    "    LRConfusionMatrix = LRConfusionMatrix + temp\n",
    "    \n",
    "    # K-Nearest Neighbours\n",
    "    temp = KNearestNeighbours(x_train,x_test,y_train,y_test)\n",
    "    KNNConfusionMatrix = KNNConfusionMatrix + temp\n",
    "    \n",
    "    # Decision Tree Classifier\n",
    "    temp = decisionTree(x_train,x_test,y_train,y_test)\n",
    "    DTConfusionMatrix = DTConfusionMatrix + temp\n",
    "    \n",
    "    # Gaussian Naive Bayes Classifier\n",
    "    temp = naiveBayes(x_train,x_test,y_train,y_test)\n",
    "    NBConfusionMatrix = NBConfusionMatrix + temp\n",
    "    \n",
    "fig,((ax1,ax2),(ax3,ax4)) = plt.subplots(2,2,figsize=(15,15))\n",
    "ConfusionMatrixDisplay(LRConfusionMatrix,display_labels = [True,False]).plot(ax = ax1,cmap='GnBu')\n",
    "ax1.title.set_text(\"Logistic Regression\")\n",
    "ConfusionMatrixDisplay(KNNConfusionMatrix,display_labels = [True,False]).plot(ax = ax2,cmap='GnBu')\n",
    "ax2.title.set_text(\"K-Nearest Neighbours Classifier\")\n",
    "ConfusionMatrixDisplay(DTConfusionMatrix,display_labels = [True,False]).plot(ax = ax3 , cmap='GnBu')\n",
    "ax3.title.set_text(\"Decision Tree Classifier\")\n",
    "ConfusionMatrixDisplay(NBConfusionMatrix,display_labels = [True,False]).plot(ax = ax4 , cmap='GnBu')\n",
    "ax4.title.set_text(\"Naive Bayes Classifier\")\n",
    "plt.show()\n",
    "\n"
   ]
  },
  {
   "attachments": {},
   "cell_type": "markdown",
   "metadata": {},
   "source": [
    "## **5. Performance of Different Models**"
   ]
  },
  {
   "attachments": {},
   "cell_type": "markdown",
   "metadata": {},
   "source": [
    "##### Calculation of different parameters for each model"
   ]
  },
  {
   "cell_type": "code",
   "execution_count": 73,
   "metadata": {},
   "outputs": [
    {
     "data": {
      "application/vnd.plotly.v1+json": {
       "config": {
        "plotlyServerURL": "https://plot.ly"
       },
       "data": [
        {
         "alignmentgroup": "True",
         "hovertemplate": "Parameter=Precision<br>Value=%{text}<br>Classifier=%{y}<extra></extra>",
         "legendgroup": "Precision",
         "marker": {
          "color": "#636efa",
          "pattern": {
           "shape": ""
          }
         },
         "name": "Precision",
         "offsetgroup": "Precision",
         "orientation": "h",
         "showlegend": true,
         "text": [
          0.879,
          0.871,
          0.879,
          0.95
         ],
         "textposition": "auto",
         "type": "bar",
         "x": [
          0.879,
          0.871,
          0.879,
          0.95
         ],
         "xaxis": "x",
         "y": [
          "Logistic Regression",
          "K-Nearest Neighbours",
          "Decision Tree",
          "Naive Bayes"
         ],
         "yaxis": "y"
        },
        {
         "alignmentgroup": "True",
         "hovertemplate": "Parameter=Recall<br>Value=%{text}<br>Classifier=%{y}<extra></extra>",
         "legendgroup": "Recall",
         "marker": {
          "color": "#EF553B",
          "pattern": {
           "shape": ""
          }
         },
         "name": "Recall",
         "offsetgroup": "Recall",
         "orientation": "h",
         "showlegend": true,
         "text": [
          0.93,
          0.909,
          0.874,
          0.672
         ],
         "textposition": "auto",
         "type": "bar",
         "x": [
          0.93,
          0.909,
          0.874,
          0.672
         ],
         "xaxis": "x",
         "y": [
          "Logistic Regression",
          "K-Nearest Neighbours",
          "Decision Tree",
          "Naive Bayes"
         ],
         "yaxis": "y"
        },
        {
         "alignmentgroup": "True",
         "hovertemplate": "Parameter=F1-Score<br>Value=%{text}<br>Classifier=%{y}<extra></extra>",
         "legendgroup": "F1-Score",
         "marker": {
          "color": "#00cc96",
          "pattern": {
           "shape": ""
          }
         },
         "name": "F1-Score",
         "offsetgroup": "F1-Score",
         "orientation": "h",
         "showlegend": true,
         "text": [
          0.904,
          0.89,
          0.876,
          0.787
         ],
         "textposition": "auto",
         "type": "bar",
         "x": [
          0.904,
          0.89,
          0.876,
          0.787
         ],
         "xaxis": "x",
         "y": [
          "Logistic Regression",
          "K-Nearest Neighbours",
          "Decision Tree",
          "Naive Bayes"
         ],
         "yaxis": "y"
        },
        {
         "alignmentgroup": "True",
         "hovertemplate": "Parameter=Accuracy<br>Value=%{text}<br>Classifier=%{y}<extra></extra>",
         "legendgroup": "Accuracy",
         "marker": {
          "color": "#ab63fa",
          "pattern": {
           "shape": ""
          }
         },
         "name": "Accuracy",
         "offsetgroup": "Accuracy",
         "orientation": "h",
         "showlegend": true,
         "text": [
          0.849,
          0.829,
          0.813,
          0.724
         ],
         "textposition": "auto",
         "type": "bar",
         "x": [
          0.849,
          0.829,
          0.813,
          0.724
         ],
         "xaxis": "x",
         "y": [
          "Logistic Regression",
          "K-Nearest Neighbours",
          "Decision Tree",
          "Naive Bayes"
         ],
         "yaxis": "y"
        }
       ],
       "layout": {
        "barmode": "group",
        "height": 600,
        "hoverlabel": {
         "bgcolor": "mistyrose",
         "font": {
          "size": 15
         }
        },
        "legend": {
         "title": {
          "text": "Parameter"
         },
         "tracegroupgap": 0
        },
        "margin": {
         "t": 60
        },
        "template": {
         "data": {
          "bar": [
           {
            "error_x": {
             "color": "#2a3f5f"
            },
            "error_y": {
             "color": "#2a3f5f"
            },
            "marker": {
             "line": {
              "color": "#E5ECF6",
              "width": 0.5
             },
             "pattern": {
              "fillmode": "overlay",
              "size": 10,
              "solidity": 0.2
             }
            },
            "type": "bar"
           }
          ],
          "barpolar": [
           {
            "marker": {
             "line": {
              "color": "#E5ECF6",
              "width": 0.5
             },
             "pattern": {
              "fillmode": "overlay",
              "size": 10,
              "solidity": 0.2
             }
            },
            "type": "barpolar"
           }
          ],
          "carpet": [
           {
            "aaxis": {
             "endlinecolor": "#2a3f5f",
             "gridcolor": "white",
             "linecolor": "white",
             "minorgridcolor": "white",
             "startlinecolor": "#2a3f5f"
            },
            "baxis": {
             "endlinecolor": "#2a3f5f",
             "gridcolor": "white",
             "linecolor": "white",
             "minorgridcolor": "white",
             "startlinecolor": "#2a3f5f"
            },
            "type": "carpet"
           }
          ],
          "choropleth": [
           {
            "colorbar": {
             "outlinewidth": 0,
             "ticks": ""
            },
            "type": "choropleth"
           }
          ],
          "contour": [
           {
            "colorbar": {
             "outlinewidth": 0,
             "ticks": ""
            },
            "colorscale": [
             [
              0,
              "#0d0887"
             ],
             [
              0.1111111111111111,
              "#46039f"
             ],
             [
              0.2222222222222222,
              "#7201a8"
             ],
             [
              0.3333333333333333,
              "#9c179e"
             ],
             [
              0.4444444444444444,
              "#bd3786"
             ],
             [
              0.5555555555555556,
              "#d8576b"
             ],
             [
              0.6666666666666666,
              "#ed7953"
             ],
             [
              0.7777777777777778,
              "#fb9f3a"
             ],
             [
              0.8888888888888888,
              "#fdca26"
             ],
             [
              1,
              "#f0f921"
             ]
            ],
            "type": "contour"
           }
          ],
          "contourcarpet": [
           {
            "colorbar": {
             "outlinewidth": 0,
             "ticks": ""
            },
            "type": "contourcarpet"
           }
          ],
          "heatmap": [
           {
            "colorbar": {
             "outlinewidth": 0,
             "ticks": ""
            },
            "colorscale": [
             [
              0,
              "#0d0887"
             ],
             [
              0.1111111111111111,
              "#46039f"
             ],
             [
              0.2222222222222222,
              "#7201a8"
             ],
             [
              0.3333333333333333,
              "#9c179e"
             ],
             [
              0.4444444444444444,
              "#bd3786"
             ],
             [
              0.5555555555555556,
              "#d8576b"
             ],
             [
              0.6666666666666666,
              "#ed7953"
             ],
             [
              0.7777777777777778,
              "#fb9f3a"
             ],
             [
              0.8888888888888888,
              "#fdca26"
             ],
             [
              1,
              "#f0f921"
             ]
            ],
            "type": "heatmap"
           }
          ],
          "heatmapgl": [
           {
            "colorbar": {
             "outlinewidth": 0,
             "ticks": ""
            },
            "colorscale": [
             [
              0,
              "#0d0887"
             ],
             [
              0.1111111111111111,
              "#46039f"
             ],
             [
              0.2222222222222222,
              "#7201a8"
             ],
             [
              0.3333333333333333,
              "#9c179e"
             ],
             [
              0.4444444444444444,
              "#bd3786"
             ],
             [
              0.5555555555555556,
              "#d8576b"
             ],
             [
              0.6666666666666666,
              "#ed7953"
             ],
             [
              0.7777777777777778,
              "#fb9f3a"
             ],
             [
              0.8888888888888888,
              "#fdca26"
             ],
             [
              1,
              "#f0f921"
             ]
            ],
            "type": "heatmapgl"
           }
          ],
          "histogram": [
           {
            "marker": {
             "pattern": {
              "fillmode": "overlay",
              "size": 10,
              "solidity": 0.2
             }
            },
            "type": "histogram"
           }
          ],
          "histogram2d": [
           {
            "colorbar": {
             "outlinewidth": 0,
             "ticks": ""
            },
            "colorscale": [
             [
              0,
              "#0d0887"
             ],
             [
              0.1111111111111111,
              "#46039f"
             ],
             [
              0.2222222222222222,
              "#7201a8"
             ],
             [
              0.3333333333333333,
              "#9c179e"
             ],
             [
              0.4444444444444444,
              "#bd3786"
             ],
             [
              0.5555555555555556,
              "#d8576b"
             ],
             [
              0.6666666666666666,
              "#ed7953"
             ],
             [
              0.7777777777777778,
              "#fb9f3a"
             ],
             [
              0.8888888888888888,
              "#fdca26"
             ],
             [
              1,
              "#f0f921"
             ]
            ],
            "type": "histogram2d"
           }
          ],
          "histogram2dcontour": [
           {
            "colorbar": {
             "outlinewidth": 0,
             "ticks": ""
            },
            "colorscale": [
             [
              0,
              "#0d0887"
             ],
             [
              0.1111111111111111,
              "#46039f"
             ],
             [
              0.2222222222222222,
              "#7201a8"
             ],
             [
              0.3333333333333333,
              "#9c179e"
             ],
             [
              0.4444444444444444,
              "#bd3786"
             ],
             [
              0.5555555555555556,
              "#d8576b"
             ],
             [
              0.6666666666666666,
              "#ed7953"
             ],
             [
              0.7777777777777778,
              "#fb9f3a"
             ],
             [
              0.8888888888888888,
              "#fdca26"
             ],
             [
              1,
              "#f0f921"
             ]
            ],
            "type": "histogram2dcontour"
           }
          ],
          "mesh3d": [
           {
            "colorbar": {
             "outlinewidth": 0,
             "ticks": ""
            },
            "type": "mesh3d"
           }
          ],
          "parcoords": [
           {
            "line": {
             "colorbar": {
              "outlinewidth": 0,
              "ticks": ""
             }
            },
            "type": "parcoords"
           }
          ],
          "pie": [
           {
            "automargin": true,
            "type": "pie"
           }
          ],
          "scatter": [
           {
            "fillpattern": {
             "fillmode": "overlay",
             "size": 10,
             "solidity": 0.2
            },
            "type": "scatter"
           }
          ],
          "scatter3d": [
           {
            "line": {
             "colorbar": {
              "outlinewidth": 0,
              "ticks": ""
             }
            },
            "marker": {
             "colorbar": {
              "outlinewidth": 0,
              "ticks": ""
             }
            },
            "type": "scatter3d"
           }
          ],
          "scattercarpet": [
           {
            "marker": {
             "colorbar": {
              "outlinewidth": 0,
              "ticks": ""
             }
            },
            "type": "scattercarpet"
           }
          ],
          "scattergeo": [
           {
            "marker": {
             "colorbar": {
              "outlinewidth": 0,
              "ticks": ""
             }
            },
            "type": "scattergeo"
           }
          ],
          "scattergl": [
           {
            "marker": {
             "colorbar": {
              "outlinewidth": 0,
              "ticks": ""
             }
            },
            "type": "scattergl"
           }
          ],
          "scattermapbox": [
           {
            "marker": {
             "colorbar": {
              "outlinewidth": 0,
              "ticks": ""
             }
            },
            "type": "scattermapbox"
           }
          ],
          "scatterpolar": [
           {
            "marker": {
             "colorbar": {
              "outlinewidth": 0,
              "ticks": ""
             }
            },
            "type": "scatterpolar"
           }
          ],
          "scatterpolargl": [
           {
            "marker": {
             "colorbar": {
              "outlinewidth": 0,
              "ticks": ""
             }
            },
            "type": "scatterpolargl"
           }
          ],
          "scatterternary": [
           {
            "marker": {
             "colorbar": {
              "outlinewidth": 0,
              "ticks": ""
             }
            },
            "type": "scatterternary"
           }
          ],
          "surface": [
           {
            "colorbar": {
             "outlinewidth": 0,
             "ticks": ""
            },
            "colorscale": [
             [
              0,
              "#0d0887"
             ],
             [
              0.1111111111111111,
              "#46039f"
             ],
             [
              0.2222222222222222,
              "#7201a8"
             ],
             [
              0.3333333333333333,
              "#9c179e"
             ],
             [
              0.4444444444444444,
              "#bd3786"
             ],
             [
              0.5555555555555556,
              "#d8576b"
             ],
             [
              0.6666666666666666,
              "#ed7953"
             ],
             [
              0.7777777777777778,
              "#fb9f3a"
             ],
             [
              0.8888888888888888,
              "#fdca26"
             ],
             [
              1,
              "#f0f921"
             ]
            ],
            "type": "surface"
           }
          ],
          "table": [
           {
            "cells": {
             "fill": {
              "color": "#EBF0F8"
             },
             "line": {
              "color": "white"
             }
            },
            "header": {
             "fill": {
              "color": "#C8D4E3"
             },
             "line": {
              "color": "white"
             }
            },
            "type": "table"
           }
          ]
         },
         "layout": {
          "annotationdefaults": {
           "arrowcolor": "#2a3f5f",
           "arrowhead": 0,
           "arrowwidth": 1
          },
          "autotypenumbers": "strict",
          "coloraxis": {
           "colorbar": {
            "outlinewidth": 0,
            "ticks": ""
           }
          },
          "colorscale": {
           "diverging": [
            [
             0,
             "#8e0152"
            ],
            [
             0.1,
             "#c51b7d"
            ],
            [
             0.2,
             "#de77ae"
            ],
            [
             0.3,
             "#f1b6da"
            ],
            [
             0.4,
             "#fde0ef"
            ],
            [
             0.5,
             "#f7f7f7"
            ],
            [
             0.6,
             "#e6f5d0"
            ],
            [
             0.7,
             "#b8e186"
            ],
            [
             0.8,
             "#7fbc41"
            ],
            [
             0.9,
             "#4d9221"
            ],
            [
             1,
             "#276419"
            ]
           ],
           "sequential": [
            [
             0,
             "#0d0887"
            ],
            [
             0.1111111111111111,
             "#46039f"
            ],
            [
             0.2222222222222222,
             "#7201a8"
            ],
            [
             0.3333333333333333,
             "#9c179e"
            ],
            [
             0.4444444444444444,
             "#bd3786"
            ],
            [
             0.5555555555555556,
             "#d8576b"
            ],
            [
             0.6666666666666666,
             "#ed7953"
            ],
            [
             0.7777777777777778,
             "#fb9f3a"
            ],
            [
             0.8888888888888888,
             "#fdca26"
            ],
            [
             1,
             "#f0f921"
            ]
           ],
           "sequentialminus": [
            [
             0,
             "#0d0887"
            ],
            [
             0.1111111111111111,
             "#46039f"
            ],
            [
             0.2222222222222222,
             "#7201a8"
            ],
            [
             0.3333333333333333,
             "#9c179e"
            ],
            [
             0.4444444444444444,
             "#bd3786"
            ],
            [
             0.5555555555555556,
             "#d8576b"
            ],
            [
             0.6666666666666666,
             "#ed7953"
            ],
            [
             0.7777777777777778,
             "#fb9f3a"
            ],
            [
             0.8888888888888888,
             "#fdca26"
            ],
            [
             1,
             "#f0f921"
            ]
           ]
          },
          "colorway": [
           "#636efa",
           "#EF553B",
           "#00cc96",
           "#ab63fa",
           "#FFA15A",
           "#19d3f3",
           "#FF6692",
           "#B6E880",
           "#FF97FF",
           "#FECB52"
          ],
          "font": {
           "color": "#2a3f5f"
          },
          "geo": {
           "bgcolor": "white",
           "lakecolor": "white",
           "landcolor": "#E5ECF6",
           "showlakes": true,
           "showland": true,
           "subunitcolor": "white"
          },
          "hoverlabel": {
           "align": "left"
          },
          "hovermode": "closest",
          "mapbox": {
           "style": "light"
          },
          "paper_bgcolor": "white",
          "plot_bgcolor": "#E5ECF6",
          "polar": {
           "angularaxis": {
            "gridcolor": "white",
            "linecolor": "white",
            "ticks": ""
           },
           "bgcolor": "#E5ECF6",
           "radialaxis": {
            "gridcolor": "white",
            "linecolor": "white",
            "ticks": ""
           }
          },
          "scene": {
           "xaxis": {
            "backgroundcolor": "#E5ECF6",
            "gridcolor": "white",
            "gridwidth": 2,
            "linecolor": "white",
            "showbackground": true,
            "ticks": "",
            "zerolinecolor": "white"
           },
           "yaxis": {
            "backgroundcolor": "#E5ECF6",
            "gridcolor": "white",
            "gridwidth": 2,
            "linecolor": "white",
            "showbackground": true,
            "ticks": "",
            "zerolinecolor": "white"
           },
           "zaxis": {
            "backgroundcolor": "#E5ECF6",
            "gridcolor": "white",
            "gridwidth": 2,
            "linecolor": "white",
            "showbackground": true,
            "ticks": "",
            "zerolinecolor": "white"
           }
          },
          "shapedefaults": {
           "line": {
            "color": "#2a3f5f"
           }
          },
          "ternary": {
           "aaxis": {
            "gridcolor": "white",
            "linecolor": "white",
            "ticks": ""
           },
           "baxis": {
            "gridcolor": "white",
            "linecolor": "white",
            "ticks": ""
           },
           "bgcolor": "#E5ECF6",
           "caxis": {
            "gridcolor": "white",
            "linecolor": "white",
            "ticks": ""
           }
          },
          "title": {
           "x": 0.05
          },
          "xaxis": {
           "automargin": true,
           "gridcolor": "white",
           "linecolor": "white",
           "ticks": "",
           "title": {
            "standoff": 15
           },
           "zerolinecolor": "white",
           "zerolinewidth": 2
          },
          "yaxis": {
           "automargin": true,
           "gridcolor": "white",
           "linecolor": "white",
           "ticks": "",
           "title": {
            "standoff": 15
           },
           "zerolinecolor": "white",
           "zerolinewidth": 2
          }
         }
        },
        "title": {
         "text": "Model Parameters Graph"
        },
        "xaxis": {
         "anchor": "y",
         "domain": [
          0,
          1
         ],
         "title": {
          "text": "Value"
         }
        },
        "yaxis": {
         "anchor": "x",
         "domain": [
          0,
          1
         ],
         "title": {
          "text": "Classifiers"
         }
        }
       }
      }
     },
     "metadata": {},
     "output_type": "display_data"
    }
   ],
   "source": [
    "# Calcualtion of different parameters for each classifier\n",
    "def calculate_scores(confusionMatrix):\n",
    "    TP = confusionMatrix[0][0]\n",
    "    FP = confusionMatrix[0][1]\n",
    "    FN = confusionMatrix[1][0]\n",
    "    TN = confusionMatrix[1][1]\n",
    "    precision = round(TP/(TP+FN),3)\n",
    "    recall = round(TP/(TP+FP),3)\n",
    "    f1 = round((2*precision*recall) / (precision + recall),3)\n",
    "    accuracy = round((TP+TN) / (TP + FP + TN + FN),3)\n",
    "    return precision,recall,f1,accuracy\n",
    "\n",
    "LRpr,LRre,LRf1,LRac = calculate_scores(LRConfusionMatrix)\n",
    "KNNpr,KNNre,KNNf1,KNNac = calculate_scores(KNNConfusionMatrix)\n",
    "DTpr,DTre,DTf1,DTac= calculate_scores(DTConfusionMatrix)\n",
    "NBpr,NBre,NBf1,NBac = calculate_scores(NBConfusionMatrix)\n",
    "\n",
    "# Plotting the graph of all the calculated metrics\n",
    "data = {\n",
    "    'Classifier' : ['Logistic Regression','K-Nearest Neighbours','Decision Tree','Naive Bayes'],\n",
    "    'Precision' : [LRpr,KNNpr,DTpr,NBpr],\n",
    "    'Recall' : [LRre,KNNre,DTre,NBre],\n",
    "    'F1-Score' : [LRf1,KNNf1,DTf1,NBf1],\n",
    "    'Accuracy' : [LRac,KNNac,DTac,NBac]\n",
    "}\n",
    "plotdata = pd.DataFrame(data)\n",
    "fig = px.bar(plotdata.melt(id_vars='Classifier',var_name='Parameter',value_name='Value'), \n",
    "             x='Value', y = 'Classifier', \n",
    "             color='Parameter',\n",
    "             barmode='group',\n",
    "             text='Value',\n",
    "             labels='Parameter')\n",
    "\n",
    "\n",
    "fig.update_layout(title='Model Parameters Graph',yaxis_title='Classifiers',hoverlabel=dict(bgcolor='mistyrose', font_size=15),height=600)\n",
    "fig.show()"
   ]
  }
 ],
 "metadata": {
  "kernelspec": {
   "display_name": "Python 3",
   "language": "python",
   "name": "python3"
  },
  "language_info": {
   "codemirror_mode": {
    "name": "ipython",
    "version": 3
   },
   "file_extension": ".py",
   "mimetype": "text/x-python",
   "name": "python",
   "nbconvert_exporter": "python",
   "pygments_lexer": "ipython3",
   "version": "3.11.2"
  },
  "orig_nbformat": 4,
  "vscode": {
   "interpreter": {
    "hash": "ebfc0a8d552866b0d59eba665220a57de3bc06f3ac643b8bef38dd8f66781fdd"
   }
  }
 },
 "nbformat": 4,
 "nbformat_minor": 2
}
